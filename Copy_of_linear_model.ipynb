{
  "nbformat": 4,
  "nbformat_minor": 0,
  "metadata": {
    "colab": {
      "name": "Copy of linear_model.ipynb",
      "version": "0.3.2",
      "provenance": [],
      "collapsed_sections": [],
      "include_colab_link": true
    },
    "kernelspec": {
      "name": "python3",
      "display_name": "Python 3"
    }
  },
  "cells": [
    {
      "cell_type": "markdown",
      "metadata": {
        "id": "view-in-github",
        "colab_type": "text"
      },
      "source": [
        "<a href=\"https://colab.research.google.com/github/nalika/NLP/blob/master/Copy_of_linear_model.ipynb\" target=\"_parent\"><img src=\"https://colab.research.google.com/assets/colab-badge.svg\" alt=\"Open In Colab\"/></a>"
      ]
    },
    {
      "cell_type": "markdown",
      "metadata": {
        "id": "3_0UtDYAj54t",
        "colab_type": "text"
      },
      "source": [
        "# Linear Regression Example\n",
        "\n",
        "    --------\n",
        "\n",
        "    X = np.array([[1, 1], [1, 2], [2, 2], [2, 3]])\n",
        "    X = [[1, 1],\n",
        "               [1, 2],\n",
        "               [2, 2],\n",
        "               [2, 3]]\n",
        "               \n",
        "   And the target Y is interpreted as a linear formula of the features of X\n",
        "   y = C_0 * x_0 + C_1 * x_1 + b\n",
        "   \n",
        "y = np.dot(X, np.array([1, 2])) + 3\n",
        "\n",
        "\n",
        "---\n",
        "\n"
      ]
    },
    {
      "cell_type": "code",
      "metadata": {
        "id": "Aav_QHd5ZRUt",
        "colab_type": "code",
        "colab": {}
      },
      "source": [
        "import numpy as np\n",
        "import pandas as pd # data processing, CSV file I/O (e.g. pd.read_csv)\n",
        "from keras.models import Sequential\n",
        "from keras.layers import Dense\n",
        "from keras.wrappers.scikit_learn import KerasRegressor\n",
        "from sklearn.model_selection import cross_val_score\n",
        "from sklearn.model_selection import KFold\n",
        "from sklearn.preprocessing import StandardScaler\n",
        "from sklearn.pipeline import Pipeline\n",
        "\n",
        "from sklearn import linear_model\n",
        "from sklearn.model_selection import train_test_split\n",
        "from sklearn.metrics import mean_squared_error, r2_score\n",
        "\n",
        "import matplotlib.pyplot as plt\n"
      ],
      "execution_count": 0,
      "outputs": []
    },
    {
      "cell_type": "markdown",
      "metadata": {
        "id": "F-JNX8n2UY6K",
        "colab_type": "text"
      },
      "source": [
        "# Data loading"
      ]
    },
    {
      "cell_type": "code",
      "metadata": {
        "id": "d4tch9DzZ00r",
        "colab_type": "code",
        "outputId": "be3a2227-bdf2-4b1a-92a1-bb42b3c0c81c",
        "colab": {
          "resources": {
            "http://localhost:8080/nbextensions/google.colab/files.js": {
              "data": "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",
              "ok": true,
              "headers": [
                [
                  "content-type",
                  "application/javascript"
                ]
              ],
              "status": 200,
              "status_text": ""
            }
          },
          "base_uri": "https://localhost:8080/",
          "height": 75
        }
      },
      "source": [
        "import io\n",
        "\n",
        "from google.colab import files\n",
        "uploaded = files.upload()\n",
        "\n"
      ],
      "execution_count": 0,
      "outputs": [
        {
          "output_type": "display_data",
          "data": {
            "text/html": [
              "\n",
              "     <input type=\"file\" id=\"files-525279e8-49ab-42de-8898-608b89a8e8ee\" name=\"files[]\" multiple disabled />\n",
              "     <output id=\"result-525279e8-49ab-42de-8898-608b89a8e8ee\">\n",
              "      Upload widget is only available when the cell has been executed in the\n",
              "      current browser session. Please rerun this cell to enable.\n",
              "      </output>\n",
              "      <script src=\"/nbextensions/google.colab/files.js\"></script> "
            ],
            "text/plain": [
              "<IPython.core.display.HTML object>"
            ]
          },
          "metadata": {
            "tags": []
          }
        },
        {
          "output_type": "stream",
          "text": [
            "Saving housing.csv to housing.csv\n"
          ],
          "name": "stdout"
        }
      ]
    },
    {
      "cell_type": "markdown",
      "metadata": {
        "id": "UYGwyufpUwG_",
        "colab_type": "text"
      },
      "source": [
        "### Load dataset: Remember the data to sequence arrangement. In this example, we consider the loaded data as already arranged into sequence. **So, can you figure out the the window size that used to to make the sequence?**\n",
        "\n",
        "---\n",
        "\n",
        "\n"
      ]
    },
    {
      "cell_type": "code",
      "metadata": {
        "id": "LthjPvXH7jAh",
        "colab_type": "code",
        "colab": {}
      },
      "source": [
        "\n",
        "dataframe = pd.read_csv(\"housing.csv\", delim_whitespace=True, header=None)\n",
        "dataset = dataframe.values\n",
        "# split into input (X) and output (Y) variables\n",
        "\n",
        "\n",
        "X = dataset[:,0:13] \n",
        "Y = dataset[:,13]"
      ],
      "execution_count": 0,
      "outputs": []
    },
    {
      "cell_type": "code",
      "metadata": {
        "id": "uZLN3TDKbKoh",
        "colab_type": "code",
        "outputId": "ec1de9b5-93e1-42e0-e32f-3c8807d012b7",
        "colab": {
          "base_uri": "https://localhost:8080/",
          "height": 35
        }
      },
      "source": [
        "X[0,12], Y[0]"
      ],
      "execution_count": 0,
      "outputs": [
        {
          "output_type": "execute_result",
          "data": {
            "text/plain": [
              "(4.98, 24.0)"
            ]
          },
          "metadata": {
            "tags": []
          },
          "execution_count": 25
        }
      ]
    },
    {
      "cell_type": "code",
      "metadata": {
        "id": "8L9oONRi-ylo",
        "colab_type": "code",
        "outputId": "014b8c4d-1068-4603-df71-e0ef4e16578f",
        "colab": {
          "base_uri": "https://localhost:8080/",
          "height": 198
        }
      },
      "source": [
        "dataframe.head()"
      ],
      "execution_count": 0,
      "outputs": [
        {
          "output_type": "execute_result",
          "data": {
            "text/html": [
              "<div>\n",
              "<style scoped>\n",
              "    .dataframe tbody tr th:only-of-type {\n",
              "        vertical-align: middle;\n",
              "    }\n",
              "\n",
              "    .dataframe tbody tr th {\n",
              "        vertical-align: top;\n",
              "    }\n",
              "\n",
              "    .dataframe thead th {\n",
              "        text-align: right;\n",
              "    }\n",
              "</style>\n",
              "<table border=\"1\" class=\"dataframe\">\n",
              "  <thead>\n",
              "    <tr style=\"text-align: right;\">\n",
              "      <th></th>\n",
              "      <th>0</th>\n",
              "      <th>1</th>\n",
              "      <th>2</th>\n",
              "      <th>3</th>\n",
              "      <th>4</th>\n",
              "      <th>5</th>\n",
              "      <th>6</th>\n",
              "      <th>7</th>\n",
              "      <th>8</th>\n",
              "      <th>9</th>\n",
              "      <th>10</th>\n",
              "      <th>11</th>\n",
              "      <th>12</th>\n",
              "      <th>13</th>\n",
              "    </tr>\n",
              "  </thead>\n",
              "  <tbody>\n",
              "    <tr>\n",
              "      <th>0</th>\n",
              "      <td>0.00632</td>\n",
              "      <td>18.0</td>\n",
              "      <td>2.31</td>\n",
              "      <td>0</td>\n",
              "      <td>0.538</td>\n",
              "      <td>6.575</td>\n",
              "      <td>65.2</td>\n",
              "      <td>4.0900</td>\n",
              "      <td>1</td>\n",
              "      <td>296.0</td>\n",
              "      <td>15.3</td>\n",
              "      <td>396.90</td>\n",
              "      <td>4.98</td>\n",
              "      <td>24.0</td>\n",
              "    </tr>\n",
              "    <tr>\n",
              "      <th>1</th>\n",
              "      <td>0.02731</td>\n",
              "      <td>0.0</td>\n",
              "      <td>7.07</td>\n",
              "      <td>0</td>\n",
              "      <td>0.469</td>\n",
              "      <td>6.421</td>\n",
              "      <td>78.9</td>\n",
              "      <td>4.9671</td>\n",
              "      <td>2</td>\n",
              "      <td>242.0</td>\n",
              "      <td>17.8</td>\n",
              "      <td>396.90</td>\n",
              "      <td>9.14</td>\n",
              "      <td>21.6</td>\n",
              "    </tr>\n",
              "    <tr>\n",
              "      <th>2</th>\n",
              "      <td>0.02729</td>\n",
              "      <td>0.0</td>\n",
              "      <td>7.07</td>\n",
              "      <td>0</td>\n",
              "      <td>0.469</td>\n",
              "      <td>7.185</td>\n",
              "      <td>61.1</td>\n",
              "      <td>4.9671</td>\n",
              "      <td>2</td>\n",
              "      <td>242.0</td>\n",
              "      <td>17.8</td>\n",
              "      <td>392.83</td>\n",
              "      <td>4.03</td>\n",
              "      <td>34.7</td>\n",
              "    </tr>\n",
              "    <tr>\n",
              "      <th>3</th>\n",
              "      <td>0.03237</td>\n",
              "      <td>0.0</td>\n",
              "      <td>2.18</td>\n",
              "      <td>0</td>\n",
              "      <td>0.458</td>\n",
              "      <td>6.998</td>\n",
              "      <td>45.8</td>\n",
              "      <td>6.0622</td>\n",
              "      <td>3</td>\n",
              "      <td>222.0</td>\n",
              "      <td>18.7</td>\n",
              "      <td>394.63</td>\n",
              "      <td>2.94</td>\n",
              "      <td>33.4</td>\n",
              "    </tr>\n",
              "    <tr>\n",
              "      <th>4</th>\n",
              "      <td>0.06905</td>\n",
              "      <td>0.0</td>\n",
              "      <td>2.18</td>\n",
              "      <td>0</td>\n",
              "      <td>0.458</td>\n",
              "      <td>7.147</td>\n",
              "      <td>54.2</td>\n",
              "      <td>6.0622</td>\n",
              "      <td>3</td>\n",
              "      <td>222.0</td>\n",
              "      <td>18.7</td>\n",
              "      <td>396.90</td>\n",
              "      <td>5.33</td>\n",
              "      <td>36.2</td>\n",
              "    </tr>\n",
              "  </tbody>\n",
              "</table>\n",
              "</div>"
            ],
            "text/plain": [
              "        0     1     2   3      4      5   ...  8      9     10      11    12    13\n",
              "0  0.00632  18.0  2.31   0  0.538  6.575  ...   1  296.0  15.3  396.90  4.98  24.0\n",
              "1  0.02731   0.0  7.07   0  0.469  6.421  ...   2  242.0  17.8  396.90  9.14  21.6\n",
              "2  0.02729   0.0  7.07   0  0.469  7.185  ...   2  242.0  17.8  392.83  4.03  34.7\n",
              "3  0.03237   0.0  2.18   0  0.458  6.998  ...   3  222.0  18.7  394.63  2.94  33.4\n",
              "4  0.06905   0.0  2.18   0  0.458  7.147  ...   3  222.0  18.7  396.90  5.33  36.2\n",
              "\n",
              "[5 rows x 14 columns]"
            ]
          },
          "metadata": {
            "tags": []
          },
          "execution_count": 26
        }
      ]
    },
    {
      "cell_type": "code",
      "metadata": {
        "id": "4CuIc-02_ClQ",
        "colab_type": "code",
        "outputId": "71a11d2a-c553-40d7-d40c-92b219ce4b7a",
        "colab": {
          "base_uri": "https://localhost:8080/",
          "height": 35
        }
      },
      "source": [
        "dataframe.size"
      ],
      "execution_count": 0,
      "outputs": [
        {
          "output_type": "execute_result",
          "data": {
            "text/plain": [
              "7084"
            ]
          },
          "metadata": {
            "tags": []
          },
          "execution_count": 28
        }
      ]
    },
    {
      "cell_type": "markdown",
      "metadata": {
        "id": "4QSJiJau_Pt8",
        "colab_type": "text"
      },
      "source": [
        "# **Train and test dataset split**"
      ]
    },
    {
      "cell_type": "code",
      "metadata": {
        "id": "rZju-lfU_arU",
        "colab_type": "code",
        "outputId": "99b7f0d2-8001-455a-e240-a8fe893b634c",
        "colab": {
          "base_uri": "https://localhost:8080/",
          "height": 35
        }
      },
      "source": [
        "x_train, x_test, y_train, y_test = train_test_split(X, Y, test_size=0.1)\n",
        "x_train.size, x_test.size"
      ],
      "execution_count": 0,
      "outputs": [
        {
          "output_type": "execute_result",
          "data": {
            "text/plain": [
              "(5915, 663)"
            ]
          },
          "metadata": {
            "tags": []
          },
          "execution_count": 37
        }
      ]
    },
    {
      "cell_type": "markdown",
      "metadata": {
        "id": "xVoY1mE3RZkV",
        "colab_type": "text"
      },
      "source": [
        "# **Training**"
      ]
    },
    {
      "cell_type": "code",
      "metadata": {
        "id": "LzOcqyRjDLOp",
        "colab_type": "code",
        "colab": {}
      },
      "source": [
        "model = linear_model.LinearRegression() # # Create linear regression object\n",
        "model.fit(x_train, y_train)\n"
      ],
      "execution_count": 0,
      "outputs": []
    },
    {
      "cell_type": "markdown",
      "metadata": {
        "id": "NGN6Hg9oRSwl",
        "colab_type": "text"
      },
      "source": [
        "# Testing"
      ]
    },
    {
      "cell_type": "code",
      "metadata": {
        "id": "PgqRmnnoDT2D",
        "colab_type": "code",
        "outputId": "429eddfb-ed47-4cda-b443-d64779b52d24",
        "colab": {
          "base_uri": "https://localhost:8080/",
          "height": 145
        }
      },
      "source": [
        "predicted = model.predict(x_test)\n",
        "print('Coefficients: \\n', model.coef_)\n",
        "print(\"Mean squared error: %.2f\" \n",
        "      % mean_squared_error(y_test, predicted))\n",
        "print('Variance score: %.2f' % r2_score(y_test, predicted))"
      ],
      "execution_count": 0,
      "outputs": [
        {
          "output_type": "stream",
          "text": [
            "Coefficients: \n",
            " [-1.09081768e-01  4.21434664e-02  7.17065798e-03  2.74999578e+00\n",
            " -1.84461880e+01  3.80287228e+00 -3.85144429e-03 -1.56617797e+00\n",
            "  2.86201970e-01 -1.19604292e-02 -9.14818715e-01  7.03031271e-03\n",
            " -5.17555027e-01]\n",
            "Mean squared error: 26.27\n",
            "Variance score: 0.68\n"
          ],
          "name": "stdout"
        }
      ]
    },
    {
      "cell_type": "code",
      "metadata": {
        "id": "LjjS2KlLRo5O",
        "colab_type": "code",
        "outputId": "63dfbc11-0307-4ecf-a779-367cfc83e5de",
        "colab": {
          "base_uri": "https://localhost:8080/",
          "height": 269
        }
      },
      "source": [
        "#predicted, y_test\n",
        "\n",
        "plt.plot(predicted, color='blue')\n",
        "plt.plot(y_test, color='red')\n",
        "plt.show()"
      ],
      "execution_count": 0,
      "outputs": [
        {
          "output_type": "display_data",
          "data": {
            "image/png": "[encoded data removed]",
            "text/plain": [
              "<Figure size 432x288 with 1 Axes>"
            ]
          },
          "metadata": {
            "tags": []
          }
        }
      ]
    },
    {
      "cell_type": "markdown",
      "metadata": {
        "id": "rGgCQ7Ng-inF",
        "colab_type": "text"
      },
      "source": [
        "\n",
        "\n",
        "\n",
        "\n",
        "\n",
        "# Let's do it with Keras"
      ]
    },
    {
      "cell_type": "markdown",
      "metadata": {
        "id": "rBE3WmoB_MG2",
        "colab_type": "text"
      },
      "source": [
        "**Develop a Baseline Neural Network Model for the Regression Problem**"
      ]
    },
    {
      "cell_type": "code",
      "metadata": {
        "id": "7QrAZg95_U1-",
        "colab_type": "code",
        "outputId": "d2eeeb0f-5a00-44d1-a3b1-55723530c070",
        "colab": {
          "base_uri": "https://localhost:8080/",
          "height": 35
        }
      },
      "source": [
        "\n",
        "import numpy\n",
        "import pandas\n",
        "from keras.models import Sequential\n",
        "from keras.layers import Dense\n",
        "from keras.wrappers.scikit_learn import KerasRegressor\n",
        "from sklearn.model_selection import cross_val_score\n",
        "from sklearn.model_selection import KFold\n",
        "from sklearn.preprocessing import StandardScaler\n",
        "from sklearn.pipeline import Pipeline\n"
      ],
      "execution_count": 0,
      "outputs": [
        {
          "output_type": "stream",
          "text": [
            "Using TensorFlow backend.\n"
          ],
          "name": "stderr"
        }
      ]
    },
    {
      "cell_type": "markdown",
      "metadata": {
        "id": "T2p62ahIC3Yb",
        "colab_type": "text"
      },
      "source": [
        "**Load dataset**\n",
        "\n",
        "---\n",
        "\n",
        "**Step 1**- Mount your Google Drive to Collaboratory"
      ]
    },
    {
      "cell_type": "code",
      "metadata": {
        "id": "cnrk3kQmAQ0A",
        "colab_type": "code",
        "outputId": "3cf33caf-fdbb-4cd8-8c3e-3fd44300481d",
        "colab": {
          "base_uri": "https://localhost:8080/",
          "height": 128
        }
      },
      "source": [
        "from google.colab import drive \n",
        "drive.mount('/content/gdrive')"
      ],
      "execution_count": 0,
      "outputs": [
        {
          "output_type": "stream",
          "text": [
            "Go to this URL in a browser: https://accounts.google.com/o/oauth2/auth?client_id=947318989803-6bn6qk8qdgf4n4g3pfee6491hc0brc4i.apps.googleusercontent.com&redirect_uri=urn%3Aietf%3Awg%3Aoauth%3A2.0%3Aoob&scope=email%20https%3A%2F%2Fwww.googleapis.com%2Fauth%2Fdocs.test%20https%3A%2F%2Fwww.googleapis.com%2Fauth%2Fdrive%20https%3A%2F%2Fwww.googleapis.com%2Fauth%2Fdrive.photos.readonly%20https%3A%2F%2Fwww.googleapis.com%2Fauth%2Fpeopleapi.readonly&response_type=code\n",
            "\n",
            "Enter your authorization code:\n",
            "··········\n",
            "Mounted at /content/gdrive\n"
          ],
          "name": "stdout"
        }
      ]
    },
    {
      "cell_type": "code",
      "metadata": {
        "id": "22qgblrZ-sMr",
        "colab_type": "code",
        "colab": {}
      },
      "source": [
        "# load dataset \n",
        "\n",
        "dataframe = pandas.read_csv('gdrive/My Drive/Colab Notebooks/housing.csv', delim_whitespace=True, header=None)\n",
        "dataset = dataframe.values\n",
        "# split into input (X) and output (Y) variables\n",
        "X = dataset[:,0:13]\n",
        "Y = dataset[:,13]"
      ],
      "execution_count": 0,
      "outputs": []
    },
    {
      "cell_type": "code",
      "metadata": {
        "id": "m7CQSqlnD268",
        "colab_type": "code",
        "outputId": "230e442b-37d4-4c42-b16f-7aae7043c024",
        "colab": {
          "base_uri": "https://localhost:8080/",
          "height": 90
        }
      },
      "source": [
        "# Check dataset\n",
        "print(X.shape, Y.shape)\n",
        "# Check a random sequence\n",
        "print(X[10], Y[10])"
      ],
      "execution_count": 0,
      "outputs": [
        {
          "output_type": "stream",
          "text": [
            "(506, 13) (506,)\n",
            "[2.2489e-01 1.2500e+01 7.8700e+00 0.0000e+00 5.2400e-01 6.3770e+00\n",
            " 9.4300e+01 6.3467e+00 5.0000e+00 3.1100e+02 1.5200e+01 3.9252e+02\n",
            " 2.0450e+01] 15.0\n"
          ],
          "name": "stdout"
        }
      ]
    },
    {
      "cell_type": "code",
      "metadata": {
        "id": "qQTognPSEbht",
        "colab_type": "code",
        "colab": {}
      },
      "source": [
        "\n",
        "# A simple model\n",
        "def baseline_model():\n",
        "\t# create model\n",
        "\tmodel = Sequential()\n",
        "\tmodel.add(Dense(13, input_dim=13, kernel_initializer='normal', activation='relu'))\n",
        "\tmodel.add(Dense(1, kernel_initializer='normal'))\n",
        "\t\n",
        "  # Compile model\n",
        "\tmodel.compile(loss='mean_squared_error', optimizer='adam')\n",
        "\treturn model\n"
      ],
      "execution_count": 0,
      "outputs": []
    },
    {
      "cell_type": "markdown",
      "metadata": {
        "id": "6GivuiSXEjCh",
        "colab_type": "text"
      },
      "source": [
        "**Note**:  \n",
        "1. A single densely connected hidden layer with the same number of neurons as input attributes (13). \n",
        "2. Rectifier activation function for the hidden layer. \n",
        "3. No activation function is used for the output layer because it is a regression problem (predicting numerical values directly without transformation).\n",
        "4. The ADAM optimizer is used and a mean squared error loss function is optimized. This will be the same metric that we will use to evaluate the performance of the model. "
      ]
    },
    {
      "cell_type": "code",
      "metadata": {
        "id": "T9url567GaKj",
        "colab_type": "code",
        "outputId": "e2382419-8126-451f-b207-7f63427d0b67",
        "colab": {
          "base_uri": "https://localhost:8080/",
          "height": 35
        }
      },
      "source": [
        "# fix random seed for reproducibility\n",
        "seed = 7\n",
        "numpy.random.seed(seed)\n",
        "\n",
        "from sklearn.model_selection import train_test_split\n",
        "x_train, x_test, y_train, y_test = train_test_split(X, Y, test_size=0.1)\n",
        "\n",
        "# get dataset dimension\n",
        "x_train.shape, y_train.shape, x_test.shape, y_test.shape"
      ],
      "execution_count": 0,
      "outputs": [
        {
          "output_type": "execute_result",
          "data": {
            "text/plain": [
              "((455, 13), (455,), (51, 13), (51,))"
            ]
          },
          "metadata": {
            "tags": []
          },
          "execution_count": 32
        }
      ]
    },
    {
      "cell_type": "markdown",
      "metadata": {
        "id": "K_bPrzZFIIeo",
        "colab_type": "text"
      },
      "source": [
        "**Training**:  Keras models are trained on Numpy arrays of input data and labels. For training a model, you will typically use the fit function."
      ]
    },
    {
      "cell_type": "code",
      "metadata": {
        "id": "Ef4rN_KHIMjN",
        "colab_type": "code",
        "outputId": "301aa11b-f4e2-43f8-e8a3-9cdf1e85fc0f",
        "colab": {
          "base_uri": "https://localhost:8080/",
          "height": 3672
        }
      },
      "source": [
        "# Train the model, iterating on the data in batches of 5 samples\n",
        "model = baseline_model()\n",
        "model.fit(x_train, y_train, epochs=100, batch_size=5)"
      ],
      "execution_count": 0,
      "outputs": [
        {
          "output_type": "stream",
          "text": [
            "Epoch 1/100\n",
            "455/455 [==============================] - 0s 669us/step - loss: 400.3846\n",
            "Epoch 2/100\n",
            "455/455 [==============================] - 0s 261us/step - loss: 118.1711\n",
            "Epoch 3/100\n",
            "455/455 [==============================] - 0s 181us/step - loss: 90.7274\n",
            "Epoch 4/100\n",
            "455/455 [==============================] - 0s 191us/step - loss: 76.0759\n",
            "Epoch 5/100\n",
            "455/455 [==============================] - 0s 203us/step - loss: 70.7809\n",
            "Epoch 6/100\n",
            "455/455 [==============================] - 0s 186us/step - loss: 68.2236\n",
            "Epoch 7/100\n",
            "455/455 [==============================] - 0s 185us/step - loss: 65.1711\n",
            "Epoch 8/100\n",
            "455/455 [==============================] - 0s 184us/step - loss: 63.6135\n",
            "Epoch 9/100\n",
            "455/455 [==============================] - 0s 192us/step - loss: 62.0646\n",
            "Epoch 10/100\n",
            "455/455 [==============================] - 0s 210us/step - loss: 62.1541\n",
            "Epoch 11/100\n",
            "455/455 [==============================] - 0s 192us/step - loss: 59.3111\n",
            "Epoch 12/100\n",
            "455/455 [==============================] - 0s 190us/step - loss: 57.5547\n",
            "Epoch 13/100\n",
            "455/455 [==============================] - 0s 203us/step - loss: 56.6099\n",
            "Epoch 14/100\n",
            "455/455 [==============================] - 0s 181us/step - loss: 53.9451\n",
            "Epoch 15/100\n",
            "455/455 [==============================] - 0s 207us/step - loss: 51.5726\n",
            "Epoch 16/100\n",
            "455/455 [==============================] - 0s 246us/step - loss: 53.0286\n",
            "Epoch 17/100\n",
            "455/455 [==============================] - 0s 194us/step - loss: 49.1015\n",
            "Epoch 18/100\n",
            "455/455 [==============================] - 0s 186us/step - loss: 47.5293\n",
            "Epoch 19/100\n",
            "455/455 [==============================] - 0s 185us/step - loss: 46.1244\n",
            "Epoch 20/100\n",
            "455/455 [==============================] - 0s 183us/step - loss: 44.9257\n",
            "Epoch 21/100\n",
            "455/455 [==============================] - 0s 187us/step - loss: 42.7719\n",
            "Epoch 22/100\n",
            "455/455 [==============================] - 0s 197us/step - loss: 41.3212\n",
            "Epoch 23/100\n",
            "455/455 [==============================] - 0s 181us/step - loss: 39.3085\n",
            "Epoch 24/100\n",
            "455/455 [==============================] - 0s 177us/step - loss: 39.2707\n",
            "Epoch 25/100\n",
            "455/455 [==============================] - 0s 187us/step - loss: 37.9083\n",
            "Epoch 26/100\n",
            "455/455 [==============================] - 0s 185us/step - loss: 38.6562\n",
            "Epoch 27/100\n",
            "455/455 [==============================] - 0s 189us/step - loss: 36.7563\n",
            "Epoch 28/100\n",
            "455/455 [==============================] - 0s 186us/step - loss: 35.4616\n",
            "Epoch 29/100\n",
            "455/455 [==============================] - 0s 200us/step - loss: 35.5602\n",
            "Epoch 30/100\n",
            "455/455 [==============================] - 0s 182us/step - loss: 34.4064\n",
            "Epoch 31/100\n",
            "455/455 [==============================] - 0s 180us/step - loss: 33.5200\n",
            "Epoch 32/100\n",
            "455/455 [==============================] - 0s 178us/step - loss: 32.8347\n",
            "Epoch 33/100\n",
            "455/455 [==============================] - 0s 187us/step - loss: 32.3979\n",
            "Epoch 34/100\n",
            "455/455 [==============================] - 0s 182us/step - loss: 32.9430\n",
            "Epoch 35/100\n",
            "455/455 [==============================] - 0s 174us/step - loss: 33.3120\n",
            "Epoch 36/100\n",
            "455/455 [==============================] - 0s 180us/step - loss: 33.0116\n",
            "Epoch 37/100\n",
            "455/455 [==============================] - 0s 194us/step - loss: 31.4404\n",
            "Epoch 38/100\n",
            "455/455 [==============================] - 0s 190us/step - loss: 31.5862\n",
            "Epoch 39/100\n",
            "455/455 [==============================] - 0s 182us/step - loss: 30.4926\n",
            "Epoch 40/100\n",
            "455/455 [==============================] - 0s 180us/step - loss: 31.3355\n",
            "Epoch 41/100\n",
            "455/455 [==============================] - 0s 188us/step - loss: 30.1913\n",
            "Epoch 42/100\n",
            "455/455 [==============================] - 0s 191us/step - loss: 29.5033\n",
            "Epoch 43/100\n",
            "455/455 [==============================] - 0s 182us/step - loss: 30.4429\n",
            "Epoch 44/100\n",
            "455/455 [==============================] - 0s 183us/step - loss: 28.7607\n",
            "Epoch 45/100\n",
            "455/455 [==============================] - 0s 182us/step - loss: 27.9395\n",
            "Epoch 46/100\n",
            "455/455 [==============================] - 0s 185us/step - loss: 28.1620\n",
            "Epoch 47/100\n",
            "455/455 [==============================] - 0s 189us/step - loss: 28.2067\n",
            "Epoch 48/100\n",
            "455/455 [==============================] - 0s 190us/step - loss: 26.8327\n",
            "Epoch 49/100\n",
            "455/455 [==============================] - 0s 183us/step - loss: 27.7757\n",
            "Epoch 50/100\n",
            "455/455 [==============================] - 0s 179us/step - loss: 27.1192\n",
            "Epoch 51/100\n",
            "455/455 [==============================] - 0s 185us/step - loss: 27.9492\n",
            "Epoch 52/100\n",
            "455/455 [==============================] - 0s 184us/step - loss: 26.3658\n",
            "Epoch 53/100\n",
            "455/455 [==============================] - 0s 189us/step - loss: 26.5022\n",
            "Epoch 54/100\n",
            "455/455 [==============================] - 0s 177us/step - loss: 27.2397\n",
            "Epoch 55/100\n",
            "455/455 [==============================] - 0s 189us/step - loss: 27.6545\n",
            "Epoch 56/100\n",
            "455/455 [==============================] - 0s 184us/step - loss: 25.2619\n",
            "Epoch 57/100\n",
            "455/455 [==============================] - 0s 186us/step - loss: 25.3801\n",
            "Epoch 58/100\n",
            "455/455 [==============================] - 0s 184us/step - loss: 25.2791\n",
            "Epoch 59/100\n",
            "455/455 [==============================] - 0s 182us/step - loss: 25.4911\n",
            "Epoch 60/100\n",
            "455/455 [==============================] - 0s 191us/step - loss: 25.3754\n",
            "Epoch 61/100\n",
            "455/455 [==============================] - 0s 174us/step - loss: 24.3056\n",
            "Epoch 62/100\n",
            "455/455 [==============================] - 0s 185us/step - loss: 25.4076\n",
            "Epoch 63/100\n",
            "455/455 [==============================] - 0s 180us/step - loss: 24.8666\n",
            "Epoch 64/100\n",
            "455/455 [==============================] - 0s 182us/step - loss: 23.6905\n",
            "Epoch 65/100\n",
            "455/455 [==============================] - 0s 192us/step - loss: 23.9448\n",
            "Epoch 66/100\n",
            "455/455 [==============================] - 0s 185us/step - loss: 23.7064\n",
            "Epoch 67/100\n",
            "455/455 [==============================] - 0s 184us/step - loss: 25.0281\n",
            "Epoch 68/100\n",
            "455/455 [==============================] - 0s 183us/step - loss: 24.9411\n",
            "Epoch 69/100\n",
            "455/455 [==============================] - 0s 190us/step - loss: 24.8541\n",
            "Epoch 70/100\n",
            "455/455 [==============================] - 0s 191us/step - loss: 22.5885\n",
            "Epoch 71/100\n",
            "455/455 [==============================] - 0s 196us/step - loss: 23.9813\n",
            "Epoch 72/100\n",
            "455/455 [==============================] - 0s 183us/step - loss: 23.6527\n",
            "Epoch 73/100\n",
            "455/455 [==============================] - 0s 183us/step - loss: 23.3281\n",
            "Epoch 74/100\n",
            "455/455 [==============================] - 0s 202us/step - loss: 23.5763\n",
            "Epoch 75/100\n",
            "455/455 [==============================] - 0s 185us/step - loss: 23.5486\n",
            "Epoch 76/100\n",
            "455/455 [==============================] - 0s 184us/step - loss: 22.2621\n",
            "Epoch 77/100\n",
            "455/455 [==============================] - 0s 185us/step - loss: 22.4427\n",
            "Epoch 78/100\n",
            "455/455 [==============================] - 0s 195us/step - loss: 23.0726\n",
            "Epoch 79/100\n",
            "455/455 [==============================] - 0s 189us/step - loss: 21.9292\n",
            "Epoch 80/100\n",
            "455/455 [==============================] - 0s 187us/step - loss: 22.4995\n",
            "Epoch 81/100\n",
            "455/455 [==============================] - 0s 190us/step - loss: 21.5719\n",
            "Epoch 82/100\n",
            "455/455 [==============================] - 0s 189us/step - loss: 23.1325\n",
            "Epoch 83/100\n",
            "455/455 [==============================] - 0s 183us/step - loss: 22.1272\n",
            "Epoch 84/100\n",
            "455/455 [==============================] - 0s 180us/step - loss: 21.0948\n",
            "Epoch 85/100\n",
            "455/455 [==============================] - 0s 184us/step - loss: 22.2233\n",
            "Epoch 86/100\n",
            "455/455 [==============================] - 0s 191us/step - loss: 21.8051\n",
            "Epoch 87/100\n",
            "455/455 [==============================] - 0s 185us/step - loss: 22.1036\n",
            "Epoch 88/100\n",
            "455/455 [==============================] - 0s 184us/step - loss: 22.1972\n",
            "Epoch 89/100\n",
            "455/455 [==============================] - 0s 184us/step - loss: 21.4107\n",
            "Epoch 90/100\n",
            "455/455 [==============================] - 0s 177us/step - loss: 21.3363\n",
            "Epoch 91/100\n",
            "455/455 [==============================] - 0s 194us/step - loss: 21.2781\n",
            "Epoch 92/100\n",
            "455/455 [==============================] - 0s 178us/step - loss: 20.6297\n",
            "Epoch 93/100\n",
            "455/455 [==============================] - 0s 183us/step - loss: 20.2311\n",
            "Epoch 94/100\n",
            "455/455 [==============================] - 0s 192us/step - loss: 20.9801\n",
            "Epoch 95/100\n",
            "455/455 [==============================] - 0s 177us/step - loss: 20.6625\n",
            "Epoch 96/100\n",
            "455/455 [==============================] - 0s 183us/step - loss: 20.5075\n",
            "Epoch 97/100\n",
            "455/455 [==============================] - 0s 216us/step - loss: 20.4736\n",
            "Epoch 98/100\n",
            "455/455 [==============================] - 0s 193us/step - loss: 20.5253\n",
            "Epoch 99/100\n",
            "455/455 [==============================] - 0s 182us/step - loss: 20.2286\n",
            "Epoch 100/100\n",
            "455/455 [==============================] - 0s 192us/step - loss: 21.1088\n"
          ],
          "name": "stdout"
        },
        {
          "output_type": "execute_result",
          "data": {
            "text/plain": [
              "<keras.callbacks.History at 0x7f831fc952b0>"
            ]
          },
          "metadata": {
            "tags": []
          },
          "execution_count": 42
        }
      ]
    },
    {
      "cell_type": "code",
      "metadata": {
        "id": "51bY3FujJWGH",
        "colab_type": "code",
        "outputId": "626e0a91-f27a-4060-8c17-837d5505af46",
        "colab": {
          "base_uri": "https://localhost:8080/",
          "height": 54
        }
      },
      "source": [
        "score = model.evaluate(x_test, y_test, batch_size=10)\n",
        "score"
      ],
      "execution_count": 0,
      "outputs": [
        {
          "output_type": "stream",
          "text": [
            "51/51 [==============================] - 0s 1ms/step\n"
          ],
          "name": "stdout"
        },
        {
          "output_type": "execute_result",
          "data": {
            "text/plain": [
              "14.033682823181152"
            ]
          },
          "metadata": {
            "tags": []
          },
          "execution_count": 43
        }
      ]
    },
    {
      "cell_type": "code",
      "metadata": {
        "id": "iME0_t32KkTu",
        "colab_type": "code",
        "outputId": "cafd7c2c-dac4-495d-f508-62765ea716dc",
        "colab": {
          "base_uri": "https://localhost:8080/",
          "height": 945
        }
      },
      "source": [
        "# make a prediction\n",
        "predicted = model.predict(x_test)\n",
        "# show the inputs and predicted outputs\n",
        "for i in range(len(x_test)):\n",
        "\tprint(\"X=%s, Predicted=%s\" % (x_test[i, 0:13:2], predicted[i]))"
      ],
      "execution_count": 0,
      "outputs": [
        {
          "output_type": "stream",
          "text": [
            "X=[ 3.8497 18.1     0.77   91.     24.     20.2    13.27  ], Predicted=[22.352518]\n",
            "X=[3.041e-02 5.190e+00 5.150e-01 5.960e+01 5.000e+00 2.020e+01 1.056e+01], Predicted=[22.90668]\n",
            "X=[ 0.24103  7.38     0.493   43.7      5.      19.6     12.79   ], Predicted=[20.62257]\n",
            "X=[ 0.62976  8.14     0.538   61.8      4.      21.       8.26   ], Predicted=[22.581987]\n",
            "X=[ 73.5341  18.1      0.679  100.      24.      20.2     20.62  ], Predicted=[7.1314955]\n",
            "X=[24.8017 18.1     0.693  96.     24.     20.2    19.77  ], Predicted=[12.241236]\n",
            "X=[14.3337 18.1     0.614  88.     24.     20.2    13.11  ], Predicted=[18.5482]\n",
            "X=[ 0.09178  4.05     0.51    84.1      5.      16.6      9.04   ], Predicted=[27.452837]\n",
            "X=[ 0.03584  3.37     0.398   17.8      4.      16.1      4.67   ], Predicted=[31.712841]\n",
            "X=[ 3.77498 18.1      0.655   84.7     24.      20.2     17.15   ], Predicted=[14.595091]\n",
            "X=[ 14.3337  18.1      0.7    100.      24.      20.2     30.62  ], Predicted=[10.786009]\n",
            "X=[ 0.41238  6.2      0.504   79.9      8.      17.4      6.36   ], Predicted=[31.49479]\n",
            "X=[  5.66637  18.1       0.74    100.       24.       20.2      16.59   ], Predicted=[17.876879]\n",
            "X=[ 0.26363  8.56     0.52    91.2      5.      20.9     15.55   ], Predicted=[19.441952]\n",
            "X=[1.538e-02 3.750e+00 3.940e-01 3.420e+01 3.000e+00 1.590e+01 3.110e+00], Predicted=[38.167458]\n",
            "X=[ 3.56868 18.1      0.58    75.      24.      20.2     14.36   ], Predicted=[18.628569]\n",
            "X=[3.537e-02 6.090e+00 4.330e-01 4.040e+01 7.000e+00 1.610e+01 9.500e+00], Predicted=[23.629139]\n",
            "X=[ 0.1    6.09   0.433 17.7    7.    16.1    4.86 ], Predicted=[31.89597]\n",
            "X=[ 1.38799  8.14     0.538   82.       4.      21.      27.71   ], Predicted=[5.1196475]\n",
            "X=[ 0.08199 13.92     0.437   42.3      4.      16.      10.4    ], Predicted=[21.93882]\n",
            "X=[ 4.87141 18.1      0.614   93.6     24.      20.2     18.68   ], Predicted=[16.813469]\n",
            "X=[6.076e-02 1.193e+01 5.730e-01 9.100e+01 1.000e+00 2.100e+01 5.640e+00], Predicted=[31.699036]\n",
            "X=[ 0.02177  2.03     0.415   15.7      2.      14.7      3.11   ], Predicted=[37.903793]\n",
            "X=[ 0.19133  5.86     0.431   70.2      7.      19.1     18.46   ], Predicted=[16.856766]\n",
            "X=[ 2.36862 19.58     0.871   95.7      5.      14.7     29.53   ], Predicted=[11.662718]\n",
            "X=[10.8342 18.1     0.679  90.8    24.     20.2    25.79  ], Predicted=[12.030421]\n",
            "X=[ 0.07503  2.18     0.472   71.9      7.      18.4      6.47   ], Predicted=[36.57451]\n",
            "X=[ 0.10959 11.93     0.573   89.3      1.      21.       6.48   ], Predicted=[28.597303]\n",
            "X=[ 0.14052 10.59     0.489   32.3      4.      18.6      9.38   ], Predicted=[22.112885]\n",
            "X=[ 0.04297  5.32     0.405   22.9      6.      16.6      9.51   ], Predicted=[22.022196]\n",
            "X=[ 3.83684 18.1      0.77    91.1     24.      20.2     14.19   ], Predicted=[17.04916]\n",
            "X=[4.417e-02 2.240e+00 4.000e-01 4.740e+01 5.000e+00 1.480e+01 6.070e+00], Predicted=[29.538673]\n",
            "X=[5.302e-02 3.410e+00 4.890e-01 6.310e+01 2.000e+00 1.780e+01 5.700e+00], Predicted=[32.21888]\n",
            "X=[ 4.75237 18.1      0.713   86.5     24.      20.2     18.13   ], Predicted=[14.736285]\n",
            "X=[ 0.5405  3.97    0.575  52.6     5.     13.      3.16  ], Predicted=[43.599022]\n",
            "X=[ 0.13058 10.01     0.547   73.1      6.      17.8     15.37   ], Predicted=[15.515306]\n",
            "X=[ 0.26838  9.69     0.585   70.6      6.      19.2     14.1    ], Predicted=[19.92136]\n",
            "X=[ 6.71772 18.1      0.713   92.6     24.      20.2     17.44   ], Predicted=[14.951666]\n",
            "X=[ 0.47547  9.9      0.544   58.8      4.      18.4     12.73   ], Predicted=[21.052767]\n",
            "X=[ 0.11329  4.93     0.428   54.3      6.      16.6     11.38   ], Predicted=[22.712156]\n",
            "X=[4.684e-02 3.410e+00 4.890e-01 6.610e+01 2.000e+00 1.780e+01 8.810e+00], Predicted=[24.326233]\n",
            "X=[15.288 18.1    0.671 93.3   24.    20.2   23.24 ], Predicted=[13.2221775]\n",
            "X=[ 0.2498 21.89    0.624  98.2     4.     21.2    21.32  ], Predicted=[16.204416]\n",
            "X=[ 0.11432  8.56     0.52    71.3      5.      20.9      7.67   ], Predicted=[26.22605]\n",
            "X=[ 6.80117 18.1      0.713   84.4     24.      20.2     14.7    ], Predicted=[18.001822]\n",
            "X=[ 9.33889 18.1      0.679   95.6     24.      20.2     24.08   ], Predicted=[12.900114]\n",
            "X=[ 0.26938  9.9      0.544   82.8      4.      18.4      7.9    ], Predicted=[26.040924]\n",
            "X=[ 4.26131 18.1      0.77    81.3     24.      20.2     12.67   ], Predicted=[19.969023]\n",
            "X=[ 3.53501 19.58     0.871   82.6      5.      14.7     15.02   ], Predicted=[11.945227]\n",
            "X=[ 13.5222  18.1      0.631  100.      24.      20.2     13.33  ], Predicted=[14.5382185]\n",
            "X=[ 0.05372 13.92     0.437   51.       4.      16.       7.39   ], Predicted=[23.536222]\n"
          ],
          "name": "stdout"
        }
      ]
    },
    {
      "cell_type": "code",
      "metadata": {
        "id": "EOgFFr4LMg8z",
        "colab_type": "code",
        "outputId": "d4983426-099e-40af-a3c3-221fb6068038",
        "colab": {
          "base_uri": "https://localhost:8080/",
          "height": 269
        }
      },
      "source": [
        "#predicted, y_test\n",
        "\n",
        "import matplotlib.pyplot as plt\n",
        "\n",
        "plt.plot(predicted, color='green')\n",
        "plt.plot(y_test, color='red')\n",
        "plt.show()"
      ],
      "execution_count": 0,
      "outputs": [
        {
          "output_type": "display_data",
          "data": {
            "image/png": "[encoded data removed]",
            "text/plain": [
              "<Figure size 432x288 with 1 Axes>"
            ]
          },
          "metadata": {
            "tags": []
          }
        }
      ]
    }
  ]
}