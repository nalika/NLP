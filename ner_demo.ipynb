{
  "nbformat": 4,
  "nbformat_minor": 0,
  "metadata": {
    "colab": {
      "name": "ner_demo.ipynb",
      "version": "0.3.2",
      "provenance": [],
      "include_colab_link": true
    },
    "kernelspec": {
      "name": "python3",
      "display_name": "Python 3"
    }
  },
  "cells": [
    {
      "cell_type": "markdown",
      "metadata": {
        "id": "view-in-github",
        "colab_type": "text"
      },
      "source": [
        "<a href=\"https://colab.research.google.com/github/nalika/NLP/blob/master/ner_demo.ipynb\" target=\"_parent\"><img src=\"https://colab.research.google.com/assets/colab-badge.svg\" alt=\"Open In Colab\"/></a>"
      ]
    },
    {
      "cell_type": "code",
      "metadata": {
        "id": "UPvQ2Hl-S0Ct",
        "colab_type": "code",
        "colab": {}
      },
      "source": [
        "article = '''\n",
        "Asian shares skidded on Tuesday after a rout in tech stocks put Wall Street to the sword, while a \n",
        "sharp drop in oil prices and political risks in Europe pushed the dollar to 16-month highs as investors dumped \n",
        "riskier assets. MSCI’s broadest index of Asia-Pacific shares outside Japan dropped 1.7 percent to a 1-1/2 \n",
        "week trough, with Australian shares sinking 1.6 percent. Japan’s Nikkei dived 3.1 percent led by losses in \n",
        "electric machinery makers and suppliers of Apple’s iphone parts. Sterling fell to $1.286 after three straight \n",
        "sessions of losses took it to the lowest since Nov.1 as there were still considerable unresolved issues with the\n",
        "European Union over Brexit, British Prime Minister Theresa May said on Monday.'''\n",
        "\n"
      ],
      "execution_count": 0,
      "outputs": []
    },
    {
      "cell_type": "code",
      "metadata": {
        "id": "Ksy_-gChTMfF",
        "colab_type": "code",
        "colab": {}
      },
      "source": [
        "#1. Tokenizing\n",
        "article_words = nltk.word_tokenize(article)\n",
        "\n",
        "#2.1. Remove punctuations\n",
        "punctuations=\"?:!.,;\"\n",
        "\n",
        "for word in article_words:\n",
        "    if word in punctuations:\n",
        "        article_words.remove(word)\n",
        "\n",
        "#article_words\n",
        "\n"
      ],
      "execution_count": 0,
      "outputs": []
    },
    {
      "cell_type": "code",
      "metadata": {
        "id": "gKdoArrZVjBJ",
        "colab_type": "code",
        "colab": {
          "base_uri": "https://localhost:8080/",
          "height": 34
        },
        "outputId": "d2b6a54c-3db0-4e84-f367-673e0c4ca54b"
      },
      "source": [
        "#2.2. Remove Stopwords\n",
        "# Get English stopwords and print some of them\n",
        "sw = nltk.corpus.stopwords.words('english')\n",
        "\n",
        "# Initialize new list\n",
        "words_ns = []\n",
        "\n",
        "# Add to words_ns all words that are in words but not in sw\n",
        "for word in article_words:\n",
        "    if word not in sw:\n",
        "        words_ns.append(word)\n",
        "        \n",
        "# Print several list items as sanity check\n",
        "words_ns[:8]"
      ],
      "execution_count": 10,
      "outputs": [
        {
          "output_type": "execute_result",
          "data": {
            "text/plain": [
              "['Asian', 'shares', 'skidded', 'Tuesday', 'rout', 'tech', 'stocks', 'put']"
            ]
          },
          "metadata": {
            "tags": []
          },
          "execution_count": 10
        }
      ]
    },
    {
      "cell_type": "code",
      "metadata": {
        "id": "2zm1AnDFUK_P",
        "colab_type": "code",
        "colab": {}
      },
      "source": [
        "#3. POS tagging\n",
        "article_pos = nltk.pos_tag(words_ns)\n"
      ],
      "execution_count": 0,
      "outputs": []
    },
    {
      "cell_type": "code",
      "metadata": {
        "id": "BdE39ypGUtid",
        "colab_type": "code",
        "colab": {
          "base_uri": "https://localhost:8080/",
          "height": 1601
        },
        "outputId": "03b686ba-8d33-4faa-e7d7-cc8e3ccd1dec"
      },
      "source": [
        "#4. NER\n",
        "nltk.download('words')\n",
        "nltk.download('maxent_ne_chunker')\n",
        "from nltk import ne_chunk\n",
        "\n",
        "article_ner = ne_chunk(article_pos)\n",
        "\n",
        "print(article_ner)"
      ],
      "execution_count": 12,
      "outputs": [
        {
          "output_type": "stream",
          "text": [
            "[nltk_data] Downloading package words to /root/nltk_data...\n",
            "[nltk_data]   Package words is already up-to-date!\n",
            "[nltk_data] Downloading package maxent_ne_chunker to\n",
            "[nltk_data]     /root/nltk_data...\n",
            "[nltk_data]   Package maxent_ne_chunker is already up-to-date!\n",
            "(S\n",
            "  (GPE Asian/JJ)\n",
            "  shares/NNS\n",
            "  skidded/VBD\n",
            "  Tuesday/NNP\n",
            "  rout/IN\n",
            "  tech/JJ\n",
            "  stocks/NNS\n",
            "  put/VBD\n",
            "  (FACILITY Wall/NNP Street/NNP)\n",
            "  sword/VBD\n",
            "  sharp/JJ\n",
            "  drop/NN\n",
            "  oil/NN\n",
            "  prices/NNS\n",
            "  political/JJ\n",
            "  risks/NNS\n",
            "  (PERSON Europe/NNP)\n",
            "  pushed/VBD\n",
            "  dollar/NN\n",
            "  16-month/JJ\n",
            "  highs/NNS\n",
            "  investors/NNS\n",
            "  dumped/VBD\n",
            "  riskier/JJR\n",
            "  assets/NNS\n",
            "  (ORGANIZATION MSCI/NNP)\n",
            "  ’/NNP\n",
            "  broadest/JJS\n",
            "  index/NN\n",
            "  Asia-Pacific/JJ\n",
            "  shares/NNS\n",
            "  outside/IN\n",
            "  (GPE Japan/NNP)\n",
            "  dropped/VBD\n",
            "  1.7/CD\n",
            "  percent/NN\n",
            "  1-1/2/JJ\n",
            "  week/NN\n",
            "  trough/IN\n",
            "  (GPE Australian/JJ)\n",
            "  shares/NNS\n",
            "  sinking/VBG\n",
            "  1.6/CD\n",
            "  percent/NN\n",
            "  (PERSON Japan/NNP)\n",
            "  ’/NNP\n",
            "  (PERSON Nikkei/NNP)\n",
            "  dived/VBD\n",
            "  3.1/CD\n",
            "  percent/NN\n",
            "  led/VBD\n",
            "  losses/NNS\n",
            "  electric/JJ\n",
            "  machinery/NN\n",
            "  makers/NNS\n",
            "  suppliers/NNS\n",
            "  (PERSON Apple/NNP)\n",
            "  ’/NNP\n",
            "  iphone/NN\n",
            "  parts/NNS\n",
            "  (PERSON Sterling/NNP)\n",
            "  fell/VBD\n",
            "  $/$\n",
            "  1.286/CD\n",
            "  three/CD\n",
            "  straight/JJ\n",
            "  sessions/NNS\n",
            "  losses/NNS\n",
            "  took/VBD\n",
            "  lowest/JJS\n",
            "  since/IN\n",
            "  Nov.1/NNP\n",
            "  still/RB\n",
            "  considerable/JJ\n",
            "  unresolved/JJ\n",
            "  issues/NNS\n",
            "  (GPE European/NNP)\n",
            "  Union/NNP\n",
            "  (PERSON Brexit/NNP British/NNP)\n",
            "  Prime/NNP\n",
            "  Minister/NNP\n",
            "  (PERSON Theresa/NNP May/NNP)\n",
            "  said/VBD\n",
            "  Monday/NNP)\n"
          ],
          "name": "stdout"
        }
      ]
    }
  ]
}