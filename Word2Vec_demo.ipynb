{
  "nbformat": 4,
  "nbformat_minor": 0,
  "metadata": {
    "colab": {
      "name": "Word2Vec_demo.ipynb",
      "version": "0.3.2",
      "provenance": [],
      "collapsed_sections": [],
      "include_colab_link": true
    },
    "kernelspec": {
      "name": "python3",
      "display_name": "Python 3"
    },
    "accelerator": "GPU"
  },
  "cells": [
    {
      "cell_type": "markdown",
      "metadata": {
        "id": "view-in-github",
        "colab_type": "text"
      },
      "source": [
        "<a href=\"https://colab.research.google.com/github/nalika/NLP/blob/master/Word2Vec_demo.ipynb\" target=\"_parent\"><img src=\"https://colab.research.google.com/assets/colab-badge.svg\" alt=\"Open In Colab\"/></a>"
      ]
    },
    {
      "cell_type": "code",
      "metadata": {
        "id": "T-RMEKoP1p_V",
        "colab_type": "code",
        "colab": {
          "base_uri": "https://localhost:8080/",
          "height": 88
        },
        "outputId": "fae0d108-7299-4b34-a77a-e38e6070aeab"
      },
      "source": [
        "from tensorflow.keras.utils import get_file\n",
        "\n",
        "try:\n",
        "    path = get_file('GoogleNews-vectors-negative300.bin.gz', origin='https://s3.amazonaws.com/dl4j-distribution/GoogleNews-vectors-negative300.bin.gz')\n",
        "except:\n",
        "    print('Error downloading')\n",
        "    raise\n",
        "    \n",
        "print(path)"
      ],
      "execution_count": 2,
      "outputs": [
        {
          "output_type": "stream",
          "text": [
            "Downloading data from https://s3.amazonaws.com/dl4j-distribution/GoogleNews-vectors-negative300.bin.gz\n",
            "1647050752/1647046227 [==============================] - 20s 0us/step\n",
            "/root/.keras/datasets/GoogleNews-vectors-negative300.bin.gz\n"
          ],
          "name": "stdout"
        }
      ]
    },
    {
      "cell_type": "code",
      "metadata": {
        "id": "NDa5xE642Obf",
        "colab_type": "code",
        "colab": {
          "base_uri": "https://localhost:8080/",
          "height": 71
        },
        "outputId": "6fbc72e1-629e-4f23-99fe-16a68118f2a6"
      },
      "source": [
        "import gensim\n",
        "'''Gensim is implemented in Python and Cython. Gensim is designed to handle \n",
        "large text collections using data streaming and incremental online algorithms,\n",
        "which differentiates it from most other machine learning software packages that \n",
        "target only in-memory processing.'''\n",
        "\n",
        "# Not that the path below refers to a location on my hard drive.\n",
        "# You should download GoogleNews Vectors (see suggested software above)\n",
        "gNews_w2v_model = gensim.models.KeyedVectors.load_word2vec_format(path, binary=True)"
      ],
      "execution_count": 3,
      "outputs": [
        {
          "output_type": "stream",
          "text": [
            "/usr/local/lib/python3.6/dist-packages/smart_open/smart_open_lib.py:398: UserWarning: This function is deprecated, use smart_open.open instead. See the migration notes for details: https://github.com/RaRe-Technologies/smart_open/blob/master/README.rst#migrating-to-the-new-open-function\n",
            "  'See the migration notes for details: %s' % _MIGRATION_NOTES_URL\n"
          ],
          "name": "stderr"
        }
      ]
    },
    {
      "cell_type": "markdown",
      "metadata": {
        "id": "wzGXXdaA2nEe",
        "colab_type": "text"
      },
      "source": [
        "NOTE: It is a 300 dimensional vector. It is pretty big file. 300 floating point numbers for just one word. The model is tranined from Google News Courpuses."
      ]
    },
    {
      "cell_type": "code",
      "metadata": {
        "id": "_eVxAkmI3Fpd",
        "colab_type": "code",
        "colab": {}
      },
      "source": [
        "wv = gNews_w2v_model['Lakehead']"
      ],
      "execution_count": 0,
      "outputs": []
    },
    {
      "cell_type": "code",
      "metadata": {
        "id": "K3y0-pp43ubc",
        "colab_type": "code",
        "colab": {
          "base_uri": "https://localhost:8080/",
          "height": 34
        },
        "outputId": "ae627388-d4ba-463b-8a5d-d6882015c8d8"
      },
      "source": [
        "print(len(wv))"
      ],
      "execution_count": 5,
      "outputs": [
        {
          "output_type": "stream",
          "text": [
            "300\n"
          ],
          "name": "stdout"
        }
      ]
    },
    {
      "cell_type": "code",
      "metadata": {
        "id": "TIq5_OL95U1U",
        "colab_type": "code",
        "colab": {
          "base_uri": "https://localhost:8080/",
          "height": 1000
        },
        "outputId": "8fe39c9d-b013-4963-a084-11b5080bb4a2"
      },
      "source": [
        "wv"
      ],
      "execution_count": 6,
      "outputs": [
        {
          "output_type": "execute_result",
          "data": {
            "text/plain": [
              "array([-5.07812500e-01, -2.92968750e-01,  1.83593750e-01,  5.62500000e-01,\n",
              "        2.30468750e-01, -7.61718750e-02, -5.79833984e-03, -1.46484375e-01,\n",
              "       -1.25000000e-01, -1.66992188e-01,  1.30859375e-01,  3.49609375e-01,\n",
              "        4.76074219e-02, -1.37695312e-01,  4.66796875e-01, -1.92382812e-01,\n",
              "        1.65039062e-01, -2.08007812e-01,  1.91406250e-01,  2.29492188e-02,\n",
              "       -1.28906250e-01,  3.45703125e-01, -1.33789062e-01,  4.27734375e-01,\n",
              "        1.44531250e-01,  8.30078125e-02, -3.79943848e-03,  2.36328125e-01,\n",
              "       -5.34667969e-02,  1.14257812e-01, -3.28125000e-01, -2.13867188e-01,\n",
              "       -5.78613281e-02, -1.66992188e-01,  3.96484375e-01, -1.55273438e-01,\n",
              "       -4.24804688e-02,  2.13867188e-01, -1.02539062e-01, -1.08398438e-01,\n",
              "       -2.17773438e-01,  8.93554688e-02, -7.66601562e-02, -4.15039062e-02,\n",
              "       -1.94335938e-01,  1.55273438e-01, -1.98242188e-01,  2.85156250e-01,\n",
              "       -5.83496094e-02, -1.48437500e-01,  3.93066406e-02, -3.43750000e-01,\n",
              "        9.91821289e-04,  1.46484375e-01,  1.24511719e-01, -1.42822266e-02,\n",
              "       -1.42578125e-01,  1.64062500e-01, -1.35742188e-01, -1.50390625e-01,\n",
              "       -1.21093750e-01, -6.93359375e-02, -1.04492188e-01,  1.51367188e-01,\n",
              "       -4.49218750e-01, -2.79296875e-01,  4.63867188e-02, -8.78906250e-02,\n",
              "        1.25000000e-01,  2.63671875e-01, -2.65625000e-01,  1.48437500e-01,\n",
              "        3.06640625e-01, -5.82031250e-01, -1.33789062e-01, -1.68945312e-01,\n",
              "        1.59179688e-01, -2.71484375e-01,  4.08203125e-01,  2.51953125e-01,\n",
              "       -2.59765625e-01, -8.78906250e-02, -6.98242188e-02, -2.58789062e-02,\n",
              "        9.76562500e-02,  5.37109375e-02, -4.21875000e-01,  4.51171875e-01,\n",
              "       -1.70898438e-01, -2.05078125e-01,  2.79296875e-01, -3.84765625e-01,\n",
              "        7.76367188e-02,  2.83203125e-01,  1.86920166e-03, -4.02832031e-02,\n",
              "        3.61328125e-01, -7.42187500e-02, -1.03515625e-01, -1.22070312e-02,\n",
              "        6.15234375e-02, -3.75000000e-01, -6.00585938e-02, -5.41992188e-02,\n",
              "        1.12792969e-01, -1.35742188e-01,  2.60009766e-02,  1.37695312e-01,\n",
              "        1.09863281e-01,  3.51562500e-02, -5.17578125e-02, -1.27929688e-01,\n",
              "        2.29492188e-01,  8.15429688e-02, -6.64062500e-02, -1.20605469e-01,\n",
              "        6.22558594e-02, -3.26171875e-01, -4.58984375e-01,  4.98046875e-01,\n",
              "       -3.47656250e-01, -2.79296875e-01, -7.61718750e-02, -2.45361328e-02,\n",
              "        3.12500000e-02, -4.33593750e-01, -1.63085938e-01,  2.37304688e-01,\n",
              "       -2.57812500e-01,  1.79687500e-01, -2.60009766e-02,  1.82617188e-01,\n",
              "       -3.53515625e-01, -2.20947266e-02,  2.42187500e-01,  3.36914062e-02,\n",
              "        7.12890625e-02,  2.35351562e-01, -2.67578125e-01,  1.62109375e-01,\n",
              "       -6.07910156e-02,  5.98144531e-02,  1.13281250e-01,  6.73828125e-02,\n",
              "       -1.08886719e-01,  6.99218750e-01, -1.58203125e-01,  3.41796875e-01,\n",
              "        2.75878906e-02,  3.49609375e-01,  2.59765625e-01, -1.39770508e-02,\n",
              "       -3.82812500e-01,  1.72851562e-01,  1.92382812e-01,  3.70788574e-03,\n",
              "        4.94140625e-01,  9.91210938e-02, -2.08007812e-01,  2.23632812e-01,\n",
              "        2.40234375e-01,  1.18652344e-01,  1.88476562e-01,  1.26953125e-01,\n",
              "        2.71484375e-01,  2.66113281e-02, -1.04492188e-01,  2.87109375e-01,\n",
              "        2.17285156e-02,  3.00781250e-01, -2.81250000e-01, -3.83300781e-02,\n",
              "       -1.86523438e-01,  5.43212891e-03,  4.73022461e-04, -2.96875000e-01,\n",
              "        6.73828125e-02, -1.76757812e-01, -1.77734375e-01, -6.93359375e-02,\n",
              "        3.44238281e-02,  1.63574219e-02,  1.58203125e-01, -3.63281250e-01,\n",
              "       -1.78710938e-01, -9.32617188e-02, -1.34765625e-01, -4.33593750e-01,\n",
              "       -1.70898438e-03,  3.30078125e-01,  2.89062500e-01, -2.26562500e-01,\n",
              "       -6.20117188e-02,  3.47656250e-01, -3.53515625e-01, -3.37890625e-01,\n",
              "        3.88183594e-02,  2.14843750e-01, -1.64794922e-03,  1.17675781e-01,\n",
              "        1.81640625e-01,  1.25976562e-01,  6.09375000e-01, -4.06250000e-01,\n",
              "       -1.87500000e-01,  2.92968750e-01,  1.81640625e-01, -2.65625000e-01,\n",
              "       -7.81250000e-02,  3.51562500e-01, -1.27929688e-01, -1.84326172e-02,\n",
              "       -2.33459473e-03,  9.37500000e-02, -5.27343750e-01,  2.65625000e-01,\n",
              "       -2.10571289e-03,  3.32031250e-01, -4.49218750e-02,  6.49414062e-02,\n",
              "       -3.00781250e-01,  1.78710938e-01,  1.92382812e-01, -3.45703125e-01,\n",
              "        3.43750000e-01,  2.01171875e-01, -2.11914062e-01, -2.08007812e-01,\n",
              "        1.72851562e-01, -3.97949219e-02,  1.32446289e-02,  2.94921875e-01,\n",
              "       -5.15136719e-02,  3.47656250e-01, -8.05664062e-02, -9.71679688e-02,\n",
              "        3.35937500e-01, -3.92578125e-01,  8.88671875e-02,  7.76367188e-02,\n",
              "        6.54296875e-02,  2.19726562e-01, -2.65625000e-01, -4.86328125e-01,\n",
              "       -2.01416016e-02, -1.69677734e-02, -3.12500000e-01,  1.96533203e-02,\n",
              "       -5.95703125e-02,  2.75878906e-02,  1.71875000e-01,  7.76367188e-02,\n",
              "        1.66992188e-01,  8.64257812e-02,  9.96093750e-02, -8.10546875e-02,\n",
              "        2.29492188e-01, -2.08007812e-01, -2.83203125e-01, -4.39453125e-01,\n",
              "        1.72851562e-01,  1.51367188e-01, -2.07031250e-01, -8.54492188e-02,\n",
              "        1.75781250e-01, -4.08203125e-01, -2.94921875e-01, -5.17578125e-02,\n",
              "        1.28173828e-02, -7.53784180e-03,  5.78613281e-02, -4.82421875e-01,\n",
              "        1.43554688e-01, -9.27734375e-02,  2.44140625e-01, -3.71093750e-02,\n",
              "        3.63281250e-01, -5.88378906e-02, -2.00195312e-02,  2.81250000e-01,\n",
              "       -2.05078125e-01, -4.16015625e-01,  4.53125000e-01, -1.94335938e-01,\n",
              "        2.55859375e-01, -2.98828125e-01, -2.26562500e-01,  1.22558594e-01,\n",
              "        1.81640625e-01, -8.74023438e-02,  1.09863281e-01,  1.44531250e-01,\n",
              "       -9.27734375e-02, -5.98144531e-03, -3.71093750e-01, -1.68945312e-01,\n",
              "       -1.70898438e-01,  2.10937500e-01, -4.19921875e-02, -9.66796875e-02],\n",
              "      dtype=float32)"
            ]
          },
          "metadata": {
            "tags": []
          },
          "execution_count": 6
        }
      ]
    },
    {
      "cell_type": "markdown",
      "metadata": {
        "id": "mYyDMFRn5dJ8",
        "colab_type": "text"
      },
      "source": [
        "### Use case"
      ]
    },
    {
      "cell_type": "code",
      "metadata": {
        "id": "_zhOQZCF5hRo",
        "colab_type": "code",
        "colab": {
          "base_uri": "https://localhost:8080/",
          "height": 34
        },
        "outputId": "40218b23-e298-45b8-a9fd-07a932d402ac"
      },
      "source": [
        "import numpy as np\n",
        "\n",
        "## Taking the classic NLP example\n",
        "## [1]\n",
        "w1 = gNews_w2v_model['king']\n",
        "w2 = gNews_w2v_model['queen']\n",
        "\n",
        "dist = np.linalg.norm(w1-w2) # Linear algebra\n",
        "\n",
        "print(dist)"
      ],
      "execution_count": 9,
      "outputs": [
        {
          "output_type": "stream",
          "text": [
            "2.4796925\n"
          ],
          "name": "stdout"
        }
      ]
    },
    {
      "cell_type": "code",
      "metadata": {
        "id": "ZRfV_8em64AB",
        "colab_type": "code",
        "colab": {
          "base_uri": "https://localhost:8080/",
          "height": 241
        },
        "outputId": "fb4c0ace-f7ad-42d3-8e6c-f7be2064285d"
      },
      "source": [
        "## [2] word2vec equation of queen = (king - man) + female\n",
        "gNews_w2v_model.most_similar(positive=['woman', 'king'], negative=['man'])\n",
        "# It returns top-10 results"
      ],
      "execution_count": 10,
      "outputs": [
        {
          "output_type": "stream",
          "text": [
            "/usr/local/lib/python3.6/dist-packages/gensim/matutils.py:737: FutureWarning: Conversion of the second argument of issubdtype from `int` to `np.signedinteger` is deprecated. In future, it will be treated as `np.int64 == np.dtype(int).type`.\n",
            "  if np.issubdtype(vec.dtype, np.int):\n"
          ],
          "name": "stderr"
        },
        {
          "output_type": "execute_result",
          "data": {
            "text/plain": [
              "[('queen', 0.7118192911148071),\n",
              " ('monarch', 0.6189674139022827),\n",
              " ('princess', 0.5902431011199951),\n",
              " ('crown_prince', 0.5499460697174072),\n",
              " ('prince', 0.5377321243286133),\n",
              " ('kings', 0.5236844420433044),\n",
              " ('Queen_Consort', 0.5235945582389832),\n",
              " ('queens', 0.518113374710083),\n",
              " ('sultan', 0.5098593235015869),\n",
              " ('monarchy', 0.5087411999702454)]"
            ]
          },
          "metadata": {
            "tags": []
          },
          "execution_count": 10
        }
      ]
    },
    {
      "cell_type": "code",
      "metadata": {
        "id": "unkjnVW68Ma1",
        "colab_type": "code",
        "colab": {
          "base_uri": "https://localhost:8080/",
          "height": 156
        },
        "outputId": "45e0cb6c-9ae9-441d-f115-dda61003cc5f"
      },
      "source": [
        "## [3]. Top-5 Similar to \"polite\"\n",
        "gNews_w2v_model.most_similar(positive=['polite'], topn=5)"
      ],
      "execution_count": 11,
      "outputs": [
        {
          "output_type": "stream",
          "text": [
            "/usr/local/lib/python3.6/dist-packages/gensim/matutils.py:737: FutureWarning: Conversion of the second argument of issubdtype from `int` to `np.signedinteger` is deprecated. In future, it will be treated as `np.int64 == np.dtype(int).type`.\n",
            "  if np.issubdtype(vec.dtype, np.int):\n"
          ],
          "name": "stderr"
        },
        {
          "output_type": "execute_result",
          "data": {
            "text/plain": [
              "[('courteous', 0.7520973682403564),\n",
              " ('everybody_Pendergrast', 0.7189083099365234),\n",
              " ('respectful', 0.6748367547988892),\n",
              " ('mannerly', 0.6553859710693359),\n",
              " ('gracious', 0.6316325664520264)]"
            ]
          },
          "metadata": {
            "tags": []
          },
          "execution_count": 11
        }
      ]
    },
    {
      "cell_type": "markdown",
      "metadata": {
        "id": "Ox23aHqhAbcJ",
        "colab_type": "text"
      },
      "source": [
        "Pendergrast should have been associated with polite in so many ways and appeared in the Google news"
      ]
    },
    {
      "cell_type": "code",
      "metadata": {
        "id": "kvQscbTVBiFU",
        "colab_type": "code",
        "colab": {
          "base_uri": "https://localhost:8080/",
          "height": 122
        },
        "outputId": "7ab1ac08-deb2-4657-b044-71ce8033ffdc"
      },
      "source": [
        "## [4] dissimilarties \n",
        "gNews_w2v_model.doesnt_match(\"car king servant queen princess\".split())"
      ],
      "execution_count": 14,
      "outputs": [
        {
          "output_type": "stream",
          "text": [
            "/usr/local/lib/python3.6/dist-packages/gensim/models/keyedvectors.py:895: FutureWarning: arrays to stack must be passed as a \"sequence\" type such as list or tuple. Support for non-sequence iterables such as generators is deprecated as of NumPy 1.16 and will raise an error in the future.\n",
            "  vectors = vstack(self.word_vec(word, use_norm=True) for word in used_words).astype(REAL)\n",
            "/usr/local/lib/python3.6/dist-packages/gensim/matutils.py:737: FutureWarning: Conversion of the second argument of issubdtype from `int` to `np.signedinteger` is deprecated. In future, it will be treated as `np.int64 == np.dtype(int).type`.\n",
            "  if np.issubdtype(vec.dtype, np.int):\n"
          ],
          "name": "stderr"
        },
        {
          "output_type": "execute_result",
          "data": {
            "text/plain": [
              "'car'"
            ]
          },
          "metadata": {
            "tags": []
          },
          "execution_count": 14
        }
      ]
    },
    {
      "cell_type": "code",
      "metadata": {
        "id": "PfHYxb2yCnlE",
        "colab_type": "code",
        "colab": {
          "base_uri": "https://localhost:8080/",
          "height": 241
        },
        "outputId": "47a5ab79-b6ba-4033-cddf-bc362d5f6053"
      },
      "source": [
        "## [5] Similarites \n",
        "gNews_w2v_model.most_similar(\"car\")"
      ],
      "execution_count": 16,
      "outputs": [
        {
          "output_type": "stream",
          "text": [
            "/usr/local/lib/python3.6/dist-packages/gensim/matutils.py:737: FutureWarning: Conversion of the second argument of issubdtype from `int` to `np.signedinteger` is deprecated. In future, it will be treated as `np.int64 == np.dtype(int).type`.\n",
            "  if np.issubdtype(vec.dtype, np.int):\n"
          ],
          "name": "stderr"
        },
        {
          "output_type": "execute_result",
          "data": {
            "text/plain": [
              "[('vehicle', 0.7821096181869507),\n",
              " ('cars', 0.7423830032348633),\n",
              " ('SUV', 0.7160962820053101),\n",
              " ('minivan', 0.6907036304473877),\n",
              " ('truck', 0.6735789775848389),\n",
              " ('Car', 0.6677608489990234),\n",
              " ('Ford_Focus', 0.667320191860199),\n",
              " ('Honda_Civic', 0.662684977054596),\n",
              " ('Jeep', 0.6511331796646118),\n",
              " ('pickup_truck', 0.64414381980896)]"
            ]
          },
          "metadata": {
            "tags": []
          },
          "execution_count": 16
        }
      ]
    },
    {
      "cell_type": "markdown",
      "metadata": {
        "id": "V4X6SJNYDKF8",
        "colab_type": "text"
      },
      "source": [
        "Note: Look at the output? Can you find some issues?"
      ]
    }
  ]
}