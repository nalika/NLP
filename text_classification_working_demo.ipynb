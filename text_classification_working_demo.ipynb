{
  "nbformat": 4,
  "nbformat_minor": 0,
  "metadata": {
    "colab": {
      "name": "text_classification_working_demo.ipynb",
      "version": "0.3.2",
      "provenance": [],
      "collapsed_sections": [],
      "toc_visible": true,
      "include_colab_link": true
    },
    "kernelspec": {
      "name": "python3",
      "display_name": "Python 3"
    },
    "accelerator": "GPU"
  },
  "cells": [
    {
      "cell_type": "markdown",
      "metadata": {
        "id": "view-in-github",
        "colab_type": "text"
      },
      "source": [
        "<a href=\"https://colab.research.google.com/github/nalika/NLP/blob/master/text_classification_working_demo.ipynb\" target=\"_parent\"><img src=\"https://colab.research.google.com/assets/colab-badge.svg\" alt=\"Open In Colab\"/></a>"
      ]
    },
    {
      "cell_type": "markdown",
      "metadata": {
        "id": "vnVf2R_Youjn",
        "colab_type": "text"
      },
      "source": [
        "# Simple Example"
      ]
    },
    {
      "cell_type": "code",
      "metadata": {
        "id": "oh7DyvlBukOc",
        "colab_type": "code",
        "colab": {}
      },
      "source": [
        "# import libraries\n",
        "import time\n",
        "import pandas as pd\n",
        "\n",
        "# for training \n",
        "from sklearn.svm import LinearSVC\n",
        "from sklearn.metrics import accuracy_score\n",
        "\n",
        "# for word to vec\n",
        "from sklearn.feature_extraction.text import CountVectorizer\n"
      ],
      "execution_count": 0,
      "outputs": []
    },
    {
      "cell_type": "code",
      "metadata": {
        "id": "Lh9cbpcNo1uq",
        "colab_type": "code",
        "colab": {}
      },
      "source": [
        "## Data organization \n",
        "\n",
        "# Field Names\n",
        "fields = ['text', 'label']\n",
        "\n",
        "# Data samples\n",
        "train = [['I LOVE this sandwich.', 'pos'],\n",
        "         ['this is an amazing place!', 'pos'],\n",
        "         ['I feel very good about these beers.', 'pos'],\n",
        "         ['this is my best work.', 'pos'],\n",
        "         ['what an awesome view', 'pos'],\n",
        "         ['I DO NOT like this restaurant', 'neg'],\n",
        "         ['I am tired of this stuff.', 'neg'],\n",
        "         [\"I can't deal with this\", 'neg'],\n",
        "         ['he is my sworn enemy!', 'neg'],\n",
        "         ['my boss is HORRIBLE.', 'neg']]\n",
        "\n",
        "test = [['the beer was good.', 'pos'], \n",
        "        ['I do not enjoy my job', 'neg'], \n",
        "        [\"I ain't feeling dandy today.\", 'neg'], \n",
        "        [\"I feel amazing!\", 'pos'], \n",
        "        ['Gary is a friend of mine.', 'pos'], \n",
        "        [\"I can't believe I'm doing this.\", 'neg']]"
      ],
      "execution_count": 0,
      "outputs": []
    },
    {
      "cell_type": "markdown",
      "metadata": {
        "id": "6S3csqsYRkFl",
        "colab_type": "text"
      },
      "source": [
        "Data Collection"
      ]
    },
    {
      "cell_type": "code",
      "metadata": {
        "id": "Pgtzf9JK1hrw",
        "colab_type": "code",
        "outputId": "e833bedf-4a77-442b-a4b4-3618237c4923",
        "colab": {
          "base_uri": "https://localhost:8080/",
          "height": 129
        }
      },
      "source": [
        "# Mount gdrive\n",
        "#---------------\n",
        "from google.colab import drive \n",
        "drive.mount('/content/gdrive')"
      ],
      "execution_count": 0,
      "outputs": [
        {
          "output_type": "stream",
          "text": [
            "Go to this URL in a browser: https://accounts.google.com/o/oauth2/auth?client_id=947318989803-6bn6qk8qdgf4n4g3pfee6491hc0brc4i.apps.googleusercontent.com&redirect_uri=urn%3Aietf%3Awg%3Aoauth%3A2.0%3Aoob&scope=email%20https%3A%2F%2Fwww.googleapis.com%2Fauth%2Fdocs.test%20https%3A%2F%2Fwww.googleapis.com%2Fauth%2Fdrive%20https%3A%2F%2Fwww.googleapis.com%2Fauth%2Fdrive.photos.readonly%20https%3A%2F%2Fwww.googleapis.com%2Fauth%2Fpeopleapi.readonly&response_type=code\n",
            "\n",
            "Enter your authorization code:\n",
            "··········\n",
            "Mounted at /content/gdrive\n"
          ],
          "name": "stdout"
        }
      ]
    },
    {
      "cell_type": "code",
      "metadata": {
        "id": "Qra1zEsVaJpl",
        "colab_type": "code",
        "colab": {}
      },
      "source": [
        "# load dataset\n",
        "dataframe = pd.read_csv('/content/gdrive/My Drive/Colab Notebooks/my_review_data.csv', delim_whitespace=False, header=None)\n",
        "dataset = dataframe.values\n"
      ],
      "execution_count": 0,
      "outputs": []
    },
    {
      "cell_type": "code",
      "metadata": {
        "id": "AamHq949gwQh",
        "colab_type": "code",
        "colab": {}
      },
      "source": [
        "train = dataset[0:10,0]\n",
        "label = dataset[0:10, 1]"
      ],
      "execution_count": 0,
      "outputs": []
    },
    {
      "cell_type": "code",
      "metadata": {
        "id": "v0N9fvS_douy",
        "colab_type": "code",
        "outputId": "ed8165e7-56e4-4213-be41-d4ff4a13bcb8",
        "colab": {
          "base_uri": "https://localhost:8080/",
          "height": 52
        }
      },
      "source": [
        "# Check dataset\n",
        "print(train.shape, label.shape)\n",
        "# Check a random sequence\n",
        "print(train[0], label[0])"
      ],
      "execution_count": 0,
      "outputs": [
        {
          "output_type": "stream",
          "text": [
            "(10,) (10,)\n",
            "I love this sandwich. pos\n"
          ],
          "name": "stdout"
        }
      ]
    },
    {
      "cell_type": "markdown",
      "metadata": {
        "id": "QzGubsFRN3ok",
        "colab_type": "text"
      },
      "source": [
        "[2]. **Text feature extraction:** Vectorize data using the Bag of Words (BOW) representation. \n",
        "\n",
        "---\n",
        "For this, we shall using Scikit-learn Library, CountVectorizer\n",
        "\n",
        "It takes the words of each sentence and creates a vocabulary of all the unique words in the sentences. \n",
        "This vocabulary can then be used to create a feature vector of the count of the words."
      ]
    },
    {
      "cell_type": "code",
      "metadata": {
        "id": "NYroX2aWN8SJ",
        "colab_type": "code",
        "outputId": "bbda1eee-73ba-4b8b-ec51-56a28be88c4c",
        "colab": {
          "base_uri": "https://localhost:8080/",
          "height": 123
        }
      },
      "source": [
        "vectorizer = CountVectorizer(min_df=0, lowercase=True)\n",
        "\n",
        "# check the default parameters of the vectorizer\n",
        "vectorizer\n"
      ],
      "execution_count": 0,
      "outputs": [
        {
          "output_type": "execute_result",
          "data": {
            "text/plain": [
              "CountVectorizer(analyzer='word', binary=False, decode_error='strict',\n",
              "                dtype=<class 'numpy.int64'>, encoding='utf-8', input='content',\n",
              "                lowercase=True, max_df=1.0, max_features=None, min_df=0,\n",
              "                ngram_range=(1, 1), preprocessor=None, stop_words=None,\n",
              "                strip_accents=None, token_pattern='(?u)\\\\b\\\\w\\\\w+\\\\b',\n",
              "                tokenizer=None, vocabulary=None)"
            ]
          },
          "metadata": {
            "tags": []
          },
          "execution_count": 41
        }
      ]
    },
    {
      "cell_type": "markdown",
      "metadata": {
        "id": "OhaJLJkN9VVp",
        "colab_type": "text"
      },
      "source": [
        "Notes - \n",
        "* max_df is used for removing terms that appear too frequently, also known as \"corpus-specific stop words\". For example:\n",
        "\n",
        "    max_df = 0.50 means \"ignore terms that appear in more than 50% of the documents\".\n",
        "max_df = 25 means \"ignore terms that appear in more than 25 documents\".\n",
        "The default max_df is 1.0, which means \"ignore terms that appear in more than 100% of the documents\". Thus, the default setting does not ignore any terms.\n",
        "\n",
        "* min_df is used for removing terms that appear too infrequently. For example:\n",
        "\n",
        "    min_df = 0.01 means \"ignore terms that appear in less than 1% of the documents\".\n",
        "min_df = 5 means \"ignore terms that appear in less than 5 documents\".\n",
        "The default min_df is 1, which means \"ignore terms that appear in less than 1 document\". Thus, the default setting does not ignore any terms."
      ]
    },
    {
      "cell_type": "code",
      "metadata": {
        "id": "YG0l1SvB9FGt",
        "colab_type": "code",
        "colab": {}
      },
      "source": [
        "# Let’s use it to tokenize and count the word occurrences of the corpus of reviews:\n",
        "vectorizer.fit(train)\n",
        "voc = vectorizer.vocabulary_"
      ],
      "execution_count": 0,
      "outputs": []
    },
    {
      "cell_type": "markdown",
      "metadata": {
        "id": "s-JiAH7ZSisE",
        "colab_type": "text"
      },
      "source": [
        "Let's find the length of the vocabulary"
      ]
    },
    {
      "cell_type": "code",
      "metadata": {
        "id": "jygEzaWgP_hU",
        "colab_type": "code",
        "outputId": "da7d3092-432b-4c5d-925a-99bea46573c1",
        "colab": {
          "base_uri": "https://localhost:8080/",
          "height": 631
        }
      },
      "source": [
        "i = 1;\n",
        "for key, value in voc.items():\n",
        "  print (i, key, value)\n",
        "  i += 1"
      ],
      "execution_count": 0,
      "outputs": [
        {
          "output_type": "stream",
          "text": [
            "1 love 18\n",
            "2 this 28\n",
            "3 sandwich 24\n",
            "4 is 16\n",
            "5 an 3\n",
            "6 amazing 2\n",
            "7 place 22\n",
            "8 feel 12\n",
            "9 very 30\n",
            "10 good 13\n",
            "11 about 0\n",
            "12 these 27\n",
            "13 beers 5\n",
            "14 my 19\n",
            "15 best 6\n",
            "16 work 34\n",
            "17 what 32\n",
            "18 awesome 4\n",
            "19 view 31\n",
            "20 do 10\n",
            "21 not 20\n",
            "22 like 17\n",
            "23 restaurant 23\n",
            "24 am 1\n",
            "25 tired 29\n",
            "26 of 21\n",
            "27 stuff 25\n",
            "28 can 8\n",
            "29 deal 9\n",
            "30 with 33\n",
            "31 he 14\n",
            "32 sworn 26\n",
            "33 enemy 11\n",
            "34 boss 7\n",
            "35 horrible 15\n"
          ],
          "name": "stdout"
        }
      ]
    },
    {
      "cell_type": "markdown",
      "metadata": {
        "id": "BgZEiZHnPCDJ",
        "colab_type": "text"
      },
      "source": [
        "Notes - \n",
        "* This alphabetically ordered vocabulary serves also as an index of each word. Now, you can take each sentence and get the word occurrences of the words based on the previous vocabulary. \n",
        "* The vocabulary consists of all five words in our sentences, each representing one word in the vocabulary. \n",
        "* When you take the previous two sentences and transform them with the CountVectorizer you will get a vector representing the count of each word of the sentence.\n",
        "** However, in this example **we have not removed stop words**."
      ]
    },
    {
      "cell_type": "code",
      "metadata": {
        "id": "rRW1IUsHPFiA",
        "colab_type": "code",
        "outputId": "07ac3923-a63a-40db-fada-eb11a8901e67",
        "colab": {
          "base_uri": "https://localhost:8080/",
          "height": 368
        }
      },
      "source": [
        "vectorizer.transform(train).toarray()"
      ],
      "execution_count": 0,
      "outputs": [
        {
          "output_type": "execute_result",
          "data": {
            "text/plain": [
              "array([[0, 0, 0, 0, 0, 0, 0, 0, 0, 0, 0, 0, 0, 0, 0, 0, 0, 0, 1, 0, 0, 0,\n",
              "        0, 0, 1, 0, 0, 0, 1, 0, 0, 0, 0, 0, 0],\n",
              "       [0, 0, 1, 1, 0, 0, 0, 0, 0, 0, 0, 0, 0, 0, 0, 0, 1, 0, 0, 0, 0, 0,\n",
              "        1, 0, 0, 0, 0, 0, 1, 0, 0, 0, 0, 0, 0],\n",
              "       [1, 0, 0, 0, 0, 1, 0, 0, 0, 0, 0, 0, 1, 1, 0, 0, 0, 0, 0, 0, 0, 0,\n",
              "        0, 0, 0, 0, 0, 1, 0, 0, 1, 0, 0, 0, 0],\n",
              "       [0, 0, 0, 0, 0, 0, 1, 0, 0, 0, 0, 0, 0, 0, 0, 0, 1, 0, 0, 1, 0, 0,\n",
              "        0, 0, 0, 0, 0, 0, 1, 0, 0, 0, 0, 0, 1],\n",
              "       [0, 0, 0, 1, 1, 0, 0, 0, 0, 0, 0, 0, 0, 0, 0, 0, 0, 0, 0, 0, 0, 0,\n",
              "        0, 0, 0, 0, 0, 0, 0, 0, 0, 1, 1, 0, 0],\n",
              "       [0, 0, 0, 0, 0, 0, 0, 0, 0, 0, 1, 0, 0, 0, 0, 0, 0, 1, 0, 0, 1, 0,\n",
              "        0, 1, 0, 0, 0, 0, 1, 0, 0, 0, 0, 0, 0],\n",
              "       [0, 1, 0, 0, 0, 0, 0, 0, 0, 0, 0, 0, 0, 0, 0, 0, 0, 0, 0, 0, 0, 1,\n",
              "        0, 0, 0, 1, 0, 0, 1, 1, 0, 0, 0, 0, 0],\n",
              "       [0, 0, 0, 0, 0, 0, 0, 0, 1, 1, 0, 0, 0, 0, 0, 0, 0, 0, 0, 0, 0, 0,\n",
              "        0, 0, 0, 0, 0, 0, 1, 0, 0, 0, 0, 1, 0],\n",
              "       [0, 0, 0, 0, 0, 0, 0, 0, 0, 0, 0, 1, 0, 0, 1, 0, 1, 0, 0, 1, 0, 0,\n",
              "        0, 0, 0, 0, 1, 0, 0, 0, 0, 0, 0, 0, 0],\n",
              "       [0, 0, 0, 0, 0, 0, 0, 1, 0, 0, 0, 0, 0, 0, 0, 1, 1, 0, 0, 1, 0, 0,\n",
              "        0, 0, 0, 0, 0, 0, 0, 0, 0, 0, 0, 0, 0]])"
            ]
          },
          "metadata": {
            "tags": []
          },
          "execution_count": 43
        }
      ]
    },
    {
      "cell_type": "code",
      "metadata": {
        "id": "11DxosTUPvex",
        "colab_type": "code",
        "colab": {}
      },
      "source": [
        "X_train = vectorizer.transform(train)"
      ],
      "execution_count": 0,
      "outputs": []
    },
    {
      "cell_type": "code",
      "metadata": {
        "id": "avz-Y7q5PyBe",
        "colab_type": "code",
        "outputId": "bd2c4d3b-859a-4d56-9f7b-ba3276819b55",
        "colab": {
          "base_uri": "https://localhost:8080/",
          "height": 35
        }
      },
      "source": [
        "X_train.shape"
      ],
      "execution_count": 0,
      "outputs": [
        {
          "output_type": "execute_result",
          "data": {
            "text/plain": [
              "(10, 35)"
            ]
          },
          "metadata": {
            "tags": []
          },
          "execution_count": 45
        }
      ]
    },
    {
      "cell_type": "markdown",
      "metadata": {
        "id": "NBjKxaASVkAj",
        "colab_type": "text"
      },
      "source": [
        "Sanity"
      ]
    },
    {
      "cell_type": "code",
      "metadata": {
        "id": "5av50cOBZag_",
        "colab_type": "code",
        "outputId": "4733a8dd-d9b8-43a8-e413-4073bf5b162e",
        "colab": {
          "base_uri": "https://localhost:8080/",
          "height": 122
        }
      },
      "source": [
        "sanity_text = [\"I like this feel good movie\"]\n",
        "\n",
        "# get the vectorizer's vocabulary\n",
        "inv_vocab = {v: k for k, v in vectorizer.vocabulary_.items()}\n",
        "vocabulary = [inv_vocab[i] for i in range(len(inv_vocab))]\n",
        "\n",
        "# vectorization example\n",
        "pd.DataFrame(\n",
        "    data=vectorizer.transform(sanity_text).toarray(),\n",
        "    index=[\"Sanity test\"],\n",
        "    columns=vocabulary\n",
        ")"
      ],
      "execution_count": 0,
      "outputs": [
        {
          "output_type": "execute_result",
          "data": {
            "text/html": [
              "<div>\n",
              "<style scoped>\n",
              "    .dataframe tbody tr th:only-of-type {\n",
              "        vertical-align: middle;\n",
              "    }\n",
              "\n",
              "    .dataframe tbody tr th {\n",
              "        vertical-align: top;\n",
              "    }\n",
              "\n",
              "    .dataframe thead th {\n",
              "        text-align: right;\n",
              "    }\n",
              "</style>\n",
              "<table border=\"1\" class=\"dataframe\">\n",
              "  <thead>\n",
              "    <tr style=\"text-align: right;\">\n",
              "      <th></th>\n",
              "      <th>about</th>\n",
              "      <th>am</th>\n",
              "      <th>amazing</th>\n",
              "      <th>an</th>\n",
              "      <th>awesome</th>\n",
              "      <th>beers</th>\n",
              "      <th>best</th>\n",
              "      <th>boss</th>\n",
              "      <th>can</th>\n",
              "      <th>deal</th>\n",
              "      <th>do</th>\n",
              "      <th>enemy</th>\n",
              "      <th>feel</th>\n",
              "      <th>good</th>\n",
              "      <th>he</th>\n",
              "      <th>horrible</th>\n",
              "      <th>is</th>\n",
              "      <th>like</th>\n",
              "      <th>love</th>\n",
              "      <th>my</th>\n",
              "      <th>not</th>\n",
              "      <th>of</th>\n",
              "      <th>place</th>\n",
              "      <th>restaurant</th>\n",
              "      <th>sandwich</th>\n",
              "      <th>stuff</th>\n",
              "      <th>sworn</th>\n",
              "      <th>these</th>\n",
              "      <th>this</th>\n",
              "      <th>tired</th>\n",
              "      <th>very</th>\n",
              "      <th>view</th>\n",
              "      <th>what</th>\n",
              "      <th>with</th>\n",
              "      <th>work</th>\n",
              "    </tr>\n",
              "  </thead>\n",
              "  <tbody>\n",
              "    <tr>\n",
              "      <th>Sanity test</th>\n",
              "      <td>0</td>\n",
              "      <td>0</td>\n",
              "      <td>0</td>\n",
              "      <td>0</td>\n",
              "      <td>0</td>\n",
              "      <td>0</td>\n",
              "      <td>0</td>\n",
              "      <td>0</td>\n",
              "      <td>0</td>\n",
              "      <td>0</td>\n",
              "      <td>0</td>\n",
              "      <td>0</td>\n",
              "      <td>1</td>\n",
              "      <td>1</td>\n",
              "      <td>0</td>\n",
              "      <td>0</td>\n",
              "      <td>0</td>\n",
              "      <td>1</td>\n",
              "      <td>0</td>\n",
              "      <td>0</td>\n",
              "      <td>0</td>\n",
              "      <td>0</td>\n",
              "      <td>0</td>\n",
              "      <td>0</td>\n",
              "      <td>0</td>\n",
              "      <td>0</td>\n",
              "      <td>0</td>\n",
              "      <td>0</td>\n",
              "      <td>1</td>\n",
              "      <td>0</td>\n",
              "      <td>0</td>\n",
              "      <td>0</td>\n",
              "      <td>0</td>\n",
              "      <td>0</td>\n",
              "      <td>0</td>\n",
              "    </tr>\n",
              "  </tbody>\n",
              "</table>\n",
              "</div>"
            ],
            "text/plain": [
              "             about  am  amazing  an  awesome  ...  very  view  what  with  work\n",
              "Sanity test      0   0        0   0        0  ...     0     0     0     0     0\n",
              "\n",
              "[1 rows x 35 columns]"
            ]
          },
          "metadata": {
            "tags": []
          },
          "execution_count": 13
        }
      ]
    },
    {
      "cell_type": "markdown",
      "metadata": {
        "id": "gCMh6yZZ-wmy",
        "colab_type": "text"
      },
      "source": [
        "**[3] Traning **"
      ]
    },
    {
      "cell_type": "code",
      "metadata": {
        "id": "iLliB8QD-r70",
        "colab_type": "code",
        "outputId": "a625fff2-c5c5-47cb-dcd0-b8d9529f8000",
        "colab": {
          "base_uri": "https://localhost:8080/",
          "height": 88
        }
      },
      "source": [
        "# Training\n",
        "model = LinearSVC()\n",
        "training_features = X_train\n",
        "train_label = label\n",
        "\n",
        "model.fit(training_features, train_label)"
      ],
      "execution_count": 0,
      "outputs": [
        {
          "output_type": "execute_result",
          "data": {
            "text/plain": [
              "LinearSVC(C=1.0, class_weight=None, dual=True, fit_intercept=True,\n",
              "          intercept_scaling=1, loss='squared_hinge', max_iter=1000,\n",
              "          multi_class='ovr', penalty='l2', random_state=None, tol=0.0001,\n",
              "          verbose=0)"
            ]
          },
          "metadata": {
            "tags": []
          },
          "execution_count": 46
        }
      ]
    },
    {
      "cell_type": "markdown",
      "metadata": {
        "id": "5n7PfLbmDH8_",
        "colab_type": "text"
      },
      "source": [
        "**[4] Evaluation**"
      ]
    },
    {
      "cell_type": "code",
      "metadata": {
        "id": "WzylEc76F0oU",
        "colab_type": "code",
        "outputId": "e34d7bd6-0030-4a59-8e8a-713201d2605e",
        "colab": {
          "base_uri": "https://localhost:8080/",
          "height": 105
        }
      },
      "source": [
        "# load test data\n",
        "dataframe = pd.read_csv('/content/gdrive/My Drive/Colab Notebooks/my_review_data_test.csv', delim_whitespace=False, header=None)\n",
        "dataset = dataframe.values\n",
        "\n",
        "test_text = dataset[0:6:,0]\n",
        "test_label = dataset[0:6, 1]\n",
        "\n",
        "test_text, test_label"
      ],
      "execution_count": 0,
      "outputs": [
        {
          "output_type": "execute_result",
          "data": {
            "text/plain": [
              "(array(['the beer was good.', 'I do not enjoy my job',\n",
              "        \"I ain't feeling dandy today.\", 'I feel amazing!',\n",
              "        'Gary is a friend of mine.', \"I can't believe I'm doing this.\"],\n",
              "       dtype=object),\n",
              " array(['pos', 'neg', 'neg', 'pos', 'pos', 'neg'], dtype=object))"
            ]
          },
          "metadata": {
            "tags": []
          },
          "execution_count": 47
        }
      ]
    },
    {
      "cell_type": "code",
      "metadata": {
        "id": "VRoQxQ85C3Rh",
        "colab_type": "code",
        "outputId": "26b21436-3d0a-428a-887c-6ff3f64b4964",
        "colab": {
          "base_uri": "https://localhost:8080/",
          "height": 52
        }
      },
      "source": [
        "# Evaluation\n",
        "start = time.time()\n",
        "test_features = vectorizer.transform(test_text) # We should not fit on test set\n",
        "y_pred = model.predict(test_features)\n",
        "end = time.time()\n",
        "\n",
        "acc = accuracy_score(test_label, y_pred)\n",
        "\n",
        "print(\"Total inferencing time: {:.6f}\".format(end - start))\n",
        "print(\"Accuracy: {:.2f}\".format(acc*100))"
      ],
      "execution_count": 0,
      "outputs": [
        {
          "output_type": "stream",
          "text": [
            "Total inferencing time: 0.000630\n",
            "Accuracy: 83.33\n"
          ],
          "name": "stdout"
        }
      ]
    },
    {
      "cell_type": "markdown",
      "metadata": {
        "id": "AXEDQB6nxhxC",
        "colab_type": "text"
      },
      "source": [
        "\n",
        "\n",
        "# BoW vs TF-IDF"
      ]
    },
    {
      "cell_type": "code",
      "metadata": {
        "id": "i_AINJKHx7H7",
        "colab_type": "code",
        "colab": {}
      },
      "source": [
        "import csv\n",
        "import pandas as pd\n",
        "import numpy as np\n",
        "from sklearn.feature_extraction.text import TfidfVectorizer, CountVectorizer\n",
        "from sklearn.feature_extraction.stop_words import ENGLISH_STOP_WORDS\n",
        "from sklearn import metrics\n",
        "from sklearn.model_selection import train_test_split   \n",
        "import matplotlib.pyplot as plt\n",
        "from sklearn.model_selection import cross_val_score\n",
        "from sklearn.svm import SVC\n",
        "from sklearn.linear_model import LogisticRegression\n",
        "from sklearn.naive_bayes import MultinomialNB"
      ],
      "execution_count": 0,
      "outputs": []
    },
    {
      "cell_type": "code",
      "metadata": {
        "id": "zSZHYrk9xm0U",
        "colab_type": "code",
        "colab": {
          "base_uri": "https://localhost:8080/",
          "height": 124
        },
        "outputId": "ae777523-ab07-43fa-e14d-82ab0c741a21"
      },
      "source": [
        "# Mount gdrive\n",
        "#---------------\n",
        "from google.colab import drive \n",
        "drive.mount('/content/gdrive')"
      ],
      "execution_count": 2,
      "outputs": [
        {
          "output_type": "stream",
          "text": [
            "Go to this URL in a browser: https://accounts.google.com/o/oauth2/auth?client_id=947318989803-6bn6qk8qdgf4n4g3pfee6491hc0brc4i.apps.googleusercontent.com&redirect_uri=urn%3Aietf%3Awg%3Aoauth%3A2.0%3Aoob&scope=email%20https%3A%2F%2Fwww.googleapis.com%2Fauth%2Fdocs.test%20https%3A%2F%2Fwww.googleapis.com%2Fauth%2Fdrive%20https%3A%2F%2Fwww.googleapis.com%2Fauth%2Fdrive.photos.readonly%20https%3A%2F%2Fwww.googleapis.com%2Fauth%2Fpeopleapi.readonly&response_type=code\n",
            "\n",
            "Enter your authorization code:\n",
            "··········\n",
            "Mounted at /content/gdrive\n"
          ],
          "name": "stdout"
        }
      ]
    },
    {
      "cell_type": "code",
      "metadata": {
        "id": "o68P-qUnxxNm",
        "colab_type": "code",
        "colab": {}
      },
      "source": [
        "# load test data\n",
        "dataframe = pd.read_csv('/content/gdrive/My Drive/Colab Notebooks/train.tsv', sep='\\t')\n",
        "dataset = dataframe.values\n",
        "\n"
      ],
      "execution_count": 0,
      "outputs": []
    },
    {
      "cell_type": "code",
      "metadata": {
        "id": "vgNiZX6dyHad",
        "colab_type": "code",
        "colab": {
          "base_uri": "https://localhost:8080/",
          "height": 35
        },
        "outputId": "7d041f37-d40f-45c6-dcc4-69560ee7bdf1"
      },
      "source": [
        "print(dataframe.shape)"
      ],
      "execution_count": 4,
      "outputs": [
        {
          "output_type": "stream",
          "text": [
            "(1482535, 8)\n"
          ],
          "name": "stdout"
        }
      ]
    },
    {
      "cell_type": "markdown",
      "metadata": {
        "id": "grQptA5Y0SJF",
        "colab_type": "text"
      },
      "source": [
        "# Sentiment-Analysis-on-the-Rotten-Tomatoes-movie-review-dataset\n",
        "https://github.com/cacoderquan/Sentiment-Analysis-on-the-Rotten-Tomatoes-movie-review-dataset/blob/master/README.md"
      ]
    },
    {
      "cell_type": "markdown",
      "metadata": {
        "id": "y-w6ebHlzn8t",
        "colab_type": "text"
      },
      "source": [
        "Data from URL"
      ]
    },
    {
      "cell_type": "code",
      "metadata": {
        "id": "fD-vskyWzrkI",
        "colab_type": "code",
        "colab": {}
      },
      "source": [
        "URL_Tr = 'https://raw.githubusercontent.com/cacoderquan/Sentiment-Analysis-on-the-Rotten-Tomatoes-movie-review-dataset/master/train.tsv'\n",
        "URL_Te = 'https://raw.githubusercontent.com/cacoderquan/Sentiment-Analysis-on-the-Rotten-Tomatoes-movie-review-dataset/master/test.tsv'"
      ],
      "execution_count": 0,
      "outputs": []
    },
    {
      "cell_type": "code",
      "metadata": {
        "id": "C8QhBLn_zySg",
        "colab_type": "code",
        "colab": {}
      },
      "source": [
        "# load test data\n",
        "train = pd.read_csv(URL_Tr, sep='\\t')\n",
        "test = pd.read_csv(URL_Te, sep='\\t')"
      ],
      "execution_count": 0,
      "outputs": []
    },
    {
      "cell_type": "markdown",
      "metadata": {
        "id": "E9vfzOy73Sd5",
        "colab_type": "text"
      },
      "source": [
        "Step 2: Analysing data: Dataframe analysis"
      ]
    },
    {
      "cell_type": "code",
      "metadata": {
        "id": "0lZ_AziaysZv",
        "colab_type": "code",
        "colab": {
          "base_uri": "https://localhost:8080/",
          "height": 202
        },
        "outputId": "7fd44813-c7ea-4e30-dab6-19dd8617c620"
      },
      "source": [
        "#train.head()"
      ],
      "execution_count": 15,
      "outputs": [
        {
          "output_type": "execute_result",
          "data": {
            "text/html": [
              "<div>\n",
              "<style scoped>\n",
              "    .dataframe tbody tr th:only-of-type {\n",
              "        vertical-align: middle;\n",
              "    }\n",
              "\n",
              "    .dataframe tbody tr th {\n",
              "        vertical-align: top;\n",
              "    }\n",
              "\n",
              "    .dataframe thead th {\n",
              "        text-align: right;\n",
              "    }\n",
              "</style>\n",
              "<table border=\"1\" class=\"dataframe\">\n",
              "  <thead>\n",
              "    <tr style=\"text-align: right;\">\n",
              "      <th></th>\n",
              "      <th>PhraseId</th>\n",
              "      <th>SentenceId</th>\n",
              "      <th>Phrase</th>\n",
              "      <th>Sentiment</th>\n",
              "    </tr>\n",
              "  </thead>\n",
              "  <tbody>\n",
              "    <tr>\n",
              "      <th>0</th>\n",
              "      <td>1</td>\n",
              "      <td>1</td>\n",
              "      <td>A series of escapades demonstrating the adage ...</td>\n",
              "      <td>1</td>\n",
              "    </tr>\n",
              "    <tr>\n",
              "      <th>1</th>\n",
              "      <td>2</td>\n",
              "      <td>1</td>\n",
              "      <td>A series of escapades demonstrating the adage ...</td>\n",
              "      <td>2</td>\n",
              "    </tr>\n",
              "    <tr>\n",
              "      <th>2</th>\n",
              "      <td>3</td>\n",
              "      <td>1</td>\n",
              "      <td>A series</td>\n",
              "      <td>2</td>\n",
              "    </tr>\n",
              "    <tr>\n",
              "      <th>3</th>\n",
              "      <td>4</td>\n",
              "      <td>1</td>\n",
              "      <td>A</td>\n",
              "      <td>2</td>\n",
              "    </tr>\n",
              "    <tr>\n",
              "      <th>4</th>\n",
              "      <td>5</td>\n",
              "      <td>1</td>\n",
              "      <td>series</td>\n",
              "      <td>2</td>\n",
              "    </tr>\n",
              "  </tbody>\n",
              "</table>\n",
              "</div>"
            ],
            "text/plain": [
              "   PhraseId  ...  Sentiment\n",
              "0         1  ...          1\n",
              "1         2  ...          2\n",
              "2         3  ...          2\n",
              "3         4  ...          2\n",
              "4         5  ...          2\n",
              "\n",
              "[5 rows x 4 columns]"
            ]
          },
          "metadata": {
            "tags": []
          },
          "execution_count": 15
        }
      ]
    },
    {
      "cell_type": "code",
      "metadata": {
        "id": "KWD7Og_E3lJ4",
        "colab_type": "code",
        "colab": {
          "base_uri": "https://localhost:8080/",
          "height": 202
        },
        "outputId": "0ec8247c-641d-4dd9-f27f-135d1a797f24"
      },
      "source": [
        "#test.head()"
      ],
      "execution_count": 14,
      "outputs": [
        {
          "output_type": "execute_result",
          "data": {
            "text/html": [
              "<div>\n",
              "<style scoped>\n",
              "    .dataframe tbody tr th:only-of-type {\n",
              "        vertical-align: middle;\n",
              "    }\n",
              "\n",
              "    .dataframe tbody tr th {\n",
              "        vertical-align: top;\n",
              "    }\n",
              "\n",
              "    .dataframe thead th {\n",
              "        text-align: right;\n",
              "    }\n",
              "</style>\n",
              "<table border=\"1\" class=\"dataframe\">\n",
              "  <thead>\n",
              "    <tr style=\"text-align: right;\">\n",
              "      <th></th>\n",
              "      <th>PhraseId</th>\n",
              "      <th>SentenceId</th>\n",
              "      <th>Phrase</th>\n",
              "    </tr>\n",
              "  </thead>\n",
              "  <tbody>\n",
              "    <tr>\n",
              "      <th>0</th>\n",
              "      <td>156061</td>\n",
              "      <td>8545</td>\n",
              "      <td>An intermittently pleasing but mostly routine ...</td>\n",
              "    </tr>\n",
              "    <tr>\n",
              "      <th>1</th>\n",
              "      <td>156062</td>\n",
              "      <td>8545</td>\n",
              "      <td>An intermittently pleasing but mostly routine ...</td>\n",
              "    </tr>\n",
              "    <tr>\n",
              "      <th>2</th>\n",
              "      <td>156063</td>\n",
              "      <td>8545</td>\n",
              "      <td>An</td>\n",
              "    </tr>\n",
              "    <tr>\n",
              "      <th>3</th>\n",
              "      <td>156064</td>\n",
              "      <td>8545</td>\n",
              "      <td>intermittently pleasing but mostly routine effort</td>\n",
              "    </tr>\n",
              "    <tr>\n",
              "      <th>4</th>\n",
              "      <td>156065</td>\n",
              "      <td>8545</td>\n",
              "      <td>intermittently pleasing but mostly routine</td>\n",
              "    </tr>\n",
              "  </tbody>\n",
              "</table>\n",
              "</div>"
            ],
            "text/plain": [
              "   PhraseId  SentenceId                                             Phrase\n",
              "0    156061        8545  An intermittently pleasing but mostly routine ...\n",
              "1    156062        8545  An intermittently pleasing but mostly routine ...\n",
              "2    156063        8545                                                 An\n",
              "3    156064        8545  intermittently pleasing but mostly routine effort\n",
              "4    156065        8545         intermittently pleasing but mostly routine"
            ]
          },
          "metadata": {
            "tags": []
          },
          "execution_count": 14
        }
      ]
    },
    {
      "cell_type": "code",
      "metadata": {
        "id": "9FCDumyG3Yun",
        "colab_type": "code",
        "colab": {
          "base_uri": "https://localhost:8080/",
          "height": 52
        },
        "outputId": "8470874f-667d-488b-e0d2-85b33bf7a47e"
      },
      "source": [
        "# Checking on the dimension\n",
        "print(train.shape, \"\\n\", \n",
        "      test.shape\n",
        "     )"
      ],
      "execution_count": 13,
      "outputs": [
        {
          "output_type": "stream",
          "text": [
            "(156060, 4) \n",
            " (66292, 3)\n"
          ],
          "name": "stdout"
        }
      ]
    },
    {
      "cell_type": "markdown",
      "metadata": {
        "id": "74bsIm6y3sUZ",
        "colab_type": "text"
      },
      "source": [
        "**NOTE**: Notice the dimension of the train and test data"
      ]
    },
    {
      "cell_type": "code",
      "metadata": {
        "id": "VtH7Ajqw4DE5",
        "colab_type": "code",
        "colab": {
          "base_uri": "https://localhost:8080/",
          "height": 52
        },
        "outputId": "ec67c4f8-5f9e-4d78-da9c-040b278f581d"
      },
      "source": [
        "# Null entry checking\n",
        "print (\"\\t\",train.isnull().values.any(), \"\\n\\t\",\n",
        "      test.isnull().values.any()\n",
        "      )"
      ],
      "execution_count": 17,
      "outputs": [
        {
          "output_type": "stream",
          "text": [
            "\t False \n",
            "\t False\n"
          ],
          "name": "stdout"
        }
      ]
    },
    {
      "cell_type": "code",
      "metadata": {
        "id": "ShT1_KZv4V7q",
        "colab_type": "code",
        "colab": {
          "base_uri": "https://localhost:8080/",
          "height": 35
        },
        "outputId": "6f4ad25b-5c76-40da-c282-6136270c7799"
      },
      "source": [
        "# Number of unique sentences in the training / testing dataset\n",
        "print (len(train.groupby('SentenceId').nunique()), \n",
        "       len(test.groupby('SentenceId').nunique())\n",
        "      )"
      ],
      "execution_count": 19,
      "outputs": [
        {
          "output_type": "stream",
          "text": [
            "8529 3310\n"
          ],
          "name": "stdout"
        }
      ]
    },
    {
      "cell_type": "markdown",
      "metadata": {
        "id": "JHYhNm3H5Gna",
        "colab_type": "text"
      },
      "source": [
        "Let's create a dataset with only full sentences. Exploring data this way will gives us cleaner graphs that aren't biased toward longer sentences. We can also add a label for the sentiment value to increased readability."
      ]
    },
    {
      "cell_type": "code",
      "metadata": {
        "id": "fhU_m6Ao5cGQ",
        "colab_type": "code",
        "colab": {
          "base_uri": "https://localhost:8080/",
          "height": 289
        },
        "outputId": "57f5d975-effb-41e6-924d-bb4050bb91df"
      },
      "source": [
        "#Create df of full sentences\n",
        "fullSent = train.loc[train.groupby('SentenceId')['PhraseId'].idxmin()]\n",
        "\n",
        "#Change sentiment to increase readability\n",
        "fullSent['sentiment_label'] = ''\n",
        "Sentiment_Label = ['Negative', 'Somewhat Negative', \n",
        "                  'Neutral', 'Somewhat Positive', 'Positive']\n",
        "for sent, label in enumerate(Sentiment_Label):\n",
        "    fullSent.loc[train.Sentiment == sent, 'sentiment_label'] = label\n",
        "    \n",
        "fullSent.head()"
      ],
      "execution_count": 20,
      "outputs": [
        {
          "output_type": "execute_result",
          "data": {
            "text/html": [
              "<div>\n",
              "<style scoped>\n",
              "    .dataframe tbody tr th:only-of-type {\n",
              "        vertical-align: middle;\n",
              "    }\n",
              "\n",
              "    .dataframe tbody tr th {\n",
              "        vertical-align: top;\n",
              "    }\n",
              "\n",
              "    .dataframe thead th {\n",
              "        text-align: right;\n",
              "    }\n",
              "</style>\n",
              "<table border=\"1\" class=\"dataframe\">\n",
              "  <thead>\n",
              "    <tr style=\"text-align: right;\">\n",
              "      <th></th>\n",
              "      <th>PhraseId</th>\n",
              "      <th>SentenceId</th>\n",
              "      <th>Phrase</th>\n",
              "      <th>Sentiment</th>\n",
              "      <th>sentiment_label</th>\n",
              "    </tr>\n",
              "  </thead>\n",
              "  <tbody>\n",
              "    <tr>\n",
              "      <th>0</th>\n",
              "      <td>1</td>\n",
              "      <td>1</td>\n",
              "      <td>A series of escapades demonstrating the adage ...</td>\n",
              "      <td>1</td>\n",
              "      <td>Somewhat Negative</td>\n",
              "    </tr>\n",
              "    <tr>\n",
              "      <th>63</th>\n",
              "      <td>64</td>\n",
              "      <td>2</td>\n",
              "      <td>This quiet , introspective and entertaining in...</td>\n",
              "      <td>4</td>\n",
              "      <td>Positive</td>\n",
              "    </tr>\n",
              "    <tr>\n",
              "      <th>81</th>\n",
              "      <td>82</td>\n",
              "      <td>3</td>\n",
              "      <td>Even fans of Ismail Merchant 's work , I suspe...</td>\n",
              "      <td>1</td>\n",
              "      <td>Somewhat Negative</td>\n",
              "    </tr>\n",
              "    <tr>\n",
              "      <th>116</th>\n",
              "      <td>117</td>\n",
              "      <td>4</td>\n",
              "      <td>A positively thrilling combination of ethnogra...</td>\n",
              "      <td>3</td>\n",
              "      <td>Somewhat Positive</td>\n",
              "    </tr>\n",
              "    <tr>\n",
              "      <th>156</th>\n",
              "      <td>157</td>\n",
              "      <td>5</td>\n",
              "      <td>Aggressive self-glorification and a manipulati...</td>\n",
              "      <td>1</td>\n",
              "      <td>Somewhat Negative</td>\n",
              "    </tr>\n",
              "  </tbody>\n",
              "</table>\n",
              "</div>"
            ],
            "text/plain": [
              "     PhraseId  SentenceId  ... Sentiment    sentiment_label\n",
              "0           1           1  ...         1  Somewhat Negative\n",
              "63         64           2  ...         4           Positive\n",
              "81         82           3  ...         1  Somewhat Negative\n",
              "116       117           4  ...         3  Somewhat Positive\n",
              "156       157           5  ...         1  Somewhat Negative\n",
              "\n",
              "[5 rows x 5 columns]"
            ]
          },
          "metadata": {
            "tags": []
          },
          "execution_count": 20
        }
      ]
    },
    {
      "cell_type": "markdown",
      "metadata": {
        "id": "35pNk8pa5l0b",
        "colab_type": "text"
      },
      "source": [
        "**Step 2**: Data Preprocessing"
      ]
    },
    {
      "cell_type": "code",
      "metadata": {
        "id": "UN0VGpJF5FzC",
        "colab_type": "code",
        "colab": {}
      },
      "source": [
        "#Add non-helpful stopwords to stopword list\n",
        "Stopwords = list(ENGLISH_STOP_WORDS)\n",
        "Stopwords.extend(['movie','movies','film','nt','rrb','lrb',\n",
        "                      'make','work','like','story','time','little'])"
      ],
      "execution_count": 0,
      "outputs": []
    },
    {
      "cell_type": "markdown",
      "metadata": {
        "id": "rWB34zh8-30_",
        "colab_type": "text"
      },
      "source": [
        "**Step 3**: Vectorization"
      ]
    },
    {
      "cell_type": "markdown",
      "metadata": {
        "id": "-bGgXFa1-r-Z",
        "colab_type": "text"
      },
      "source": [
        "Method 1 - BoW"
      ]
    },
    {
      "cell_type": "code",
      "metadata": {
        "id": "-L-Xar8R-txi",
        "colab_type": "code",
        "colab": {
          "base_uri": "https://localhost:8080/",
          "height": 225
        },
        "outputId": "ee5f2bb9-6a5e-4d57-d48d-5fd461a0fccf"
      },
      "source": [
        "#Create bag of word vectorizer for comparison in evaluation section\n",
        "BoW_vectorizer = CountVectorizer(strip_accents='unicode',\n",
        "                                 stop_words=Stopwords,\n",
        "                                 ngram_range=(1,3),\n",
        "                                 analyzer='word',\n",
        "                                 min_df=5,\n",
        "                                 max_df=0.5)\n",
        "\n",
        "BoW_vectorizer.fit(list(fullSent['Phrase']))"
      ],
      "execution_count": 82,
      "outputs": [
        {
          "output_type": "execute_result",
          "data": {
            "text/plain": [
              "CountVectorizer(analyzer='word', binary=False, decode_error='strict',\n",
              "                dtype=<class 'numpy.int64'>, encoding='utf-8', input='content',\n",
              "                lowercase=True, max_df=0.5, max_features=None, min_df=5,\n",
              "                ngram_range=(1, 3), preprocessor=None,\n",
              "                stop_words=['never', 'the', 'keep', 'to', 'interest', 'onto',\n",
              "                            'again', 'beside', 'then', 'within', 'mill',\n",
              "                            'meanwhile', 'anywhere', 'else', 'inc', 'off', 'at',\n",
              "                            'fill', 'under', 'twelve', 'amoungst', 'six', 'for',\n",
              "                            'a', 'how', 'because', 'is', 're', 'sometime',\n",
              "                            'while', ...],\n",
              "                strip_accents='unicode', token_pattern='(?u)\\\\b\\\\w\\\\w+\\\\b',\n",
              "                tokenizer=None, vocabulary=None)"
            ]
          },
          "metadata": {
            "tags": []
          },
          "execution_count": 82
        }
      ]
    },
    {
      "cell_type": "markdown",
      "metadata": {
        "id": "4u_Hh3gy_Glp",
        "colab_type": "text"
      },
      "source": [
        "Method 2 -  TF-IDF"
      ]
    },
    {
      "cell_type": "code",
      "metadata": {
        "id": "We-h2Wv3-RI5",
        "colab_type": "code",
        "colab": {
          "base_uri": "https://localhost:8080/",
          "height": 260
        },
        "outputId": "efdf1e2d-19da-4934-8c0b-23a6c965777f"
      },
      "source": [
        "#Create tfidf vectorizer object & fit to full sentence training data\n",
        "tfidf_vectorizor = TfidfVectorizer(min_df=5, \n",
        "                             max_df=0.5,\n",
        "                             analyzer='word',\n",
        "                             strip_accents='unicode',\n",
        "                             ngram_range=(1, 3),\n",
        "                             sublinear_tf=True, \n",
        "                             smooth_idf=True,\n",
        "                             use_idf=True,\n",
        "                             stop_words=Stopwords)\n",
        "\n",
        "tfidf_vectorizor.fit(list(fullSent['Phrase']))"
      ],
      "execution_count": 83,
      "outputs": [
        {
          "output_type": "execute_result",
          "data": {
            "text/plain": [
              "TfidfVectorizer(analyzer='word', binary=False, decode_error='strict',\n",
              "                dtype=<class 'numpy.float64'>, encoding='utf-8',\n",
              "                input='content', lowercase=True, max_df=0.5, max_features=None,\n",
              "                min_df=5, ngram_range=(1, 3), norm='l2', preprocessor=None,\n",
              "                smooth_idf=True,\n",
              "                stop_words=['never', 'the', 'keep', 'to', 'interest', 'onto',\n",
              "                            'again', 'beside', 'then', 'within', 'mill',\n",
              "                            'meanwhile', 'anywhere', 'else', 'inc', 'off', 'at',\n",
              "                            'fill', 'under', 'twelve', 'amoungst', 'six', 'for',\n",
              "                            'a', 'how', 'because', 'is', 're', 'sometime',\n",
              "                            'while', ...],\n",
              "                strip_accents='unicode', sublinear_tf=True,\n",
              "                token_pattern='(?u)\\\\b\\\\w\\\\w+\\\\b', tokenizer=None, use_idf=True,\n",
              "                vocabulary=None)"
            ]
          },
          "metadata": {
            "tags": []
          },
          "execution_count": 83
        }
      ]
    },
    {
      "cell_type": "markdown",
      "metadata": {
        "id": "E6JtcPsN_iH1",
        "colab_type": "text"
      },
      "source": [
        "Sanity analysis"
      ]
    },
    {
      "cell_type": "code",
      "metadata": {
        "id": "1XHIbYJL_oZb",
        "colab_type": "code",
        "colab": {}
      },
      "source": [
        "# Helper functions to create graphics below from tf-idf matrices\n",
        "#adapted from : https://buhrmann.github.io/tfidf-analysis.html\n",
        "def top_tfidf_feats(row, features, top_n=5):\n",
        "    topn_ids = np.argsort(row)[::-1][:top_n]\n",
        "    top_feats = [(features[i], row[i]) for i in topn_ids]\n",
        "    df = pd.DataFrame(top_feats)\n",
        "    df.columns = ['feature', 'tfidf']\n",
        "    return df\n",
        "\n",
        "def top_feats_in_doc(Xtr, features, row_id, top_n=5):\n",
        "    row = np.squeeze(Xtr[row_id].toarray())\n",
        "    return top_tfidf_feats(row, features, top_n)\n",
        "\n",
        "def top_mean_feats(Xtr, features, grp_ids=None, min_tfidf=0.1, top_n=5):\n",
        "    if grp_ids:\n",
        "        D = Xtr[grp_ids].toarray()\n",
        "    else:\n",
        "        D = Xtr.toarray()\n",
        "\n",
        "    D[D < min_tfidf] = 0\n",
        "    tfidf_means = np.mean(D, axis=0)\n",
        "    return top_tfidf_feats(tfidf_means, features, top_n)\n",
        "\n",
        "def top_feats_by_class(Xtr, y, features, min_tfidf=0.1, top_n=5):\n",
        "    dfs = []\n",
        "    labels = np.unique(y)\n",
        "    for label in labels:\n",
        "        ids = np.where(y==label)\n",
        "        feats_df = top_mean_feats(Xtr, features, ids, min_tfidf=min_tfidf, top_n=top_n)\n",
        "        feats_df.label = label\n",
        "        dfs.append(feats_df)\n",
        "    return dfs\n",
        "\n",
        "def plot_tfidf_classfeats_h(dfs, num_class=9):\n",
        "    fig = plt.figure(figsize=(12, 100), facecolor=\"w\")\n",
        "    x = np.arange(len(dfs[0]))\n",
        "    for i, df in enumerate(dfs):\n",
        "        ax = fig.add_subplot(num_class, 1, i+1)\n",
        "        ax.spines[\"top\"].set_visible(False)\n",
        "        ax.spines[\"bottom\"].set_visible(False)\n",
        "        ax.spines[\"right\"].set_visible(False)\n",
        "        ax.set_frame_on(False)\n",
        "        ax.get_xaxis().tick_bottom()\n",
        "        ax.get_yaxis().tick_left()\n",
        "        #ax.set_xlabel(\"Mean Tf-Idf Score\", labelpad=16, fontsize=16)\n",
        "        ax.set_ylabel(\"Word\", labelpad=16, fontsize=16)\n",
        "        ax.set_title(str(df.label) + ' Sentiment Class', fontsize=25, color='blue')\n",
        "        #ax.ticklabel_format(axis='x', style='sci', scilimits=(-2,2))\n",
        "        ax.barh(x, df.tfidf, align='center')\n",
        "        ax.set_yticks(x)\n",
        "        ax.set_ylim([-1, x[-1]+1])\n",
        "        ax.invert_yaxis()\n",
        "        yticks = ax.set_yticklabels(df.feature)\n",
        "        \n",
        "        for tick in ax.yaxis.get_major_ticks():\n",
        "                tick.label.set_fontsize(20) \n",
        "        plt.subplots_adjust(bottom=0.09, right=0.5, left=0.15, top=0.25, wspace=0.2)\n",
        "    plt.show()"
      ],
      "execution_count": 0,
      "outputs": []
    },
    {
      "cell_type": "code",
      "metadata": {
        "id": "bKEsZWcU_1PU",
        "colab_type": "code",
        "colab": {
          "base_uri": "https://localhost:8080/",
          "height": 889
        },
        "outputId": "a6ff607d-97d1-4b61-c7b6-9704011570f1"
      },
      "source": [
        "class_Xtr = tfidf_vectorizor.transform(fullSent['Phrase'])\n",
        "class_y = fullSent['sentiment_label']\n",
        "class_features = tfidf_vectorizor.get_feature_names()\n",
        "class_top_dfs = top_feats_by_class(class_Xtr, class_y, class_features)\n",
        "plot_tfidf_classfeats_h(class_top_dfs, 7)"
      ],
      "execution_count": 84,
      "outputs": [
        {
          "output_type": "display_data",
          "data": {
            "image/png": "[encoded data removed]",
            "text/plain": [
              "<Figure size 864x7200 with 5 Axes>"
            ]
          },
          "metadata": {
            "tags": []
          }
        }
      ]
    },
    {
      "cell_type": "markdown",
      "metadata": {
        "id": "crEpmmPbJrOZ",
        "colab_type": "text"
      },
      "source": [
        "Train/Test Splitting"
      ]
    },
    {
      "cell_type": "code",
      "metadata": {
        "id": "eN_1DjUEHhGK",
        "colab_type": "code",
        "colab": {}
      },
      "source": [
        "# All labled data\n",
        "phrase = fullSent['Phrase']\n",
        "sentiment = fullSent['Sentiment']\n",
        "\n",
        "\n",
        "#phrase = np.array(train['Phrase'])\n",
        "#sentiment = np.array(train['Sentiment'])"
      ],
      "execution_count": 0,
      "outputs": []
    },
    {
      "cell_type": "code",
      "metadata": {
        "id": "WKGiEVe7H91z",
        "colab_type": "code",
        "colab": {
          "base_uri": "https://localhost:8080/",
          "height": 35
        },
        "outputId": "561d2e44-fb16-4b4f-8e31-347833818334"
      },
      "source": [
        "phrase.shape, sentiment.shape"
      ],
      "execution_count": 133,
      "outputs": [
        {
          "output_type": "execute_result",
          "data": {
            "text/plain": [
              "((8529,), (8529,))"
            ]
          },
          "metadata": {
            "tags": []
          },
          "execution_count": 133
        }
      ]
    },
    {
      "cell_type": "code",
      "metadata": {
        "id": "GHc6HiSeIFKl",
        "colab_type": "code",
        "colab": {
          "base_uri": "https://localhost:8080/",
          "height": 72
        },
        "outputId": "d0f52719-d7f4-4235-acae-0d977da8271b"
      },
      "source": [
        "# Check data arrangement\n",
        "phrase[0], sentiment[0]"
      ],
      "execution_count": 134,
      "outputs": [
        {
          "output_type": "execute_result",
          "data": {
            "text/plain": [
              "('A series of escapades demonstrating the adage that what is good for the goose is also good for the gander , some of which occasionally amuses but none of which amounts to much of a story .',\n",
              " 1)"
            ]
          },
          "metadata": {
            "tags": []
          },
          "execution_count": 134
        }
      ]
    },
    {
      "cell_type": "code",
      "metadata": {
        "id": "2lKRavCoIjrF",
        "colab_type": "code",
        "colab": {}
      },
      "source": [
        "# build train and test datasets\n",
        "X_train, X_test, Y_train, Y_test = train_test_split(phrase, \n",
        "                                                    sentiment, \n",
        "                                                    test_size=0.2, \n",
        "                                                    random_state=4)"
      ],
      "execution_count": 0,
      "outputs": []
    },
    {
      "cell_type": "code",
      "metadata": {
        "id": "RbS3uwh_KtDc",
        "colab_type": "code",
        "colab": {
          "base_uri": "https://localhost:8080/",
          "height": 35
        },
        "outputId": "5d104b4f-f629-4f6e-917b-0368a38034aa"
      },
      "source": [
        "X_train.shape, Y_train.shape, X_test.shape, Y_test.shape"
      ],
      "execution_count": 136,
      "outputs": [
        {
          "output_type": "execute_result",
          "data": {
            "text/plain": [
              "((6823,), (6823,), (1706,), (1706,))"
            ]
          },
          "metadata": {
            "tags": []
          },
          "execution_count": 136
        }
      ]
    },
    {
      "cell_type": "markdown",
      "metadata": {
        "id": "j5y3sZoWJ88I",
        "colab_type": "text"
      },
      "source": [
        "Vectorization"
      ]
    },
    {
      "cell_type": "code",
      "metadata": {
        "id": "HEnfGSAtJRtS",
        "colab_type": "code",
        "colab": {}
      },
      "source": [
        "# Method 1 - BoW\n",
        "train_bow = BoW_vectorizer.transform(X_train)\n",
        "test_bow = BoW_vectorizer.transform(X_test)"
      ],
      "execution_count": 0,
      "outputs": []
    },
    {
      "cell_type": "code",
      "metadata": {
        "id": "gz9UgawZHFie",
        "colab_type": "code",
        "colab": {}
      },
      "source": [
        "# Method 2 - TF-IDF\n",
        "train_tfidf = tfidf_vectorizor.fit_transform(X_train)\n",
        "test_tfidf = tfidf_vectorizor.transform(X_test)"
      ],
      "execution_count": 0,
      "outputs": []
    },
    {
      "cell_type": "markdown",
      "metadata": {
        "id": "ixbDIjeAKEYW",
        "colab_type": "text"
      },
      "source": [
        "**Step 4**: Model Building and Traning"
      ]
    },
    {
      "cell_type": "code",
      "metadata": {
        "id": "WHEowO_TLaws",
        "colab_type": "code",
        "colab": {}
      },
      "source": [
        "# Helper function to train and predict\n",
        "def train_model_predict (classifier, train_features, train_labels,\n",
        "                      test_features):\n",
        "    classifier.fit(train_features, train_labels)\n",
        "    predictions = classifier.predict(test_features)\n",
        "    return predictions"
      ],
      "execution_count": 0,
      "outputs": []
    },
    {
      "cell_type": "code",
      "metadata": {
        "id": "1L3lotbAKaLk",
        "colab_type": "code",
        "colab": {}
      },
      "source": [
        "MNB = MultinomialNB() # Naive Bayes Model\n",
        "\n",
        "# Naive Bayes Model on TF-IDF vector\n",
        "MNB_TFIDF_y_= train_model_predict(MNB, \n",
        "                                  train_tfidf, Y_train,\n",
        "                                  test_tfidf)\n",
        "# Naive Bayes Model on BoW vector\n",
        "MNB_BOW_y_ = train_model_predict(MNB, \n",
        "                                 train_bow, Y_train,\n",
        "                                 test_bow)"
      ],
      "execution_count": 0,
      "outputs": []
    },
    {
      "cell_type": "code",
      "metadata": {
        "id": "L0hysmyLMoDB",
        "colab_type": "code",
        "colab": {}
      },
      "source": [
        "LR = LogisticRegression(solver = 'liblinear', \n",
        "                        multi_class = 'ovr') # Logistic Regression\n",
        "\n",
        "# Logistic Regression on TF-IDF vector\n",
        "LR_TFIDF_y_ = train_model_predict(LR, train_tfidf, Y_train,\n",
        "                                  test_tfidf)\n",
        "# Naive Bayes Model on BoW vector\n",
        "LR_BOW_y_ = train_model_predict(LR, \n",
        "                                 train_bow, Y_train,\n",
        "                                 test_bow)"
      ],
      "execution_count": 0,
      "outputs": []
    },
    {
      "cell_type": "markdown",
      "metadata": {
        "id": "I6TCOJH9NKLL",
        "colab_type": "text"
      },
      "source": [
        "**Step 5**: Performance Evaluation"
      ]
    },
    {
      "cell_type": "code",
      "metadata": {
        "id": "uiCotEMjNS8L",
        "colab_type": "code",
        "colab": {}
      },
      "source": [
        "# Helper function for handling printing organization\n",
        "def get_metrics(true_labels, predicted_labels, feature):  \n",
        "    print(feature)\n",
        "    print('Accuracy:', np.round(metrics.accuracy_score(true_labels, \n",
        "                                               predicted_labels), 4))\n",
        "    print('Precision:', np.round(metrics.precision_score(true_labels, \n",
        "                                               predicted_labels,\n",
        "                                               average='weighted'), 4))\n",
        "    print('Recall:', np.round(metrics.recall_score(true_labels, \n",
        "                                               predicted_labels,\n",
        "                                               average='weighted'), 4))\n",
        "    print('F1 Score:', np.round(metrics.f1_score(true_labels, \n",
        "                                               predicted_labels,\n",
        "                                               average='weighted'), 4))\n",
        "    print('\\n')"
      ],
      "execution_count": 0,
      "outputs": []
    },
    {
      "cell_type": "code",
      "metadata": {
        "id": "12TYUYu6L7-s",
        "colab_type": "code",
        "colab": {
          "base_uri": "https://localhost:8080/",
          "height": 260
        },
        "outputId": "a9135168-a743-414c-d427-a09a8349d352"
      },
      "source": [
        "get_metrics(MNB_TFIDF_y_, Y_test, 'Naive Bayes & TF-IDF Scores: ')\n",
        "get_metrics(MNB_BOW_y_, Y_test, 'Naive Bayes & Bag of Words Scores: ')"
      ],
      "execution_count": 143,
      "outputs": [
        {
          "output_type": "stream",
          "text": [
            "Naive Bayes & TF-IDF Scores: \n",
            "Accuracy: 0.3804\n",
            "Precision: 0.576\n",
            "Recall: 0.3804\n",
            "F1 Score: 0.4374\n",
            "\n",
            "\n",
            "Naive Bayes & Bag of Words Scores: \n",
            "Accuracy: 0.3693\n",
            "Precision: 0.3954\n",
            "Recall: 0.3693\n",
            "F1 Score: 0.3777\n",
            "\n",
            "\n"
          ],
          "name": "stdout"
        }
      ]
    },
    {
      "cell_type": "code",
      "metadata": {
        "id": "jOTJ5lx_OX0F",
        "colab_type": "code",
        "colab": {
          "base_uri": "https://localhost:8080/",
          "height": 260
        },
        "outputId": "157b793f-5d72-47d3-da9e-f6e600af68d2"
      },
      "source": [
        "get_metrics(LR_TFIDF_y_, Y_test, 'Logistic Regression & TF-IDF Scores: ')\n",
        "get_metrics(LR_BOW_y_, Y_test, 'Logistic Regression & Bag of Words Scores: ')"
      ],
      "execution_count": 144,
      "outputs": [
        {
          "output_type": "stream",
          "text": [
            "Logistic Regression & TF-IDF Scores: \n",
            "Accuracy: 0.3681\n",
            "Precision: 0.4713\n",
            "Recall: 0.3681\n",
            "F1 Score: 0.3969\n",
            "\n",
            "\n",
            "Logistic Regression & Bag of Words Scores: \n",
            "Accuracy: 0.3593\n",
            "Precision: 0.3892\n",
            "Recall: 0.3593\n",
            "F1 Score: 0.368\n",
            "\n",
            "\n"
          ],
          "name": "stdout"
        }
      ]
    },
    {
      "cell_type": "markdown",
      "metadata": {
        "id": "c4K2CJdZ-PS_",
        "colab_type": "text"
      },
      "source": [
        "# **Question:** \n",
        "1.   What did you observe from the results?\n",
        "2.   How can we improve the performance?\n",
        "\n",
        "\n",
        "\n",
        "\n"
      ]
    },
    {
      "cell_type": "markdown",
      "metadata": {
        "id": "ZZo1tACi-PD6",
        "colab_type": "text"
      },
      "source": [
        "*How work/Assignment # 3*: Build 7-layer neural network."
      ]
    },
    {
      "cell_type": "markdown",
      "metadata": {
        "id": "vHI7joOI5Rox",
        "colab_type": "text"
      },
      "source": [
        "Credits to https://www.kaggle.com/occam19/tf-idf-vs-bag-of-words"
      ]
    }
  ]
}