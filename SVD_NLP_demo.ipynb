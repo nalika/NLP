{
  "nbformat": 4,
  "nbformat_minor": 0,
  "metadata": {
    "colab": {
      "name": "SVD_NLP_demo.ipynb",
      "version": "0.3.2",
      "provenance": [],
      "collapsed_sections": [],
      "include_colab_link": true
    },
    "kernelspec": {
      "name": "python3",
      "display_name": "Python 3"
    }
  },
  "cells": [
    {
      "cell_type": "markdown",
      "metadata": {
        "id": "view-in-github",
        "colab_type": "text"
      },
      "source": [
        "<a href=\"https://colab.research.google.com/github/nalika/NLP/blob/master/SVD_NLP_demo.ipynb\" target=\"_parent\"><img src=\"https://colab.research.google.com/assets/colab-badge.svg\" alt=\"Open In Colab\"/></a>"
      ]
    },
    {
      "cell_type": "code",
      "metadata": {
        "id": "juPSMBSbTMyJ",
        "colab_type": "code",
        "colab": {}
      },
      "source": [
        "import numpy as np\n",
        "import matplotlib as plt\n",
        "import xra\n",
        "\n"
      ],
      "execution_count": 0,
      "outputs": []
    },
    {
      "cell_type": "code",
      "metadata": {
        "id": "0YVIOTXnUyqf",
        "colab_type": "code",
        "colab": {}
      },
      "source": [
        "la = np.linalg\n",
        "corpus = \"I like deep learning. I like NLP. I enjoy flying\"\n",
        "\n",
        "voc = [\"I\", \"like\", \"enjoy\", \"deep\", \"learning\", \"NLP\", \"flying\", \".\"]"
      ],
      "execution_count": 0,
      "outputs": []
    },
    {
      "cell_type": "code",
      "metadata": {
        "id": "0PqIqAkhVfac",
        "colab_type": "code",
        "colab": {}
      },
      "source": [
        "X = np.array([[0,2,1,0,0,0,0,0],\n",
        "              [2,0,0,1,0,1,0,0],\n",
        "              [1,0,0,0,0,0,1,0],\n",
        "              [0,1,0,0,1,0,0,0],\n",
        "              [0,0,0,1,0,0,0,1],\n",
        "              [0,1,0,0,0,0,0,1],\n",
        "              [0,0,1,0,0,0,0,1],\n",
        "              [0,0,0,0,1,1,1,0]])"
      ],
      "execution_count": 0,
      "outputs": []
    },
    {
      "cell_type": "code",
      "metadata": {
        "id": "gum-77SKXKJo",
        "colab_type": "code",
        "colab": {}
      },
      "source": [
        "U, s, v = la.svd(X, full_matrices=False)"
      ],
      "execution_count": 0,
      "outputs": []
    },
    {
      "cell_type": "code",
      "metadata": {
        "id": "GrsdwCUIZBmg",
        "colab_type": "code",
        "colab": {}
      },
      "source": [
        "U"
      ],
      "execution_count": 0,
      "outputs": []
    },
    {
      "cell_type": "code",
      "metadata": {
        "id": "NtVZmexSXWnT",
        "colab_type": "code",
        "colab": {
          "base_uri": "https://localhost:8080/",
          "height": 271
        },
        "outputId": "eed96e04-9ca0-4d02-847a-a2e6745f8eda"
      },
      "source": [
        "from past.builtins import xrange\n",
        "from pylab import figure, text, scatter, show\n",
        "\n",
        "import matplotlib.pyplot as plt \n",
        "\n",
        "f = figure()\n",
        "ax = f.add_subplot(111)\n",
        "scatter(U[:, 0],U[:, 1])\n",
        "\n",
        "plt.clf()\n",
        "\n",
        "# using some dummy data for this example\n",
        "xs = U[:, 0] #np.arange(0,10,1)\n",
        "ys = U[:, 1] #np.random.normal(loc=2.0, scale=0.8, size=10)\n",
        "\n",
        "#plt.plot(xs,ys)\n",
        "plt.scatter(xs,ys, s=0, c='b', marker='*')\n",
        "\n",
        "\n",
        "for token_id in xrange(len(voc)):\n",
        "    #print(U[token_id, 0], U[token_id,1], voc[token_id])\n",
        "    '''text(U[token_id, 0], U[token_id,1], voc[token_id],\n",
        "     horizontalalignment='center',\n",
        "     verticalalignment='center',\n",
        "     transform = ax.transAxes)\n",
        "    '''\n",
        "    plt.text(U[token_id, 0], U[token_id,1], voc[token_id], size=20, color='red')\n",
        "    # a 9-dimensional feature is reduced to 2\n",
        "    \n",
        "plt.xticks(np.arange(-0.7,0,0.2))\n",
        "plt.yticks(np.arange(-0.7,0.7,0.2))\n",
        "\n",
        "plt.show()"
      ],
      "execution_count": 46,
      "outputs": [
        {
          "output_type": "display_data",
          "data": {
            "image/png": "[encoded data removed]",
            "text/plain": [
              "<Figure size 432x288 with 1 Axes>"
            ]
          },
          "metadata": {
            "tags": []
          }
        }
      ]
    }
  ]
}