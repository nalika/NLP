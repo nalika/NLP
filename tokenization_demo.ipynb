{
  "nbformat": 4,
  "nbformat_minor": 0,
  "metadata": {
    "colab": {
      "name": "tokenization_demo.ipynb",
      "version": "0.3.2",
      "provenance": [],
      "collapsed_sections": [],
      "include_colab_link": true
    },
    "kernelspec": {
      "name": "python3",
      "display_name": "Python 3"
    }
  },
  "cells": [
    {
      "cell_type": "markdown",
      "metadata": {
        "id": "view-in-github",
        "colab_type": "text"
      },
      "source": [
        "<a href=\"https://colab.research.google.com/github/nalika/NLP/blob/master/tokenization_demo.ipynb\" target=\"_parent\"><img src=\"https://colab.research.google.com/assets/colab-badge.svg\" alt=\"Open In Colab\"/></a>"
      ]
    },
    {
      "cell_type": "code",
      "metadata": {
        "id": "ZPE5ogIpxO_9",
        "colab_type": "code",
        "colab": {}
      },
      "source": [
        "# import libraries\n",
        "import os\n",
        "import nltk\n",
        "import nltk.corpus"
      ],
      "execution_count": 0,
      "outputs": []
    },
    {
      "cell_type": "code",
      "metadata": {
        "id": "eZdWVXoU2pHg",
        "colab_type": "code",
        "colab": {
          "base_uri": "https://localhost:8080/",
          "height": 52
        },
        "outputId": "9e64637b-f098-400a-8b87-e54247deb153"
      },
      "source": [
        "nltk.download('punkt')\n",
        "from nltk.tokenize import word_tokenize"
      ],
      "execution_count": 4,
      "outputs": [
        {
          "output_type": "stream",
          "text": [
            "[nltk_data] Downloading package punkt to /root/nltk_data...\n",
            "[nltk_data]   Unzipping tokenizers/punkt.zip.\n"
          ],
          "name": "stdout"
        }
      ]
    },
    {
      "cell_type": "code",
      "metadata": {
        "id": "zWN8Ff0h2wqQ",
        "colab_type": "code",
        "colab": {
          "base_uri": "https://localhost:8080/",
          "height": 246
        },
        "outputId": "33b43d4f-c322-44fe-9a0f-f29f8e9f330c"
      },
      "source": [
        "tokens = word_tokenize(\"The classifier object contains the most informative words that it  obtained during analysis\")\n",
        "tokens"
      ],
      "execution_count": 5,
      "outputs": [
        {
          "output_type": "execute_result",
          "data": {
            "text/plain": [
              "['The',\n",
              " 'classifier',\n",
              " 'object',\n",
              " 'contains',\n",
              " 'the',\n",
              " 'most',\n",
              " 'informative',\n",
              " 'words',\n",
              " 'that',\n",
              " 'it',\n",
              " 'obtained',\n",
              " 'during',\n",
              " 'analysis']"
            ]
          },
          "metadata": {
            "tags": []
          },
          "execution_count": 5
        }
      ]
    },
    {
      "cell_type": "markdown",
      "metadata": {
        "id": "XBGTOquHlQHV",
        "colab_type": "text"
      },
      "source": [
        ""
      ]
    },
    {
      "cell_type": "code",
      "metadata": {
        "id": "Kgfm-vJU4D0b",
        "colab_type": "code",
        "colab": {
          "base_uri": "https://localhost:8080/",
          "height": 34
        },
        "outputId": "f7b60f84-86ff-4584-b50b-f84be79a159f"
      },
      "source": [
        "len(tokens)"
      ],
      "execution_count": 6,
      "outputs": [
        {
          "output_type": "execute_result",
          "data": {
            "text/plain": [
              "13"
            ]
          },
          "metadata": {
            "tags": []
          },
          "execution_count": 6
        }
      ]
    },
    {
      "cell_type": "code",
      "metadata": {
        "id": "VLGZoCEG4Grv",
        "colab_type": "code",
        "colab": {}
      },
      "source": [
        "from nltk.probability import FreqDist\n",
        "fdist = FreqDist()"
      ],
      "execution_count": 0,
      "outputs": []
    },
    {
      "cell_type": "code",
      "metadata": {
        "id": "0hpCe4bB4ST9",
        "colab_type": "code",
        "colab": {
          "base_uri": "https://localhost:8080/",
          "height": 228
        },
        "outputId": "06afe23b-0afe-467d-b24d-f1de3f192354"
      },
      "source": [
        "for word in tokens:\n",
        "  fdist[word.lower()]+=1\n",
        "\n",
        "fdist"
      ],
      "execution_count": 8,
      "outputs": [
        {
          "output_type": "execute_result",
          "data": {
            "text/plain": [
              "FreqDist({'analysis': 1,\n",
              "          'classifier': 1,\n",
              "          'contains': 1,\n",
              "          'during': 1,\n",
              "          'informative': 1,\n",
              "          'it': 1,\n",
              "          'most': 1,\n",
              "          'object': 1,\n",
              "          'obtained': 1,\n",
              "          'that': 1,\n",
              "          'the': 2,\n",
              "          'words': 1})"
            ]
          },
          "metadata": {
            "tags": []
          },
          "execution_count": 8
        }
      ]
    },
    {
      "cell_type": "code",
      "metadata": {
        "id": "JX1qGHtF4k3P",
        "colab_type": "code",
        "colab": {
          "base_uri": "https://localhost:8080/",
          "height": 193
        },
        "outputId": "5b2d6c05-7dd0-4109-9bcc-b11d5f724f26"
      },
      "source": [
        "fdist_top10 = fdist.most_common(10)\n",
        "fdist_top10"
      ],
      "execution_count": 9,
      "outputs": [
        {
          "output_type": "execute_result",
          "data": {
            "text/plain": [
              "[('the', 2),\n",
              " ('classifier', 1),\n",
              " ('object', 1),\n",
              " ('contains', 1),\n",
              " ('most', 1),\n",
              " ('informative', 1),\n",
              " ('words', 1),\n",
              " ('that', 1),\n",
              " ('it', 1),\n",
              " ('obtained', 1)]"
            ]
          },
          "metadata": {
            "tags": []
          },
          "execution_count": 9
        }
      ]
    },
    {
      "cell_type": "code",
      "metadata": {
        "id": "PjBHvGHu4xrw",
        "colab_type": "code",
        "colab": {
          "base_uri": "https://localhost:8080/",
          "height": 70
        },
        "outputId": "28d3569f-0ba0-4048-c641-5ddedaad3ab7"
      },
      "source": [
        "#Tokenization of Sentences\n",
        "from nltk.tokenize import sent_tokenize\n",
        "import nltk\n",
        "nltk.download('punkt')"
      ],
      "execution_count": 10,
      "outputs": [
        {
          "output_type": "stream",
          "text": [
            "[nltk_data] Downloading package punkt to /root/nltk_data...\n",
            "[nltk_data]   Package punkt is already up-to-date!\n"
          ],
          "name": "stdout"
        },
        {
          "output_type": "execute_result",
          "data": {
            "text/plain": [
              "True"
            ]
          },
          "metadata": {
            "tags": []
          },
          "execution_count": 10
        }
      ]
    },
    {
      "cell_type": "code",
      "metadata": {
        "id": "WLYNdDtmfaH9",
        "colab_type": "code",
        "colab": {
          "base_uri": "https://localhost:8080/",
          "height": 34
        },
        "outputId": "c1191050-1d77-4e94-f54a-248dedc3a1ef"
      },
      "source": [
        "text = \"God is Great! I won a lottery.\"\n",
        "print(sent_tokenize(text))"
      ],
      "execution_count": 11,
      "outputs": [
        {
          "output_type": "stream",
          "text": [
            "['God is Great!', 'I won a lottery.']\n"
          ],
          "name": "stdout"
        }
      ]
    },
    {
      "cell_type": "markdown",
      "metadata": {
        "id": "BjzooB6QlR8V",
        "colab_type": "text"
      },
      "source": [
        "# Bigrams, Trigrams, and Ngrams"
      ]
    },
    {
      "cell_type": "code",
      "metadata": {
        "id": "Y8gTFN1SlX-Y",
        "colab_type": "code",
        "colab": {}
      },
      "source": [
        "# import libraries \n",
        "from nltk.util import bigrams, trigrams, ngrams"
      ],
      "execution_count": 0,
      "outputs": []
    },
    {
      "cell_type": "code",
      "metadata": {
        "id": "j79wNGh5loXl",
        "colab_type": "code",
        "colab": {
          "base_uri": "https://localhost:8080/",
          "height": 54
        },
        "outputId": "af2e63da-0f8b-4b9a-fdff-dbd50fdd9575"
      },
      "source": [
        "mystring = \"An n-gram model is a type of probabilistic language model for predicting the next item in such a sequence in the form of a (n − 1)–order Markov model. n-gram models are now widely used in probability, communication theory, computational linguistics (for instance, statistical natural language processing), computational biology (for instance, biological sequence analysis), and data compression. Two benefits of n-gram models (and algorithms that use them) are simplicity and scalability – with larger n, a model can store more context with a well-understood space–time tradeoff, enabling small experiments to scale up efficiently.\"\n",
        "print(mystring)"
      ],
      "execution_count": 13,
      "outputs": [
        {
          "output_type": "stream",
          "text": [
            "An n-gram model is a type of probabilistic language model for predicting the next item in such a sequence in the form of a (n − 1)–order Markov model. n-gram models are now widely used in probability, communication theory, computational linguistics (for instance, statistical natural language processing), computational biology (for instance, biological sequence analysis), and data compression. Two benefits of n-gram models (and algorithms that use them) are simplicity and scalability – with larger n, a model can store more context with a well-understood space–time tradeoff, enabling small experiments to scale up efficiently.\n"
          ],
          "name": "stdout"
        }
      ]
    },
    {
      "cell_type": "code",
      "metadata": {
        "id": "BQXd7KTbmGIH",
        "colab_type": "code",
        "colab": {
          "base_uri": "https://localhost:8080/",
          "height": 2006
        },
        "outputId": "3ea40fc5-8eb0-4393-c4a1-3770c8e8226e"
      },
      "source": [
        "#make the words\n",
        "tokens = nltk.word_tokenize(mystring)\n",
        "tokens"
      ],
      "execution_count": 14,
      "outputs": [
        {
          "output_type": "execute_result",
          "data": {
            "text/plain": [
              "['An',\n",
              " 'n-gram',\n",
              " 'model',\n",
              " 'is',\n",
              " 'a',\n",
              " 'type',\n",
              " 'of',\n",
              " 'probabilistic',\n",
              " 'language',\n",
              " 'model',\n",
              " 'for',\n",
              " 'predicting',\n",
              " 'the',\n",
              " 'next',\n",
              " 'item',\n",
              " 'in',\n",
              " 'such',\n",
              " 'a',\n",
              " 'sequence',\n",
              " 'in',\n",
              " 'the',\n",
              " 'form',\n",
              " 'of',\n",
              " 'a',\n",
              " '(',\n",
              " 'n',\n",
              " '−',\n",
              " '1',\n",
              " ')',\n",
              " '–order',\n",
              " 'Markov',\n",
              " 'model',\n",
              " '.',\n",
              " 'n-gram',\n",
              " 'models',\n",
              " 'are',\n",
              " 'now',\n",
              " 'widely',\n",
              " 'used',\n",
              " 'in',\n",
              " 'probability',\n",
              " ',',\n",
              " 'communication',\n",
              " 'theory',\n",
              " ',',\n",
              " 'computational',\n",
              " 'linguistics',\n",
              " '(',\n",
              " 'for',\n",
              " 'instance',\n",
              " ',',\n",
              " 'statistical',\n",
              " 'natural',\n",
              " 'language',\n",
              " 'processing',\n",
              " ')',\n",
              " ',',\n",
              " 'computational',\n",
              " 'biology',\n",
              " '(',\n",
              " 'for',\n",
              " 'instance',\n",
              " ',',\n",
              " 'biological',\n",
              " 'sequence',\n",
              " 'analysis',\n",
              " ')',\n",
              " ',',\n",
              " 'and',\n",
              " 'data',\n",
              " 'compression',\n",
              " '.',\n",
              " 'Two',\n",
              " 'benefits',\n",
              " 'of',\n",
              " 'n-gram',\n",
              " 'models',\n",
              " '(',\n",
              " 'and',\n",
              " 'algorithms',\n",
              " 'that',\n",
              " 'use',\n",
              " 'them',\n",
              " ')',\n",
              " 'are',\n",
              " 'simplicity',\n",
              " 'and',\n",
              " 'scalability',\n",
              " '–',\n",
              " 'with',\n",
              " 'larger',\n",
              " 'n',\n",
              " ',',\n",
              " 'a',\n",
              " 'model',\n",
              " 'can',\n",
              " 'store',\n",
              " 'more',\n",
              " 'context',\n",
              " 'with',\n",
              " 'a',\n",
              " 'well-understood',\n",
              " 'space–time',\n",
              " 'tradeoff',\n",
              " ',',\n",
              " 'enabling',\n",
              " 'small',\n",
              " 'experiments',\n",
              " 'to',\n",
              " 'scale',\n",
              " 'up',\n",
              " 'efficiently',\n",
              " '.']"
            ]
          },
          "metadata": {
            "tags": []
          },
          "execution_count": 14
        }
      ]
    },
    {
      "cell_type": "code",
      "metadata": {
        "id": "kdDDV_nHmeww",
        "colab_type": "code",
        "colab": {
          "base_uri": "https://localhost:8080/",
          "height": 34
        },
        "outputId": "f832c7c2-6432-4982-a0c9-f811e741eb64"
      },
      "source": [
        "len(tokens)"
      ],
      "execution_count": 15,
      "outputs": [
        {
          "output_type": "execute_result",
          "data": {
            "text/plain": [
              "113"
            ]
          },
          "metadata": {
            "tags": []
          },
          "execution_count": 15
        }
      ]
    },
    {
      "cell_type": "markdown",
      "metadata": {
        "id": "y29E_xeGoL90",
        "colab_type": "text"
      },
      "source": [
        "Bigram"
      ]
    },
    {
      "cell_type": "code",
      "metadata": {
        "id": "cZt0vpxKmhFH",
        "colab_type": "code",
        "colab": {
          "base_uri": "https://localhost:8080/",
          "height": 1988
        },
        "outputId": "7f4f1ff6-90af-4959-87cb-383cd848ca54"
      },
      "source": [
        "#bigram list from the tokens\n",
        "bigram_list = list(nltk.bigrams(tokens))\n",
        "bigram_list"
      ],
      "execution_count": 16,
      "outputs": [
        {
          "output_type": "execute_result",
          "data": {
            "text/plain": [
              "[('An', 'n-gram'),\n",
              " ('n-gram', 'model'),\n",
              " ('model', 'is'),\n",
              " ('is', 'a'),\n",
              " ('a', 'type'),\n",
              " ('type', 'of'),\n",
              " ('of', 'probabilistic'),\n",
              " ('probabilistic', 'language'),\n",
              " ('language', 'model'),\n",
              " ('model', 'for'),\n",
              " ('for', 'predicting'),\n",
              " ('predicting', 'the'),\n",
              " ('the', 'next'),\n",
              " ('next', 'item'),\n",
              " ('item', 'in'),\n",
              " ('in', 'such'),\n",
              " ('such', 'a'),\n",
              " ('a', 'sequence'),\n",
              " ('sequence', 'in'),\n",
              " ('in', 'the'),\n",
              " ('the', 'form'),\n",
              " ('form', 'of'),\n",
              " ('of', 'a'),\n",
              " ('a', '('),\n",
              " ('(', 'n'),\n",
              " ('n', '−'),\n",
              " ('−', '1'),\n",
              " ('1', ')'),\n",
              " (')', '–order'),\n",
              " ('–order', 'Markov'),\n",
              " ('Markov', 'model'),\n",
              " ('model', '.'),\n",
              " ('.', 'n-gram'),\n",
              " ('n-gram', 'models'),\n",
              " ('models', 'are'),\n",
              " ('are', 'now'),\n",
              " ('now', 'widely'),\n",
              " ('widely', 'used'),\n",
              " ('used', 'in'),\n",
              " ('in', 'probability'),\n",
              " ('probability', ','),\n",
              " (',', 'communication'),\n",
              " ('communication', 'theory'),\n",
              " ('theory', ','),\n",
              " (',', 'computational'),\n",
              " ('computational', 'linguistics'),\n",
              " ('linguistics', '('),\n",
              " ('(', 'for'),\n",
              " ('for', 'instance'),\n",
              " ('instance', ','),\n",
              " (',', 'statistical'),\n",
              " ('statistical', 'natural'),\n",
              " ('natural', 'language'),\n",
              " ('language', 'processing'),\n",
              " ('processing', ')'),\n",
              " (')', ','),\n",
              " (',', 'computational'),\n",
              " ('computational', 'biology'),\n",
              " ('biology', '('),\n",
              " ('(', 'for'),\n",
              " ('for', 'instance'),\n",
              " ('instance', ','),\n",
              " (',', 'biological'),\n",
              " ('biological', 'sequence'),\n",
              " ('sequence', 'analysis'),\n",
              " ('analysis', ')'),\n",
              " (')', ','),\n",
              " (',', 'and'),\n",
              " ('and', 'data'),\n",
              " ('data', 'compression'),\n",
              " ('compression', '.'),\n",
              " ('.', 'Two'),\n",
              " ('Two', 'benefits'),\n",
              " ('benefits', 'of'),\n",
              " ('of', 'n-gram'),\n",
              " ('n-gram', 'models'),\n",
              " ('models', '('),\n",
              " ('(', 'and'),\n",
              " ('and', 'algorithms'),\n",
              " ('algorithms', 'that'),\n",
              " ('that', 'use'),\n",
              " ('use', 'them'),\n",
              " ('them', ')'),\n",
              " (')', 'are'),\n",
              " ('are', 'simplicity'),\n",
              " ('simplicity', 'and'),\n",
              " ('and', 'scalability'),\n",
              " ('scalability', '–'),\n",
              " ('–', 'with'),\n",
              " ('with', 'larger'),\n",
              " ('larger', 'n'),\n",
              " ('n', ','),\n",
              " (',', 'a'),\n",
              " ('a', 'model'),\n",
              " ('model', 'can'),\n",
              " ('can', 'store'),\n",
              " ('store', 'more'),\n",
              " ('more', 'context'),\n",
              " ('context', 'with'),\n",
              " ('with', 'a'),\n",
              " ('a', 'well-understood'),\n",
              " ('well-understood', 'space–time'),\n",
              " ('space–time', 'tradeoff'),\n",
              " ('tradeoff', ','),\n",
              " (',', 'enabling'),\n",
              " ('enabling', 'small'),\n",
              " ('small', 'experiments'),\n",
              " ('experiments', 'to'),\n",
              " ('to', 'scale'),\n",
              " ('scale', 'up'),\n",
              " ('up', 'efficiently'),\n",
              " ('efficiently', '.')]"
            ]
          },
          "metadata": {
            "tags": []
          },
          "execution_count": 16
        }
      ]
    },
    {
      "cell_type": "code",
      "metadata": {
        "id": "9beJqeeim46_",
        "colab_type": "code",
        "colab": {
          "base_uri": "https://localhost:8080/",
          "height": 34
        },
        "outputId": "d961f3c3-4dd5-411e-d8e3-05d9f29b1632"
      },
      "source": [
        "len(bigram_list) # Why we get 112 while token length is 113?"
      ],
      "execution_count": 17,
      "outputs": [
        {
          "output_type": "execute_result",
          "data": {
            "text/plain": [
              "112"
            ]
          },
          "metadata": {
            "tags": []
          },
          "execution_count": 17
        }
      ]
    },
    {
      "cell_type": "markdown",
      "metadata": {
        "id": "kbVdiQbYoG6J",
        "colab_type": "text"
      },
      "source": [
        "Trigrams"
      ]
    },
    {
      "cell_type": "code",
      "metadata": {
        "id": "u8ulORQBnGkW",
        "colab_type": "code",
        "colab": {
          "base_uri": "https://localhost:8080/",
          "height": 1970
        },
        "outputId": "85163382-5ff0-47ec-b21d-ff94adb17dcf"
      },
      "source": [
        "#trigrams\n",
        "trigram_list = list(nltk.trigrams(tokens))\n",
        "trigram_list"
      ],
      "execution_count": 18,
      "outputs": [
        {
          "output_type": "execute_result",
          "data": {
            "text/plain": [
              "[('An', 'n-gram', 'model'),\n",
              " ('n-gram', 'model', 'is'),\n",
              " ('model', 'is', 'a'),\n",
              " ('is', 'a', 'type'),\n",
              " ('a', 'type', 'of'),\n",
              " ('type', 'of', 'probabilistic'),\n",
              " ('of', 'probabilistic', 'language'),\n",
              " ('probabilistic', 'language', 'model'),\n",
              " ('language', 'model', 'for'),\n",
              " ('model', 'for', 'predicting'),\n",
              " ('for', 'predicting', 'the'),\n",
              " ('predicting', 'the', 'next'),\n",
              " ('the', 'next', 'item'),\n",
              " ('next', 'item', 'in'),\n",
              " ('item', 'in', 'such'),\n",
              " ('in', 'such', 'a'),\n",
              " ('such', 'a', 'sequence'),\n",
              " ('a', 'sequence', 'in'),\n",
              " ('sequence', 'in', 'the'),\n",
              " ('in', 'the', 'form'),\n",
              " ('the', 'form', 'of'),\n",
              " ('form', 'of', 'a'),\n",
              " ('of', 'a', '('),\n",
              " ('a', '(', 'n'),\n",
              " ('(', 'n', '−'),\n",
              " ('n', '−', '1'),\n",
              " ('−', '1', ')'),\n",
              " ('1', ')', '–order'),\n",
              " (')', '–order', 'Markov'),\n",
              " ('–order', 'Markov', 'model'),\n",
              " ('Markov', 'model', '.'),\n",
              " ('model', '.', 'n-gram'),\n",
              " ('.', 'n-gram', 'models'),\n",
              " ('n-gram', 'models', 'are'),\n",
              " ('models', 'are', 'now'),\n",
              " ('are', 'now', 'widely'),\n",
              " ('now', 'widely', 'used'),\n",
              " ('widely', 'used', 'in'),\n",
              " ('used', 'in', 'probability'),\n",
              " ('in', 'probability', ','),\n",
              " ('probability', ',', 'communication'),\n",
              " (',', 'communication', 'theory'),\n",
              " ('communication', 'theory', ','),\n",
              " ('theory', ',', 'computational'),\n",
              " (',', 'computational', 'linguistics'),\n",
              " ('computational', 'linguistics', '('),\n",
              " ('linguistics', '(', 'for'),\n",
              " ('(', 'for', 'instance'),\n",
              " ('for', 'instance', ','),\n",
              " ('instance', ',', 'statistical'),\n",
              " (',', 'statistical', 'natural'),\n",
              " ('statistical', 'natural', 'language'),\n",
              " ('natural', 'language', 'processing'),\n",
              " ('language', 'processing', ')'),\n",
              " ('processing', ')', ','),\n",
              " (')', ',', 'computational'),\n",
              " (',', 'computational', 'biology'),\n",
              " ('computational', 'biology', '('),\n",
              " ('biology', '(', 'for'),\n",
              " ('(', 'for', 'instance'),\n",
              " ('for', 'instance', ','),\n",
              " ('instance', ',', 'biological'),\n",
              " (',', 'biological', 'sequence'),\n",
              " ('biological', 'sequence', 'analysis'),\n",
              " ('sequence', 'analysis', ')'),\n",
              " ('analysis', ')', ','),\n",
              " (')', ',', 'and'),\n",
              " (',', 'and', 'data'),\n",
              " ('and', 'data', 'compression'),\n",
              " ('data', 'compression', '.'),\n",
              " ('compression', '.', 'Two'),\n",
              " ('.', 'Two', 'benefits'),\n",
              " ('Two', 'benefits', 'of'),\n",
              " ('benefits', 'of', 'n-gram'),\n",
              " ('of', 'n-gram', 'models'),\n",
              " ('n-gram', 'models', '('),\n",
              " ('models', '(', 'and'),\n",
              " ('(', 'and', 'algorithms'),\n",
              " ('and', 'algorithms', 'that'),\n",
              " ('algorithms', 'that', 'use'),\n",
              " ('that', 'use', 'them'),\n",
              " ('use', 'them', ')'),\n",
              " ('them', ')', 'are'),\n",
              " (')', 'are', 'simplicity'),\n",
              " ('are', 'simplicity', 'and'),\n",
              " ('simplicity', 'and', 'scalability'),\n",
              " ('and', 'scalability', '–'),\n",
              " ('scalability', '–', 'with'),\n",
              " ('–', 'with', 'larger'),\n",
              " ('with', 'larger', 'n'),\n",
              " ('larger', 'n', ','),\n",
              " ('n', ',', 'a'),\n",
              " (',', 'a', 'model'),\n",
              " ('a', 'model', 'can'),\n",
              " ('model', 'can', 'store'),\n",
              " ('can', 'store', 'more'),\n",
              " ('store', 'more', 'context'),\n",
              " ('more', 'context', 'with'),\n",
              " ('context', 'with', 'a'),\n",
              " ('with', 'a', 'well-understood'),\n",
              " ('a', 'well-understood', 'space–time'),\n",
              " ('well-understood', 'space–time', 'tradeoff'),\n",
              " ('space–time', 'tradeoff', ','),\n",
              " ('tradeoff', ',', 'enabling'),\n",
              " (',', 'enabling', 'small'),\n",
              " ('enabling', 'small', 'experiments'),\n",
              " ('small', 'experiments', 'to'),\n",
              " ('experiments', 'to', 'scale'),\n",
              " ('to', 'scale', 'up'),\n",
              " ('scale', 'up', 'efficiently'),\n",
              " ('up', 'efficiently', '.')]"
            ]
          },
          "metadata": {
            "tags": []
          },
          "execution_count": 18
        }
      ]
    },
    {
      "cell_type": "code",
      "metadata": {
        "id": "Hac0trbgnpky",
        "colab_type": "code",
        "colab": {
          "base_uri": "https://localhost:8080/",
          "height": 34
        },
        "outputId": "c34fe263-6ccf-4597-867d-293f2bfefd83"
      },
      "source": [
        "len(trigram_list) # Why we get 112 while token length is 113?"
      ],
      "execution_count": 19,
      "outputs": [
        {
          "output_type": "execute_result",
          "data": {
            "text/plain": [
              "111"
            ]
          },
          "metadata": {
            "tags": []
          },
          "execution_count": 19
        }
      ]
    },
    {
      "cell_type": "markdown",
      "metadata": {
        "id": "jnfpNgGJn-t_",
        "colab_type": "text"
      },
      "source": [
        "n-Grams\n"
      ]
    },
    {
      "cell_type": "code",
      "metadata": {
        "id": "gBGUxc-voBKO",
        "colab_type": "code",
        "colab": {
          "base_uri": "https://localhost:8080/",
          "height": 1918
        },
        "outputId": "2fe839b0-918d-45bd-de3a-f21bd5ae5e78"
      },
      "source": [
        "#set the n for the consecutive words\n",
        "n = 6\n",
        "ngram_list = list(nltk.ngrams(tokens, n))\n",
        "ngram_list"
      ],
      "execution_count": 21,
      "outputs": [
        {
          "output_type": "execute_result",
          "data": {
            "text/plain": [
              "[('An', 'n-gram', 'model', 'is', 'a', 'type'),\n",
              " ('n-gram', 'model', 'is', 'a', 'type', 'of'),\n",
              " ('model', 'is', 'a', 'type', 'of', 'probabilistic'),\n",
              " ('is', 'a', 'type', 'of', 'probabilistic', 'language'),\n",
              " ('a', 'type', 'of', 'probabilistic', 'language', 'model'),\n",
              " ('type', 'of', 'probabilistic', 'language', 'model', 'for'),\n",
              " ('of', 'probabilistic', 'language', 'model', 'for', 'predicting'),\n",
              " ('probabilistic', 'language', 'model', 'for', 'predicting', 'the'),\n",
              " ('language', 'model', 'for', 'predicting', 'the', 'next'),\n",
              " ('model', 'for', 'predicting', 'the', 'next', 'item'),\n",
              " ('for', 'predicting', 'the', 'next', 'item', 'in'),\n",
              " ('predicting', 'the', 'next', 'item', 'in', 'such'),\n",
              " ('the', 'next', 'item', 'in', 'such', 'a'),\n",
              " ('next', 'item', 'in', 'such', 'a', 'sequence'),\n",
              " ('item', 'in', 'such', 'a', 'sequence', 'in'),\n",
              " ('in', 'such', 'a', 'sequence', 'in', 'the'),\n",
              " ('such', 'a', 'sequence', 'in', 'the', 'form'),\n",
              " ('a', 'sequence', 'in', 'the', 'form', 'of'),\n",
              " ('sequence', 'in', 'the', 'form', 'of', 'a'),\n",
              " ('in', 'the', 'form', 'of', 'a', '('),\n",
              " ('the', 'form', 'of', 'a', '(', 'n'),\n",
              " ('form', 'of', 'a', '(', 'n', '−'),\n",
              " ('of', 'a', '(', 'n', '−', '1'),\n",
              " ('a', '(', 'n', '−', '1', ')'),\n",
              " ('(', 'n', '−', '1', ')', '–order'),\n",
              " ('n', '−', '1', ')', '–order', 'Markov'),\n",
              " ('−', '1', ')', '–order', 'Markov', 'model'),\n",
              " ('1', ')', '–order', 'Markov', 'model', '.'),\n",
              " (')', '–order', 'Markov', 'model', '.', 'n-gram'),\n",
              " ('–order', 'Markov', 'model', '.', 'n-gram', 'models'),\n",
              " ('Markov', 'model', '.', 'n-gram', 'models', 'are'),\n",
              " ('model', '.', 'n-gram', 'models', 'are', 'now'),\n",
              " ('.', 'n-gram', 'models', 'are', 'now', 'widely'),\n",
              " ('n-gram', 'models', 'are', 'now', 'widely', 'used'),\n",
              " ('models', 'are', 'now', 'widely', 'used', 'in'),\n",
              " ('are', 'now', 'widely', 'used', 'in', 'probability'),\n",
              " ('now', 'widely', 'used', 'in', 'probability', ','),\n",
              " ('widely', 'used', 'in', 'probability', ',', 'communication'),\n",
              " ('used', 'in', 'probability', ',', 'communication', 'theory'),\n",
              " ('in', 'probability', ',', 'communication', 'theory', ','),\n",
              " ('probability', ',', 'communication', 'theory', ',', 'computational'),\n",
              " (',', 'communication', 'theory', ',', 'computational', 'linguistics'),\n",
              " ('communication', 'theory', ',', 'computational', 'linguistics', '('),\n",
              " ('theory', ',', 'computational', 'linguistics', '(', 'for'),\n",
              " (',', 'computational', 'linguistics', '(', 'for', 'instance'),\n",
              " ('computational', 'linguistics', '(', 'for', 'instance', ','),\n",
              " ('linguistics', '(', 'for', 'instance', ',', 'statistical'),\n",
              " ('(', 'for', 'instance', ',', 'statistical', 'natural'),\n",
              " ('for', 'instance', ',', 'statistical', 'natural', 'language'),\n",
              " ('instance', ',', 'statistical', 'natural', 'language', 'processing'),\n",
              " (',', 'statistical', 'natural', 'language', 'processing', ')'),\n",
              " ('statistical', 'natural', 'language', 'processing', ')', ','),\n",
              " ('natural', 'language', 'processing', ')', ',', 'computational'),\n",
              " ('language', 'processing', ')', ',', 'computational', 'biology'),\n",
              " ('processing', ')', ',', 'computational', 'biology', '('),\n",
              " (')', ',', 'computational', 'biology', '(', 'for'),\n",
              " (',', 'computational', 'biology', '(', 'for', 'instance'),\n",
              " ('computational', 'biology', '(', 'for', 'instance', ','),\n",
              " ('biology', '(', 'for', 'instance', ',', 'biological'),\n",
              " ('(', 'for', 'instance', ',', 'biological', 'sequence'),\n",
              " ('for', 'instance', ',', 'biological', 'sequence', 'analysis'),\n",
              " ('instance', ',', 'biological', 'sequence', 'analysis', ')'),\n",
              " (',', 'biological', 'sequence', 'analysis', ')', ','),\n",
              " ('biological', 'sequence', 'analysis', ')', ',', 'and'),\n",
              " ('sequence', 'analysis', ')', ',', 'and', 'data'),\n",
              " ('analysis', ')', ',', 'and', 'data', 'compression'),\n",
              " (')', ',', 'and', 'data', 'compression', '.'),\n",
              " (',', 'and', 'data', 'compression', '.', 'Two'),\n",
              " ('and', 'data', 'compression', '.', 'Two', 'benefits'),\n",
              " ('data', 'compression', '.', 'Two', 'benefits', 'of'),\n",
              " ('compression', '.', 'Two', 'benefits', 'of', 'n-gram'),\n",
              " ('.', 'Two', 'benefits', 'of', 'n-gram', 'models'),\n",
              " ('Two', 'benefits', 'of', 'n-gram', 'models', '('),\n",
              " ('benefits', 'of', 'n-gram', 'models', '(', 'and'),\n",
              " ('of', 'n-gram', 'models', '(', 'and', 'algorithms'),\n",
              " ('n-gram', 'models', '(', 'and', 'algorithms', 'that'),\n",
              " ('models', '(', 'and', 'algorithms', 'that', 'use'),\n",
              " ('(', 'and', 'algorithms', 'that', 'use', 'them'),\n",
              " ('and', 'algorithms', 'that', 'use', 'them', ')'),\n",
              " ('algorithms', 'that', 'use', 'them', ')', 'are'),\n",
              " ('that', 'use', 'them', ')', 'are', 'simplicity'),\n",
              " ('use', 'them', ')', 'are', 'simplicity', 'and'),\n",
              " ('them', ')', 'are', 'simplicity', 'and', 'scalability'),\n",
              " (')', 'are', 'simplicity', 'and', 'scalability', '–'),\n",
              " ('are', 'simplicity', 'and', 'scalability', '–', 'with'),\n",
              " ('simplicity', 'and', 'scalability', '–', 'with', 'larger'),\n",
              " ('and', 'scalability', '–', 'with', 'larger', 'n'),\n",
              " ('scalability', '–', 'with', 'larger', 'n', ','),\n",
              " ('–', 'with', 'larger', 'n', ',', 'a'),\n",
              " ('with', 'larger', 'n', ',', 'a', 'model'),\n",
              " ('larger', 'n', ',', 'a', 'model', 'can'),\n",
              " ('n', ',', 'a', 'model', 'can', 'store'),\n",
              " (',', 'a', 'model', 'can', 'store', 'more'),\n",
              " ('a', 'model', 'can', 'store', 'more', 'context'),\n",
              " ('model', 'can', 'store', 'more', 'context', 'with'),\n",
              " ('can', 'store', 'more', 'context', 'with', 'a'),\n",
              " ('store', 'more', 'context', 'with', 'a', 'well-understood'),\n",
              " ('more', 'context', 'with', 'a', 'well-understood', 'space–time'),\n",
              " ('context', 'with', 'a', 'well-understood', 'space–time', 'tradeoff'),\n",
              " ('with', 'a', 'well-understood', 'space–time', 'tradeoff', ','),\n",
              " ('a', 'well-understood', 'space–time', 'tradeoff', ',', 'enabling'),\n",
              " ('well-understood', 'space–time', 'tradeoff', ',', 'enabling', 'small'),\n",
              " ('space–time', 'tradeoff', ',', 'enabling', 'small', 'experiments'),\n",
              " ('tradeoff', ',', 'enabling', 'small', 'experiments', 'to'),\n",
              " (',', 'enabling', 'small', 'experiments', 'to', 'scale'),\n",
              " ('enabling', 'small', 'experiments', 'to', 'scale', 'up'),\n",
              " ('small', 'experiments', 'to', 'scale', 'up', 'efficiently'),\n",
              " ('experiments', 'to', 'scale', 'up', 'efficiently', '.')]"
            ]
          },
          "metadata": {
            "tags": []
          },
          "execution_count": 21
        }
      ]
    },
    {
      "cell_type": "code",
      "metadata": {
        "id": "cnmQsRTeo_Rs",
        "colab_type": "code",
        "colab": {
          "base_uri": "https://localhost:8080/",
          "height": 34
        },
        "outputId": "3d2cb252-1f06-4006-b76f-f81d1f17d090"
      },
      "source": [
        "len(ngram_list)"
      ],
      "execution_count": 22,
      "outputs": [
        {
          "output_type": "execute_result",
          "data": {
            "text/plain": [
              "108"
            ]
          },
          "metadata": {
            "tags": []
          },
          "execution_count": 22
        }
      ]
    },
    {
      "cell_type": "markdown",
      "metadata": {
        "id": "Htu8bBYGtOQL",
        "colab_type": "text"
      },
      "source": [
        "# Applications of Stemming and Lemmatization, and how to stem and lemmatize words, sentences and documents using the Python nltk package"
      ]
    },
    {
      "cell_type": "code",
      "metadata": {
        "id": "oLyDlveZtaHD",
        "colab_type": "code",
        "colab": {}
      },
      "source": [
        "# There are many stemming algorithms \n",
        "from nltk.stem import PorterStemmer\n",
        "pst = PorterStemmer()"
      ],
      "execution_count": 0,
      "outputs": []
    },
    {
      "cell_type": "code",
      "metadata": {
        "id": "NttMbLHgvJJH",
        "colab_type": "code",
        "colab": {
          "base_uri": "https://localhost:8080/",
          "height": 34
        },
        "outputId": "15ff98c9-fbd5-4563-926a-475a3c68b29d"
      },
      "source": [
        "pst.stem(\"playing\") # what is the root form of playing?"
      ],
      "execution_count": 24,
      "outputs": [
        {
          "output_type": "execute_result",
          "data": {
            "text/plain": [
              "'play'"
            ]
          },
          "metadata": {
            "tags": []
          },
          "execution_count": 24
        }
      ]
    },
    {
      "cell_type": "code",
      "metadata": {
        "id": "LmMHLvhNvP66",
        "colab_type": "code",
        "colab": {
          "base_uri": "https://localhost:8080/",
          "height": 193
        },
        "outputId": "18ec8b04-4636-4237-fe51-3557747a6c96"
      },
      "source": [
        "myword_stem_list = [\"play\", \"playing\", \"played\", \"playful\",\n",
        "                    \"forgive\", \"forgiven\", \"forgivable\", \"forgiving\"]\n",
        "print(\"Results of using PorterStemmer\\n\" + 30*\"-\")\n",
        "for word in myword_stem_list:\n",
        "  print(word + \":\" + pst.stem(word))"
      ],
      "execution_count": 25,
      "outputs": [
        {
          "output_type": "stream",
          "text": [
            "Results of using PorterStemmer\n",
            "------------------------------\n",
            "play:play\n",
            "playing:play\n",
            "played:play\n",
            "playful:play\n",
            "forgive:forgiv\n",
            "forgiven:forgiven\n",
            "forgivable:forgiv\n",
            "forgiving:forgiv\n"
          ],
          "name": "stdout"
        }
      ]
    },
    {
      "cell_type": "code",
      "metadata": {
        "id": "WRasSb9xwLIe",
        "colab_type": "code",
        "colab": {}
      },
      "source": [
        "#let's try with LancasterStemmer\n",
        "from nltk.stem import LancasterStemmer\n",
        "lst = LancasterStemmer()"
      ],
      "execution_count": 0,
      "outputs": []
    },
    {
      "cell_type": "code",
      "metadata": {
        "id": "-buj8vbGwWyu",
        "colab_type": "code",
        "colab": {
          "base_uri": "https://localhost:8080/",
          "height": 193
        },
        "outputId": "62ca37b8-19a7-4aa5-f0a8-c4d28a0f136c"
      },
      "source": [
        "print(\"Results of using LancasterStemmer\\n\" + 30*\"-\")\n",
        "for word in myword_stem_list:\n",
        "  print(word + \":\" + lst.stem(word))"
      ],
      "execution_count": 27,
      "outputs": [
        {
          "output_type": "stream",
          "text": [
            "Results of using LancasterStemmer\n",
            "------------------------------\n",
            "play:play\n",
            "playing:play\n",
            "played:play\n",
            "playful:play\n",
            "forgive:forg\n",
            "forgiven:forg\n",
            "forgivable:forg\n",
            "forgiving:forg\n"
          ],
          "name": "stdout"
        }
      ]
    },
    {
      "cell_type": "markdown",
      "metadata": {
        "id": "haycG1UQxwqu",
        "colab_type": "text"
      },
      "source": [
        "What did you observe between these two Stemmers?"
      ]
    },
    {
      "cell_type": "markdown",
      "metadata": {
        "id": "4EOefH2RUZfO",
        "colab_type": "text"
      },
      "source": [
        "# Lemmatization: output is a root meaningful root word"
      ]
    },
    {
      "cell_type": "code",
      "metadata": {
        "id": "pORSj1HhUYlg",
        "colab_type": "code",
        "colab": {
          "base_uri": "https://localhost:8080/",
          "height": 52
        },
        "outputId": "9dbce689-7ffc-4738-dd35-d54f79509a08"
      },
      "source": [
        "from nltk.stem import wordnet\n",
        "\n",
        "import nltk\n",
        "nltk.download('wordnet')\n",
        "from nltk.stem import WordNetLemmatizer"
      ],
      "execution_count": 32,
      "outputs": [
        {
          "output_type": "stream",
          "text": [
            "[nltk_data] Downloading package wordnet to /root/nltk_data...\n",
            "[nltk_data]   Package wordnet is already up-to-date!\n"
          ],
          "name": "stdout"
        }
      ]
    },
    {
      "cell_type": "markdown",
      "metadata": {
        "id": "S3oPXQRuVTVS",
        "colab_type": "text"
      },
      "source": [
        "Example"
      ]
    },
    {
      "cell_type": "code",
      "metadata": {
        "id": "O9_MI9-gVWBZ",
        "colab_type": "code",
        "colab": {
          "base_uri": "https://localhost:8080/",
          "height": 34
        },
        "outputId": "3270e2d5-febe-460c-f543-3d8babbd1ac7"
      },
      "source": [
        "word_lem=WordNetLemmatizer()\n",
        "word_lem.lemmatize(\"corpora\")"
      ],
      "execution_count": 33,
      "outputs": [
        {
          "output_type": "execute_result",
          "data": {
            "text/plain": [
              "'corpus'"
            ]
          },
          "metadata": {
            "tags": []
          },
          "execution_count": 33
        }
      ]
    },
    {
      "cell_type": "markdown",
      "metadata": {
        "id": "NS4mD1oeWOZ5",
        "colab_type": "text"
      },
      "source": [
        "The difference between Stemming and Lemmatization"
      ]
    },
    {
      "cell_type": "code",
      "metadata": {
        "id": "AzeQLIg5WUtL",
        "colab_type": "code",
        "colab": {
          "base_uri": "https://localhost:8080/",
          "height": 34
        },
        "outputId": "aa9ec78a-5afd-4f33-edc3-f5525a4725b3"
      },
      "source": [
        "pst.stem(\"corpora\")"
      ],
      "execution_count": 34,
      "outputs": [
        {
          "output_type": "execute_result",
          "data": {
            "text/plain": [
              "'corpora'"
            ]
          },
          "metadata": {
            "tags": []
          },
          "execution_count": 34
        }
      ]
    },
    {
      "cell_type": "markdown",
      "metadata": {
        "id": "FOQjch1eWzFw",
        "colab_type": "text"
      },
      "source": [
        "How about this: give, giving, given, and gave?"
      ]
    },
    {
      "cell_type": "code",
      "metadata": {
        "id": "F4oAI61vW-aO",
        "colab_type": "code",
        "colab": {
          "base_uri": "https://localhost:8080/",
          "height": 193
        },
        "outputId": "d9b8248e-d3fc-421d-ff63-1ebffb707a47"
      },
      "source": [
        "myword_stem_list = [\"play\", \"playing\", \"played\", \"playful\",\n",
        "                    \"forgive\", \"forgiven\", \"forgivable\", \"forgiving\"]\n",
        "print(\"Results of using PorterStemmer\\n\" + 30*\"-\")\n",
        "for word in myword_stem_list:\n",
        "  print(word + \":\" + word_lem.lemmatize(word))"
      ],
      "execution_count": 35,
      "outputs": [
        {
          "output_type": "stream",
          "text": [
            "Results of using PorterStemmer\n",
            "------------------------------\n",
            "play:play\n",
            "playing:playing\n",
            "played:played\n",
            "playful:playful\n",
            "forgive:forgive\n",
            "forgiven:forgiven\n",
            "forgivable:forgivable\n",
            "forgiving:forgiving\n"
          ],
          "name": "stdout"
        }
      ]
    },
    {
      "cell_type": "markdown",
      "metadata": {
        "id": "w9zFmRExXPvd",
        "colab_type": "text"
      },
      "source": [
        "Reason: The Lemmatizer things all of them as nouns. We have to tell the Lemmatizer about the POS tags (Verbs, Noun, etc.)"
      ]
    },
    {
      "cell_type": "markdown",
      "metadata": {
        "id": "naSOOdbnbddu",
        "colab_type": "text"
      },
      "source": [
        "# Stopwords"
      ]
    },
    {
      "cell_type": "code",
      "metadata": {
        "id": "MKUKC_CpXdU0",
        "colab_type": "code",
        "colab": {
          "base_uri": "https://localhost:8080/",
          "height": 70
        },
        "outputId": "e3de8cdc-563e-4ad8-ad3d-525c13384f2a"
      },
      "source": [
        "# Get English stopwords and print some of them\n",
        "nltk.download('stopwords')\n"
      ],
      "execution_count": 36,
      "outputs": [
        {
          "output_type": "stream",
          "text": [
            "[nltk_data] Downloading package stopwords to /root/nltk_data...\n",
            "[nltk_data]   Unzipping corpora/stopwords.zip.\n"
          ],
          "name": "stdout"
        },
        {
          "output_type": "execute_result",
          "data": {
            "text/plain": [
              "True"
            ]
          },
          "metadata": {
            "tags": []
          },
          "execution_count": 36
        }
      ]
    },
    {
      "cell_type": "code",
      "metadata": {
        "id": "Nll_uqf6brPJ",
        "colab_type": "code",
        "colab": {
          "base_uri": "https://localhost:8080/",
          "height": 3167
        },
        "outputId": "34727270-9905-422f-d4a9-842df09c75ba"
      },
      "source": [
        "sw = nltk.corpus.stopwords.words('english') \n",
        "sw #list of all the stopwords in English language"
      ],
      "execution_count": 37,
      "outputs": [
        {
          "output_type": "execute_result",
          "data": {
            "text/plain": [
              "['i',\n",
              " 'me',\n",
              " 'my',\n",
              " 'myself',\n",
              " 'we',\n",
              " 'our',\n",
              " 'ours',\n",
              " 'ourselves',\n",
              " 'you',\n",
              " \"you're\",\n",
              " \"you've\",\n",
              " \"you'll\",\n",
              " \"you'd\",\n",
              " 'your',\n",
              " 'yours',\n",
              " 'yourself',\n",
              " 'yourselves',\n",
              " 'he',\n",
              " 'him',\n",
              " 'his',\n",
              " 'himself',\n",
              " 'she',\n",
              " \"she's\",\n",
              " 'her',\n",
              " 'hers',\n",
              " 'herself',\n",
              " 'it',\n",
              " \"it's\",\n",
              " 'its',\n",
              " 'itself',\n",
              " 'they',\n",
              " 'them',\n",
              " 'their',\n",
              " 'theirs',\n",
              " 'themselves',\n",
              " 'what',\n",
              " 'which',\n",
              " 'who',\n",
              " 'whom',\n",
              " 'this',\n",
              " 'that',\n",
              " \"that'll\",\n",
              " 'these',\n",
              " 'those',\n",
              " 'am',\n",
              " 'is',\n",
              " 'are',\n",
              " 'was',\n",
              " 'were',\n",
              " 'be',\n",
              " 'been',\n",
              " 'being',\n",
              " 'have',\n",
              " 'has',\n",
              " 'had',\n",
              " 'having',\n",
              " 'do',\n",
              " 'does',\n",
              " 'did',\n",
              " 'doing',\n",
              " 'a',\n",
              " 'an',\n",
              " 'the',\n",
              " 'and',\n",
              " 'but',\n",
              " 'if',\n",
              " 'or',\n",
              " 'because',\n",
              " 'as',\n",
              " 'until',\n",
              " 'while',\n",
              " 'of',\n",
              " 'at',\n",
              " 'by',\n",
              " 'for',\n",
              " 'with',\n",
              " 'about',\n",
              " 'against',\n",
              " 'between',\n",
              " 'into',\n",
              " 'through',\n",
              " 'during',\n",
              " 'before',\n",
              " 'after',\n",
              " 'above',\n",
              " 'below',\n",
              " 'to',\n",
              " 'from',\n",
              " 'up',\n",
              " 'down',\n",
              " 'in',\n",
              " 'out',\n",
              " 'on',\n",
              " 'off',\n",
              " 'over',\n",
              " 'under',\n",
              " 'again',\n",
              " 'further',\n",
              " 'then',\n",
              " 'once',\n",
              " 'here',\n",
              " 'there',\n",
              " 'when',\n",
              " 'where',\n",
              " 'why',\n",
              " 'how',\n",
              " 'all',\n",
              " 'any',\n",
              " 'both',\n",
              " 'each',\n",
              " 'few',\n",
              " 'more',\n",
              " 'most',\n",
              " 'other',\n",
              " 'some',\n",
              " 'such',\n",
              " 'no',\n",
              " 'nor',\n",
              " 'not',\n",
              " 'only',\n",
              " 'own',\n",
              " 'same',\n",
              " 'so',\n",
              " 'than',\n",
              " 'too',\n",
              " 'very',\n",
              " 's',\n",
              " 't',\n",
              " 'can',\n",
              " 'will',\n",
              " 'just',\n",
              " 'don',\n",
              " \"don't\",\n",
              " 'should',\n",
              " \"should've\",\n",
              " 'now',\n",
              " 'd',\n",
              " 'll',\n",
              " 'm',\n",
              " 'o',\n",
              " 're',\n",
              " 've',\n",
              " 'y',\n",
              " 'ain',\n",
              " 'aren',\n",
              " \"aren't\",\n",
              " 'couldn',\n",
              " \"couldn't\",\n",
              " 'didn',\n",
              " \"didn't\",\n",
              " 'doesn',\n",
              " \"doesn't\",\n",
              " 'hadn',\n",
              " \"hadn't\",\n",
              " 'hasn',\n",
              " \"hasn't\",\n",
              " 'haven',\n",
              " \"haven't\",\n",
              " 'isn',\n",
              " \"isn't\",\n",
              " 'ma',\n",
              " 'mightn',\n",
              " \"mightn't\",\n",
              " 'mustn',\n",
              " \"mustn't\",\n",
              " 'needn',\n",
              " \"needn't\",\n",
              " 'shan',\n",
              " \"shan't\",\n",
              " 'shouldn',\n",
              " \"shouldn't\",\n",
              " 'wasn',\n",
              " \"wasn't\",\n",
              " 'weren',\n",
              " \"weren't\",\n",
              " 'won',\n",
              " \"won't\",\n",
              " 'wouldn',\n",
              " \"wouldn't\"]"
            ]
          },
          "metadata": {
            "tags": []
          },
          "execution_count": 37
        }
      ]
    },
    {
      "cell_type": "code",
      "metadata": {
        "id": "qt39e3O7bvlP",
        "colab_type": "code",
        "colab": {
          "base_uri": "https://localhost:8080/",
          "height": 34
        },
        "outputId": "da7d4e2b-7050-473a-906b-3b410b3a5359"
      },
      "source": [
        "len(sw)"
      ],
      "execution_count": 38,
      "outputs": [
        {
          "output_type": "execute_result",
          "data": {
            "text/plain": [
              "179"
            ]
          },
          "metadata": {
            "tags": []
          },
          "execution_count": 38
        }
      ]
    },
    {
      "cell_type": "markdown",
      "metadata": {
        "id": "ooVorrS3c9mb",
        "colab_type": "text"
      },
      "source": [
        "Puntuations: "
      ]
    },
    {
      "cell_type": "code",
      "metadata": {
        "id": "lAbBCUeXcGpK",
        "colab_type": "code",
        "colab": {}
      },
      "source": [
        "import re\n",
        "punctuation = re.compile(r'[-.?!,:;()|0-9]')"
      ],
      "execution_count": 0,
      "outputs": []
    },
    {
      "cell_type": "markdown",
      "metadata": {
        "id": "IJc3r3qOeWin",
        "colab_type": "text"
      },
      "source": [
        "Get new data from # Store url\n",
        "url = 'https://www.gutenberg.org/files/2701/2701-h/2701-h.htm'"
      ]
    },
    {
      "cell_type": "code",
      "metadata": {
        "id": "xF-8lkxpebUd",
        "colab_type": "code",
        "colab": {}
      },
      "source": [
        "# Store url\n",
        "url = 'https://www.gutenberg.org/files/2701/2701-h/2701-h.htm'"
      ],
      "execution_count": 0,
      "outputs": []
    },
    {
      "cell_type": "code",
      "metadata": {
        "id": "vusz3PhQenzU",
        "colab_type": "code",
        "colab": {
          "base_uri": "https://localhost:8080/",
          "height": 34
        },
        "outputId": "339dc17a-c996-4bd6-9a83-b7b809db6cef"
      },
      "source": [
        "# Import `requests`\n",
        "import requests\n",
        "\n",
        "# Make the request and check object type\n",
        "r = requests.get(url)\n",
        "type(r)"
      ],
      "execution_count": 41,
      "outputs": [
        {
          "output_type": "execute_result",
          "data": {
            "text/plain": [
              "requests.models.Response"
            ]
          },
          "metadata": {
            "tags": []
          },
          "execution_count": 41
        }
      ]
    },
    {
      "cell_type": "code",
      "metadata": {
        "id": "OEyODyFvetnd",
        "colab_type": "code",
        "colab": {}
      },
      "source": [
        "# Extract HTML from Response object and print\n",
        "html = r.text\n",
        "#print(html)"
      ],
      "execution_count": 0,
      "outputs": []
    },
    {
      "cell_type": "code",
      "metadata": {
        "id": "2x3iSw9De330",
        "colab_type": "code",
        "colab": {
          "base_uri": "https://localhost:8080/",
          "height": 34
        },
        "outputId": "1460762c-85e4-4b3b-d2a2-d3dde7394f6b"
      },
      "source": [
        "# Import BeautifulSoup from bs4\n",
        "from bs4 import BeautifulSoup\n",
        "\n",
        "\n",
        "# Create a BeautifulSoup object from the HTML\n",
        "soup = BeautifulSoup(html, \"html5lib\")\n",
        "type(soup)"
      ],
      "execution_count": 43,
      "outputs": [
        {
          "output_type": "execute_result",
          "data": {
            "text/plain": [
              "bs4.BeautifulSoup"
            ]
          },
          "metadata": {
            "tags": []
          },
          "execution_count": 43
        }
      ]
    },
    {
      "cell_type": "code",
      "metadata": {
        "id": "sJ-QfpmFe811",
        "colab_type": "code",
        "colab": {
          "base_uri": "https://localhost:8080/",
          "height": 70
        },
        "outputId": "5d8993c3-0666-46b8-d4fe-3bc5ea9d7f50"
      },
      "source": [
        "# Get soup title\n",
        "soup.title"
      ],
      "execution_count": 44,
      "outputs": [
        {
          "output_type": "execute_result",
          "data": {
            "text/plain": [
              "<title>\n",
              "      Moby Dick; Or the Whale, by Herman Melville\n",
              "    </title>"
            ]
          },
          "metadata": {
            "tags": []
          },
          "execution_count": 44
        }
      ]
    },
    {
      "cell_type": "code",
      "metadata": {
        "id": "Ai_yNk_dfBHN",
        "colab_type": "code",
        "colab": {
          "base_uri": "https://localhost:8080/",
          "height": 34
        },
        "outputId": "34482323-3748-4dd8-cd56-feaa253016e7"
      },
      "source": [
        "# Get soup title as string\n",
        "soup.title.string"
      ],
      "execution_count": 45,
      "outputs": [
        {
          "output_type": "execute_result",
          "data": {
            "text/plain": [
              "'\\n      Moby Dick; Or the Whale, by Herman Melville\\n    '"
            ]
          },
          "metadata": {
            "tags": []
          },
          "execution_count": 45
        }
      ]
    },
    {
      "cell_type": "code",
      "metadata": {
        "id": "t-5NuizUfIwK",
        "colab_type": "code",
        "colab": {}
      },
      "source": [
        "# Get the text out of the soup and print it\n",
        "text = soup.get_text()\n",
        "#print(text) # It has the entire corpus of the book - Moby Dick; Or the Whale, by Herman Melville"
      ],
      "execution_count": 0,
      "outputs": []
    },
    {
      "cell_type": "code",
      "metadata": {
        "id": "RF6kDzC9gduk",
        "colab_type": "code",
        "colab": {
          "base_uri": "https://localhost:8080/",
          "height": 52
        },
        "outputId": "9d99acda-f8f3-4d7c-fc46-4a4724fb9d33"
      },
      "source": [
        "#[1] Tokenize data\n",
        "\n",
        "nltk.download('punkt')\n",
        "from nltk.tokenize import word_tokenize\n"
      ],
      "execution_count": 47,
      "outputs": [
        {
          "output_type": "stream",
          "text": [
            "[nltk_data] Downloading package punkt to /root/nltk_data...\n",
            "[nltk_data]   Package punkt is already up-to-date!\n"
          ],
          "name": "stdout"
        }
      ]
    },
    {
      "cell_type": "code",
      "metadata": {
        "id": "Xp_oqBLUhyBz",
        "colab_type": "code",
        "colab": {
          "base_uri": "https://localhost:8080/",
          "height": 34
        },
        "outputId": "d3b50a12-10b1-4976-d6b6-b44dba08b11f"
      },
      "source": [
        "# Import RegexpTokenizer from nltk.tokenize\n",
        "from nltk.tokenize import RegexpTokenizer\n",
        "\n",
        "# Create tokenizer\n",
        "tokenizer = RegexpTokenizer('\\w+') #'\\w+' will match arbitrary sequences of alphanumeric characters and underscores.\n",
        "\n",
        "\n",
        "\n",
        "# Create tokens\n",
        "tokens = tokenizer.tokenize(text)\n",
        "tokens[:8]\n"
      ],
      "execution_count": 48,
      "outputs": [
        {
          "output_type": "execute_result",
          "data": {
            "text/plain": [
              "['ï', 'Moby', 'Dick', 'Or', 'the', 'Whale', 'by', 'Herman']"
            ]
          },
          "metadata": {
            "tags": []
          },
          "execution_count": 48
        }
      ]
    },
    {
      "cell_type": "code",
      "metadata": {
        "id": "29OoPikKkjBH",
        "colab_type": "code",
        "colab": {
          "base_uri": "https://localhost:8080/",
          "height": 34
        },
        "outputId": "d7d694dd-85aa-40e1-9440-0c5013b4ae8e"
      },
      "source": [
        "len(tokens)"
      ],
      "execution_count": 49,
      "outputs": [
        {
          "output_type": "execute_result",
          "data": {
            "text/plain": [
              "222857"
            ]
          },
          "metadata": {
            "tags": []
          },
          "execution_count": 49
        }
      ]
    },
    {
      "cell_type": "markdown",
      "metadata": {
        "id": "6HjJ2sC7lA28",
        "colab_type": "text"
      },
      "source": [
        "**NOTE**: What are the most frequent words in the novel Moby Dick and how often do they occur?"
      ]
    },
    {
      "cell_type": "code",
      "metadata": {
        "id": "3F-AOJvRgGtD",
        "colab_type": "code",
        "colab": {
          "base_uri": "https://localhost:8080/",
          "height": 193
        },
        "outputId": "13c482e7-a18d-45f9-a952-37eccaa95d1f"
      },
      "source": [
        "from nltk.probability import FreqDist\n",
        "\n",
        "\n",
        "## Loop through list tokens and make lower case\n",
        "words = []\n",
        "for word in tokens:\n",
        "    words.append(word.lower())\n",
        "\n",
        "fdist1 = FreqDist(words)\n",
        "\n",
        "#fdist\n",
        "fdist_top10 = fdist1.most_common(10)\n",
        "fdist_top10\n",
        "\n",
        "\n"
      ],
      "execution_count": 50,
      "outputs": [
        {
          "output_type": "execute_result",
          "data": {
            "text/plain": [
              "[('the', 14716),\n",
              " ('of', 6742),\n",
              " ('and', 6517),\n",
              " ('a', 4808),\n",
              " ('to', 4707),\n",
              " ('in', 4241),\n",
              " ('that', 3100),\n",
              " ('it', 2536),\n",
              " ('his', 2532),\n",
              " ('i', 2127)]"
            ]
          },
          "metadata": {
            "tags": []
          },
          "execution_count": 50
        }
      ]
    },
    {
      "cell_type": "code",
      "metadata": {
        "id": "_LNHIuCtjFOz",
        "colab_type": "code",
        "colab": {}
      },
      "source": [
        "#[2] Step 2: Remove stop words\n",
        "# Import nltk\n",
        "import nltk\n",
        "\n",
        "# Get English stopwords and print some of them\n",
        "sw = nltk.corpus.stopwords.words('english')"
      ],
      "execution_count": 0,
      "outputs": []
    },
    {
      "cell_type": "code",
      "metadata": {
        "id": "a4exock3kbZZ",
        "colab_type": "code",
        "colab": {
          "base_uri": "https://localhost:8080/",
          "height": 34
        },
        "outputId": "b633b844-f56b-4301-ddde-533b90847f46"
      },
      "source": [
        "# Initialize new list\n",
        "words_ns = []\n",
        "\n",
        "# Add to words_ns all words that are in words but not in sw\n",
        "for word in words:\n",
        "    if word not in sw:\n",
        "        words_ns.append(word)\n",
        "        \n",
        "# Print several list items as sanity check\n",
        "words_ns[:8]"
      ],
      "execution_count": 52,
      "outputs": [
        {
          "output_type": "execute_result",
          "data": {
            "text/plain": [
              "['ï', 'moby', 'dick', 'whale', 'herman', 'melville', 'body', 'background']"
            ]
          },
          "metadata": {
            "tags": []
          },
          "execution_count": 52
        }
      ]
    },
    {
      "cell_type": "markdown",
      "metadata": {
        "id": "pvlt5t79lZoo",
        "colab_type": "text"
      },
      "source": [
        "NOTE: After removal of Stopwords, What are the most frequent words in the novel Moby Dick and how often do they occur?"
      ]
    },
    {
      "cell_type": "code",
      "metadata": {
        "id": "Oava_6taku0D",
        "colab_type": "code",
        "colab": {
          "base_uri": "https://localhost:8080/",
          "height": 34
        },
        "outputId": "c4e09237-7a5c-4921-db3f-640a0bbdf808"
      },
      "source": [
        "len(words_ns) # Compare the lengths of the tokens now"
      ],
      "execution_count": 53,
      "outputs": [
        {
          "output_type": "execute_result",
          "data": {
            "text/plain": [
              "113442"
            ]
          },
          "metadata": {
            "tags": []
          },
          "execution_count": 53
        }
      ]
    },
    {
      "cell_type": "code",
      "metadata": {
        "id": "r5uaqduhltFH",
        "colab_type": "code",
        "colab": {
          "base_uri": "https://localhost:8080/",
          "height": 193
        },
        "outputId": "187ebd98-9bae-4027-d72f-a48578059fde"
      },
      "source": [
        "from nltk.probability import FreqDist\n",
        "fdist_words_ns = FreqDist() # create a frequency distribution object\n",
        "\n",
        "# Create freq dist and plot\n",
        "freqdist_words_ns = nltk.FreqDist(words_ns)\n",
        "\n",
        "#fdist_words_ns\n",
        "fdist_words_ns_top10 = freqdist_words_ns.most_common(10)\n",
        "fdist_words_ns_top10"
      ],
      "execution_count": 54,
      "outputs": [
        {
          "output_type": "execute_result",
          "data": {
            "text/plain": [
              "[('whale', 1246),\n",
              " ('one', 925),\n",
              " ('like', 647),\n",
              " ('upon', 568),\n",
              " ('man', 527),\n",
              " ('ship', 519),\n",
              " ('ahab', 517),\n",
              " ('ye', 473),\n",
              " ('sea', 455),\n",
              " ('old', 452)]"
            ]
          },
          "metadata": {
            "tags": []
          },
          "execution_count": 54
        }
      ]
    },
    {
      "cell_type": "code",
      "metadata": {
        "id": "2y2eeIjVmfQ0",
        "colab_type": "code",
        "colab": {
          "base_uri": "https://localhost:8080/",
          "height": 657
        },
        "outputId": "ff25f84a-1ba9-47e6-af35-3396c9c89e10"
      },
      "source": [
        "# use the plot() method of the resulting object.\n",
        "#Import datavis libraries\n",
        "import matplotlib.pyplot as plt\n",
        "import seaborn as sns\n",
        "\n",
        "# Figures inline and set visualization style\n",
        "%matplotlib inline \n",
        "sns.set()\n",
        "\n",
        "print(\"Before removal of stopwords\")\n",
        "fdist1.plot(25)\n",
        "\n",
        "print(\"After removal of stopwords\")\n",
        "freqdist_words_ns.plot(25)\n",
        "\n"
      ],
      "execution_count": 55,
      "outputs": [
        {
          "output_type": "stream",
          "text": [
            "Before removal of stopwords\n"
          ],
          "name": "stdout"
        },
        {
          "output_type": "display_data",
          "data": {
            "image/png": "[encoded data removed]",
            "text/plain": [
              "<Figure size 432x288 with 1 Axes>"
            ]
          },
          "metadata": {
            "tags": []
          }
        },
        {
          "output_type": "stream",
          "text": [
            "After removal of stopwords\n"
          ],
          "name": "stdout"
        },
        {
          "output_type": "display_data",
          "data": {
            "image/png": "[encoded data removed]",
            "text/plain": [
              "<Figure size 432x288 with 1 Axes>"
            ]
          },
          "metadata": {
            "tags": []
          }
        }
      ]
    },
    {
      "cell_type": "code",
      "metadata": {
        "id": "ZXB-1EhEdbBh",
        "colab_type": "code",
        "colab": {}
      },
      "source": [
        "# remove puntuations\n",
        "import re\n",
        "pun = re.compile(r'[-.?!,:;()|0-9]')\n",
        "pos_pun = []\n",
        "\n",
        "for words in words_ns:\n",
        "  word=pun.sub(\"\", words)\n",
        "  if len(word)>0:\n",
        "    pos_pun.append(word)"
      ],
      "execution_count": 0,
      "outputs": []
    },
    {
      "cell_type": "code",
      "metadata": {
        "id": "zjvx6XpBrXrD",
        "colab_type": "code",
        "colab": {
          "base_uri": "https://localhost:8080/",
          "height": 34
        },
        "outputId": "879fb02b-5d1b-4288-c277-16fea29194c8"
      },
      "source": [
        "len(pos_pun)"
      ],
      "execution_count": 57,
      "outputs": [
        {
          "output_type": "execute_result",
          "data": {
            "text/plain": [
              "112925"
            ]
          },
          "metadata": {
            "tags": []
          },
          "execution_count": 57
        }
      ]
    },
    {
      "cell_type": "code",
      "metadata": {
        "id": "MmilXRWxrg6Q",
        "colab_type": "code",
        "colab": {
          "base_uri": "https://localhost:8080/",
          "height": 354
        },
        "outputId": "cc5a0d4d-5bc4-4106-f9ae-82a081f4fe84"
      },
      "source": [
        "# Create freq dist and plot\n",
        "freqdist_words_nsp = nltk.FreqDist(pos_pun)\n",
        "print(\"After removal of stopwords and punctuations\")\n",
        "freqdist_words_nsp.plot(50)"
      ],
      "execution_count": 58,
      "outputs": [
        {
          "output_type": "stream",
          "text": [
            "After removal of stopwords and punctuations\n"
          ],
          "name": "stdout"
        },
        {
          "output_type": "display_data",
          "data": {
            "image/png": "[encoded data removed]",
            "text/plain": [
              "<Figure size 432x288 with 1 Axes>"
            ]
          },
          "metadata": {
            "tags": []
          }
        }
      ]
    },
    {
      "cell_type": "markdown",
      "metadata": {
        "id": "WMIpXgV40pln",
        "colab_type": "text"
      },
      "source": [
        "# POS"
      ]
    },
    {
      "cell_type": "code",
      "metadata": {
        "id": "tLVGjUHe0sCV",
        "colab_type": "code",
        "colab": {}
      },
      "source": [
        "import nltk\n",
        "nltk.download('averaged_perceptron_tagger')"
      ],
      "execution_count": 0,
      "outputs": []
    },
    {
      "cell_type": "markdown",
      "metadata": {
        "id": "X_LpumjkNXRX",
        "colab_type": "text"
      },
      "source": [
        "Example 1"
      ]
    },
    {
      "cell_type": "code",
      "metadata": {
        "id": "DH3Rkj5VL6Je",
        "colab_type": "code",
        "colab": {
          "base_uri": "https://localhost:8080/",
          "height": 386
        },
        "outputId": "b8634e67-deee-4085-be50-71597f29b0d1"
      },
      "source": [
        "sentence = \"He was running and eating at same time. He has bad habit of swimming after playing long hours in the Sun.\"\n",
        "\n",
        "# Remove puntuations\n",
        "punctuations=\"?:!.,;\"\n",
        "sentence_words = nltk.word_tokenize(sentence)\n",
        "for word in sentence_words:\n",
        "    if word in punctuations:\n",
        "        sentence_words.remove(word)\n",
        "\n",
        "sentence_words\n",
        "\n",
        "tokens = sentence_words #word_tokenize([sentence_words])\n",
        "\n",
        "for token in tokens:\n",
        "  print(nltk.pos_tag([token]))"
      ],
      "execution_count": 67,
      "outputs": [
        {
          "output_type": "stream",
          "text": [
            "[('He', 'PRP')]\n",
            "[('was', 'VBD')]\n",
            "[('running', 'VBG')]\n",
            "[('and', 'CC')]\n",
            "[('eating', 'VBG')]\n",
            "[('at', 'IN')]\n",
            "[('same', 'JJ')]\n",
            "[('time', 'NN')]\n",
            "[('He', 'PRP')]\n",
            "[('has', 'VBZ')]\n",
            "[('bad', 'JJ')]\n",
            "[('habit', 'NN')]\n",
            "[('of', 'IN')]\n",
            "[('swimming', 'VBG')]\n",
            "[('after', 'IN')]\n",
            "[('playing', 'VBG')]\n",
            "[('long', 'RB')]\n",
            "[('hours', 'NNS')]\n",
            "[('in', 'IN')]\n",
            "[('the', 'DT')]\n",
            "[('Sun', 'NNP')]\n"
          ],
          "name": "stdout"
        }
      ]
    },
    {
      "cell_type": "markdown",
      "metadata": {
        "id": "IcvfVZC4NZ88",
        "colab_type": "text"
      },
      "source": [
        "Example 2"
      ]
    },
    {
      "cell_type": "code",
      "metadata": {
        "id": "Z_MRze0ZNbjl",
        "colab_type": "code",
        "colab": {}
      },
      "source": [
        ""
      ],
      "execution_count": 0,
      "outputs": []
    }
  ]
}